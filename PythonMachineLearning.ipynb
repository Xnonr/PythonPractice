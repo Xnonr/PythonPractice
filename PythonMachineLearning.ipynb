{
 "cells": [
  {
   "cell_type": "code",
   "execution_count": 131,
   "id": "4bcad178",
   "metadata": {
    "collapsed": true
   },
   "outputs": [
    {
     "name": "stdout",
     "output_type": "stream",
     "text": [
      "Collecting mlxtend\n",
      "  Downloading mlxtend-0.20.0-py2.py3-none-any.whl (1.3 MB)\n",
      "\u001b[2K     \u001b[90m━━━━━━━━━━━━━━━━━━━━━━━━━━━━━━━━━━━━━━━━\u001b[0m \u001b[32m1.3/1.3 MB\u001b[0m \u001b[31m825.0 kB/s\u001b[0m eta \u001b[36m0:00:00\u001b[0m00:01\u001b[0m00:01\u001b[0m\n",
      "\u001b[?25hRequirement already satisfied: numpy>=1.16.2 in /Library/Frameworks/Python.framework/Versions/3.10/lib/python3.10/site-packages (from mlxtend) (1.22.4)\n",
      "Requirement already satisfied: scipy>=1.2.1 in /Library/Frameworks/Python.framework/Versions/3.10/lib/python3.10/site-packages (from mlxtend) (1.8.1)\n",
      "Requirement already satisfied: scikit-learn>=1.0.2 in /Library/Frameworks/Python.framework/Versions/3.10/lib/python3.10/site-packages (from mlxtend) (1.1.1)\n",
      "Requirement already satisfied: pandas>=0.24.2 in /Library/Frameworks/Python.framework/Versions/3.10/lib/python3.10/site-packages (from mlxtend) (1.4.2)\n",
      "Requirement already satisfied: joblib>=0.13.2 in /Library/Frameworks/Python.framework/Versions/3.10/lib/python3.10/site-packages (from mlxtend) (1.1.0)\n",
      "Requirement already satisfied: matplotlib>=3.0.0 in /Library/Frameworks/Python.framework/Versions/3.10/lib/python3.10/site-packages (from mlxtend) (3.5.2)\n",
      "Requirement already satisfied: setuptools in /Library/Frameworks/Python.framework/Versions/3.10/lib/python3.10/site-packages (from mlxtend) (58.1.0)\n",
      "Requirement already satisfied: pillow>=6.2.0 in /Library/Frameworks/Python.framework/Versions/3.10/lib/python3.10/site-packages (from matplotlib>=3.0.0->mlxtend) (9.1.1)\n",
      "Requirement already satisfied: fonttools>=4.22.0 in /Library/Frameworks/Python.framework/Versions/3.10/lib/python3.10/site-packages (from matplotlib>=3.0.0->mlxtend) (4.33.3)\n",
      "Requirement already satisfied: python-dateutil>=2.7 in /Library/Frameworks/Python.framework/Versions/3.10/lib/python3.10/site-packages (from matplotlib>=3.0.0->mlxtend) (2.8.2)\n",
      "Requirement already satisfied: packaging>=20.0 in /Library/Frameworks/Python.framework/Versions/3.10/lib/python3.10/site-packages (from matplotlib>=3.0.0->mlxtend) (21.3)\n",
      "Requirement already satisfied: pyparsing>=2.2.1 in /Library/Frameworks/Python.framework/Versions/3.10/lib/python3.10/site-packages (from matplotlib>=3.0.0->mlxtend) (3.0.9)\n",
      "Requirement already satisfied: kiwisolver>=1.0.1 in /Library/Frameworks/Python.framework/Versions/3.10/lib/python3.10/site-packages (from matplotlib>=3.0.0->mlxtend) (1.4.2)\n",
      "Requirement already satisfied: cycler>=0.10 in /Library/Frameworks/Python.framework/Versions/3.10/lib/python3.10/site-packages (from matplotlib>=3.0.0->mlxtend) (0.11.0)\n",
      "Requirement already satisfied: pytz>=2020.1 in /Library/Frameworks/Python.framework/Versions/3.10/lib/python3.10/site-packages (from pandas>=0.24.2->mlxtend) (2022.1)\n",
      "Requirement already satisfied: threadpoolctl>=2.0.0 in /Library/Frameworks/Python.framework/Versions/3.10/lib/python3.10/site-packages (from scikit-learn>=1.0.2->mlxtend) (3.1.0)\n",
      "Requirement already satisfied: six>=1.5 in /Library/Frameworks/Python.framework/Versions/3.10/lib/python3.10/site-packages (from python-dateutil>=2.7->matplotlib>=3.0.0->mlxtend) (1.16.0)\n",
      "Installing collected packages: mlxtend\n",
      "Successfully installed mlxtend-0.20.0\n",
      "\u001b[33mWARNING: You are using pip version 22.0.4; however, version 22.1.2 is available.\n",
      "You should consider upgrading via the '/Library/Frameworks/Python.framework/Versions/3.10/bin/python3.10 -m pip install --upgrade pip' command.\u001b[0m\u001b[33m\n",
      "\u001b[0m"
     ]
    }
   ],
   "source": [
    "#!pip3 install mlxtend"
   ]
  },
  {
   "cell_type": "code",
   "execution_count": 199,
   "id": "ddb59fa8",
   "metadata": {},
   "outputs": [],
   "source": [
    "import numpy as np\n",
    "import pandas as pd\n",
    "import matplotlib.pyplot as plt\n",
    "import seaborn as sb\n",
    "import scipy\n",
    "import sklearn\n",
    "import urllib.request\n",
    "\n",
    "from collections import Counter\n",
    "from IPython.display import Image\n",
    "from IPython.core.display import HTML\n",
    "from mlxtend.frequent_patterns import apriori\n",
    "from mlxtend.frequent_patterns import association_rules\n",
    "from mpl_toolkits.mplot3d import Axes3D\n",
    "from pylab import rcParams\n",
    "from scipy.cluster.hierarchy import dendrogram, linkage\n",
    "from scipy.cluster.hierarchy import fcluster\n",
    "from scipy.cluster.hierarchy import cophenet\n",
    "from scipy.spatial.distance import pdist\n",
    "from sklearn import datasets\n",
    "from sklearn import decomposition\n",
    "from sklearn import metrics\n",
    "from sklearn import neighbors\n",
    "from sklearn import preprocessing\n",
    "from sklearn.cluster import AgglomerativeClustering\n",
    "from sklearn.cluster import DBSCAN\n",
    "from sklearn.cluster import KMeans\n",
    "from sklearn.decomposition import FactorAnalysis\n",
    "from sklearn.decomposition import PCA\n",
    "from sklearn.ensemble import RandomForestClassifier\n",
    "from sklearn.linear_model import LinearRegression\n",
    "from sklearn.linear_model import LogisticRegression\n",
    "from sklearn.linear_model import Perceptron\n",
    "from sklearn.metrics import accuracy_score\n",
    "from sklearn.metrics import classification_report\n",
    "from sklearn.metrics import confusion_matrix\n",
    "from sklearn.metrics import precision_score, recall_score\n",
    "from sklearn.model_selection import train_test_split\n",
    "from sklearn.model_selection import cross_val_predict\n",
    "from sklearn.naive_bayes import BernoulliNB\n",
    "from sklearn.naive_bayes import GaussianNB\n",
    "from sklearn.naive_bayes import MultinomialNB\n",
    "from sklearn.neighbors import KNeighborsClassifier\n",
    "from sklearn.preprocessing import LabelEncoder\n",
    "from sklearn.preprocessing import OneHotEncoder\n",
    "from sklearn.preprocessing import scale\n",
    "from sklearn.preprocessing import StandardScaler"
   ]
  },
  {
   "cell_type": "code",
   "execution_count": 11,
   "id": "85b8ea16",
   "metadata": {},
   "outputs": [],
   "source": [
    "# Formating the positioning, size and shape of plotted graphs\n",
    "%matplotlib inline\n",
    "rcParams['figure.figsize'] = 10, 8\n",
    "\n",
    "sb.set_style('whitegrid')\n",
    "\n",
    "# Limiting "
   ]
  },
  {
   "cell_type": "code",
   "execution_count": 3,
   "id": "21953448",
   "metadata": {},
   "outputs": [
    {
     "name": "stdout",
     "output_type": "stream",
     "text": [
      "[[3.19844476]\n",
      " [3.13511423]\n",
      " [4.52825091]\n",
      " [4.52242882]\n",
      " [4.00756734]\n",
      " [4.39570214]\n",
      " [4.299469  ]\n",
      " [4.70054773]\n",
      " [3.81637231]]\n"
     ]
    }
   ],
   "source": [
    "# Generating synthetic data representing the number of rooms in a hypothetical home\n",
    "rooms = 2 * np.random.rand(100, 1) + 3\n",
    "\n",
    "print(rooms[1:10])"
   ]
  },
  {
   "cell_type": "code",
   "execution_count": 5,
   "id": "27e99d0d",
   "metadata": {},
   "outputs": [
    {
     "name": "stdout",
     "output_type": "stream",
     "text": [
      "[[284.44020281]\n",
      " [284.66618791]\n",
      " [292.71150429]\n",
      " [292.65553657]\n",
      " [289.08000165]\n",
      " [291.52907954]\n",
      " [290.83302597]\n",
      " [293.38166906]\n",
      " [288.88924248]]\n"
     ]
    }
   ],
   "source": [
    "# Generating synthetic data representing the price of a hypothetical home\n",
    "price = 265 + 6 * rooms + abs(np.random.rand(100, 1))\n",
    "\n",
    "print(price[1:10])"
   ]
  },
  {
   "cell_type": "code",
   "execution_count": 6,
   "id": "b1c8ee3d",
   "metadata": {},
   "outputs": [
    {
     "data": {
      "text/plain": [
       "Text(0, 0.5, 'Average Home Price (1000s USD)')"
      ]
     },
     "execution_count": 6,
     "metadata": {},
     "output_type": "execute_result"
    },
    {
     "data": {
      "image/png": "[encoded data removed]",
      "text/plain": [
       "<Figure size 720x576 with 1 Axes>"
      ]
     },
     "metadata": {
      "needs_background": "light"
     },
     "output_type": "display_data"
    }
   ],
   "source": [
    "# Plotting a point plot to display the relationship between the number of rooms and the price of a house\n",
    "# 'r^': Indicates that a point plot is desired\n",
    "plt.plot(rooms, price, 'r^')\n",
    "plt.xlabel('# of Rooms')\n",
    "plt.ylabel('Average Home Price (1000s USD)')"
   ]
  },
  {
   "cell_type": "code",
   "execution_count": 8,
   "id": "009c6bbe",
   "metadata": {},
   "outputs": [
    {
     "name": "stdout",
     "output_type": "stream",
     "text": [
      "[265.70290914] [[5.94419148]]\n"
     ]
    }
   ],
   "source": [
    "# Simple Algebra\n",
    "# Simple Linear Regression\n",
    "# Assumptions:\n",
    "# 1. All variable continous numeric, not categorical\n",
    "# 2. Data free of missing variables or outliers\n",
    "# 3. Linear relationship present between predictors and predictant\n",
    "# 4. All predictors independent from one another\n",
    "# 5. Residuals (prediction errors) normally distributed\n",
    "\n",
    "# y = mx + b\n",
    "# b = intercept = 265\n",
    "\n",
    "x = rooms\n",
    "y = price\n",
    "\n",
    "# Carrying out linear regression on the synthesized data in order to create a model equation\n",
    "LinReg = LinearRegression()\n",
    "LinReg.fit(x, y)\n",
    "\n",
    "print(LinReg.intercept_, LinReg.coef_)"
   ]
  },
  {
   "cell_type": "code",
   "execution_count": 9,
   "id": "e2acc6b5",
   "metadata": {},
   "outputs": [
    {
     "name": "stdout",
     "output_type": "stream",
     "text": [
      "0.9928532965515178\n"
     ]
    }
   ],
   "source": [
    "# Calculating R Squared\n",
    "# Portrays how well the model performed\n",
    "print(LinReg.score(x, y))"
   ]
  },
  {
   "cell_type": "code",
   "execution_count": 31,
   "id": "feaf1235",
   "metadata": {},
   "outputs": [
    {
     "data": {
      "text/html": [
       "<div>\n",
       "<style scoped>\n",
       "    .dataframe tbody tr th:only-of-type {\n",
       "        vertical-align: middle;\n",
       "    }\n",
       "\n",
       "    .dataframe tbody tr th {\n",
       "        vertical-align: top;\n",
       "    }\n",
       "\n",
       "    .dataframe thead th {\n",
       "        text-align: right;\n",
       "    }\n",
       "</style>\n",
       "<table border=\"1\" class=\"dataframe\">\n",
       "  <thead>\n",
       "    <tr style=\"text-align: right;\">\n",
       "      <th></th>\n",
       "      <th>year</th>\n",
       "      <th>roll</th>\n",
       "      <th>unem</th>\n",
       "      <th>hgrad</th>\n",
       "      <th>inc</th>\n",
       "    </tr>\n",
       "  </thead>\n",
       "  <tbody>\n",
       "    <tr>\n",
       "      <th>0</th>\n",
       "      <td>1</td>\n",
       "      <td>5501</td>\n",
       "      <td>8.1</td>\n",
       "      <td>9552</td>\n",
       "      <td>1923</td>\n",
       "    </tr>\n",
       "    <tr>\n",
       "      <th>1</th>\n",
       "      <td>2</td>\n",
       "      <td>5945</td>\n",
       "      <td>7.0</td>\n",
       "      <td>9680</td>\n",
       "      <td>1961</td>\n",
       "    </tr>\n",
       "    <tr>\n",
       "      <th>2</th>\n",
       "      <td>3</td>\n",
       "      <td>6629</td>\n",
       "      <td>7.3</td>\n",
       "      <td>9731</td>\n",
       "      <td>1979</td>\n",
       "    </tr>\n",
       "    <tr>\n",
       "      <th>3</th>\n",
       "      <td>4</td>\n",
       "      <td>7556</td>\n",
       "      <td>7.5</td>\n",
       "      <td>11666</td>\n",
       "      <td>2030</td>\n",
       "    </tr>\n",
       "    <tr>\n",
       "      <th>4</th>\n",
       "      <td>5</td>\n",
       "      <td>8716</td>\n",
       "      <td>7.0</td>\n",
       "      <td>14675</td>\n",
       "      <td>2112</td>\n",
       "    </tr>\n",
       "  </tbody>\n",
       "</table>\n",
       "</div>"
      ],
      "text/plain": [
       "   year  roll  unem  hgrad   inc\n",
       "0     1  5501   8.1   9552  1923\n",
       "1     2  5945   7.0   9680  1961\n",
       "2     3  6629   7.3   9731  1979\n",
       "3     4  7556   7.5  11666  2030\n",
       "4     5  8716   7.0  14675  2112"
      ]
     },
     "execution_count": 31,
     "metadata": {},
     "output_type": "execute_result"
    }
   ],
   "source": [
    "# Multiple Linear Regression\n",
    "\n",
    "# Loading in the data\n",
    "enrollmentForecastData = pd.read_csv('EnrollmentForecast.csv')\n",
    "\n",
    "# Setting up column names\n",
    "# Columns include year, # of enrollments, percent unemployment rate, # of graduations and average income\n",
    "# Year 1 equivalent to the data's original starting date of 1961\n",
    "enrollmentForecastData.columns = ['year', 'roll', 'unem', 'hgrad', 'inc']\n",
    "\n",
    "enrollmentForecastData.head()"
   ]
  },
  {
   "cell_type": "code",
   "execution_count": 23,
   "id": "007a9e3d",
   "metadata": {},
   "outputs": [
    {
     "data": {
      "text/plain": [
       "<seaborn.axisgrid.PairGrid at 0x2898dca00>"
      ]
     },
     "execution_count": 23,
     "metadata": {},
     "output_type": "execute_result"
    },
    {
     "data": {
      "image/png": "[encoded data removed]",
      "text/plain": [
       "<Figure size 900x900 with 30 Axes>"
      ]
     },
     "metadata": {},
     "output_type": "display_data"
    }
   ],
   "source": [
    "# Checking for correlation\n",
    "sb.pairplot(enrollmentForecastData)"
   ]
  },
  {
   "cell_type": "code",
   "execution_count": 24,
   "id": "981705ea",
   "metadata": {},
   "outputs": [
    {
     "name": "stdout",
     "output_type": "stream",
     "text": [
      "           year      roll      unem     hgrad       inc\n",
      "year   1.000000  0.900934  0.378305  0.670300  0.944287\n",
      "roll   0.900934  1.000000  0.391344  0.890294  0.949876\n",
      "unem   0.378305  0.391344  1.000000  0.177376  0.282310\n",
      "hgrad  0.670300  0.890294  0.177376  1.000000  0.820089\n",
      "inc    0.944287  0.949876  0.282310  0.820089  1.000000\n"
     ]
    }
   ],
   "source": [
    "# Check correlation via Pearson method\n",
    "# Little linear correlation between unemployment and graduation rates\n",
    "print(enrollmentForecastData.corr())"
   ]
  },
  {
   "cell_type": "code",
   "execution_count": 25,
   "id": "61829faa",
   "metadata": {},
   "outputs": [],
   "source": [
    "# Creating a subset dataframe of chosen predictors variables\n",
    "enrollmentDataSubset = enrollmentForecastData[['unem', 'hgrad']].values\n",
    "\n",
    "# Setting up the target variable to be predicted\n",
    "enrollmentTarget = enrollmentForecastData[['roll']].values\n",
    "\n",
    "enrollmentDataSubsetNames = ['unem', 'hgrad']\n",
    "\n",
    "# Scaling data before using predictors as variables in a liner regression model\n",
    "x, y = scale(enrollmentDataSubset), enrollmentTarget"
   ]
  },
  {
   "cell_type": "code",
   "execution_count": 26,
   "id": "c22012d8",
   "metadata": {},
   "outputs": [
    {
     "name": "stdout",
     "output_type": "stream",
     "text": [
      "[]\n"
     ]
    }
   ],
   "source": [
    "# Checking for missing values\n",
    "# Utilizing the numpy library's Not A Number (NAN) value to compare against the available x-values\n",
    "missingValues = x == np.NAN\n",
    "\n",
    "# Printing out the array of all x-values equivalent to NAN\n",
    "# No missing values fulfills assumption\n",
    "print(x[missingValues == True])"
   ]
  },
  {
   "cell_type": "code",
   "execution_count": 27,
   "id": "57317d5e",
   "metadata": {},
   "outputs": [
    {
     "name": "stdout",
     "output_type": "stream",
     "text": [
      "0.8488812666133723\n"
     ]
    },
    {
     "name": "stderr",
     "output_type": "stream",
     "text": [
      "/Library/Frameworks/Python.framework/Versions/3.10/lib/python3.10/site-packages/sklearn/linear_model/_base.py:141: FutureWarning: 'normalize' was deprecated in version 1.0 and will be removed in 1.2.\n",
      "If you wish to scale the data, use Pipeline with a StandardScaler in a preprocessing stage. To reproduce the previous behavior:\n",
      "\n",
      "from sklearn.pipeline import make_pipeline\n",
      "\n",
      "model = make_pipeline(StandardScaler(with_mean=False), LinearRegression())\n",
      "\n",
      "If you wish to pass a sample_weight parameter, you need to pass it as a fit parameter to each step of the pipeline as follows:\n",
      "\n",
      "kwargs = {s[0] + '__sample_weight': sample_weight for s in model.steps}\n",
      "model.fit(X, y, **kwargs)\n",
      "\n",
      "\n",
      "  warnings.warn(\n"
     ]
    }
   ],
   "source": [
    "# Normalizing values before linear regression\n",
    "# Deprecated\n",
    "LinReg = LinearRegression(normalize = True)\n",
    "\n",
    "LinReg.fit(x, y)\n",
    "print(LinReg.score(x, y))"
   ]
  },
  {
   "cell_type": "code",
   "execution_count": 30,
   "id": "75c3ddfb",
   "metadata": {},
   "outputs": [],
   "source": [
    "# Logistic Regression\n",
    "# Assumptions:\n",
    "# 1. Data free of missing values\n",
    "# 2. Binary or ordinal (Categorical variable with order values) predictant variable\n",
    "# 3. All predictors independent from one another\n",
    "# 4. Minimum 50 observations per predictor variable to ensure reliable results"
   ]
  },
  {
   "cell_type": "code",
   "execution_count": 33,
   "id": "67325afd",
   "metadata": {},
   "outputs": [
    {
     "name": "stdout",
     "output_type": "stream",
     "text": [
      "   PassengerId  Survived  Pclass  \\\n",
      "0            1         0       3   \n",
      "1            2         1       1   \n",
      "2            3         1       3   \n",
      "3            4         1       1   \n",
      "4            5         0       3   \n",
      "\n",
      "                                                Name     Sex   Age  SibSp  \\\n",
      "0                            Braund, Mr. Owen Harris    male  22.0      1   \n",
      "1  Cumings, Mrs. John Bradley (Florence Briggs Th...  female  38.0      1   \n",
      "2                             Heikkinen, Miss. Laina  female  26.0      0   \n",
      "3       Futrelle, Mrs. Jacques Heath (Lily May Peel)  female  35.0      1   \n",
      "4                           Allen, Mr. William Henry    male  35.0      0   \n",
      "\n",
      "   Parch            Ticket     Fare Cabin Embarked  \n",
      "0      0         A/5 21171   7.2500   NaN        S  \n",
      "1      0          PC 17599  71.2833   C85        C  \n",
      "2      0  STON/O2. 3101282   7.9250   NaN        S  \n",
      "3      0            113803  53.1000  C123        S  \n",
      "4      0            373450   8.0500   NaN        S  \n"
     ]
    }
   ],
   "source": [
    "# Variable Descriptions:\n",
    "# 'Pcalss': Passenger Class (1 = 1st, 2 = 2nd, 3 = 3rd)\n",
    "# 'SibSp': # of siblings / spouces aboard\n",
    "# 'Parch': # of parents / children aboard\n",
    "# 'Fare': Passenger fare in British pounds\n",
    "# 'Embarked': Port of embarkation (C = Cherbourg, France; Q = Queenstown, UK, S = Southhampton - Cobh, Ireland)\n",
    "titanicTraining = pd.read_csv('TitanicTrainingData.csv')\n",
    "titanicTraining.columns = ['PassengerId', 'Survived', 'Pclass', 'Name', 'Sex', 'Age', 'SibSp', \n",
    "                           'Parch', 'Ticket', 'Fare', 'Cabin', 'Embarked']\n",
    "print(titanicTraining.head())"
   ]
  },
  {
   "cell_type": "code",
   "execution_count": 34,
   "id": "77e5bed6",
   "metadata": {},
   "outputs": [
    {
     "name": "stdout",
     "output_type": "stream",
     "text": [
      "<class 'pandas.core.frame.DataFrame'>\n",
      "RangeIndex: 891 entries, 0 to 890\n",
      "Data columns (total 12 columns):\n",
      " #   Column       Non-Null Count  Dtype  \n",
      "---  ------       --------------  -----  \n",
      " 0   PassengerId  891 non-null    int64  \n",
      " 1   Survived     891 non-null    int64  \n",
      " 2   Pclass       891 non-null    int64  \n",
      " 3   Name         891 non-null    object \n",
      " 4   Sex          891 non-null    object \n",
      " 5   Age          714 non-null    float64\n",
      " 6   SibSp        891 non-null    int64  \n",
      " 7   Parch        891 non-null    int64  \n",
      " 8   Ticket       891 non-null    object \n",
      " 9   Fare         891 non-null    float64\n",
      " 10  Cabin        204 non-null    object \n",
      " 11  Embarked     889 non-null    object \n",
      "dtypes: float64(2), int64(5), object(5)\n",
      "memory usage: 83.7+ KB\n",
      "None\n"
     ]
    }
   ],
   "source": [
    "# Retrieving basic information about the entire given dataset\n",
    "print(titanicTraining.info())"
   ]
  },
  {
   "cell_type": "code",
   "execution_count": 35,
   "id": "fb5419b5",
   "metadata": {},
   "outputs": [
    {
     "data": {
      "text/plain": [
       "<AxesSubplot:xlabel='Survived', ylabel='count'>"
      ]
     },
     "execution_count": 35,
     "metadata": {},
     "output_type": "execute_result"
    },
    {
     "data": {
      "image/png": "[encoded data removed]",
      "text/plain": [
       "<Figure size 720x576 with 1 Axes>"
      ]
     },
     "metadata": {},
     "output_type": "display_data"
    }
   ],
   "source": [
    "# Checking that the target variable is binary\n",
    "sb.countplot(x = 'Survived', data = titanicTraining, palette = 'hls')"
   ]
  },
  {
   "cell_type": "code",
   "execution_count": 36,
   "id": "59a5e2d2",
   "metadata": {},
   "outputs": [
    {
     "data": {
      "text/plain": [
       "PassengerId      0\n",
       "Survived         0\n",
       "Pclass           0\n",
       "Name             0\n",
       "Sex              0\n",
       "Age            177\n",
       "SibSp            0\n",
       "Parch            0\n",
       "Ticket           0\n",
       "Fare             0\n",
       "Cabin          687\n",
       "Embarked         2\n",
       "dtype: int64"
      ]
     },
     "execution_count": 36,
     "metadata": {},
     "output_type": "execute_result"
    }
   ],
   "source": [
    "# Checking for missing values\n",
    "titanicTraining.isnull().sum()"
   ]
  },
  {
   "cell_type": "code",
   "execution_count": 37,
   "id": "40b4e4b8",
   "metadata": {},
   "outputs": [
    {
     "data": {
      "text/html": [
       "<div>\n",
       "<style scoped>\n",
       "    .dataframe tbody tr th:only-of-type {\n",
       "        vertical-align: middle;\n",
       "    }\n",
       "\n",
       "    .dataframe tbody tr th {\n",
       "        vertical-align: top;\n",
       "    }\n",
       "\n",
       "    .dataframe thead th {\n",
       "        text-align: right;\n",
       "    }\n",
       "</style>\n",
       "<table border=\"1\" class=\"dataframe\">\n",
       "  <thead>\n",
       "    <tr style=\"text-align: right;\">\n",
       "      <th></th>\n",
       "      <th>PassengerId</th>\n",
       "      <th>Survived</th>\n",
       "      <th>Pclass</th>\n",
       "      <th>Age</th>\n",
       "      <th>SibSp</th>\n",
       "      <th>Parch</th>\n",
       "      <th>Fare</th>\n",
       "    </tr>\n",
       "  </thead>\n",
       "  <tbody>\n",
       "    <tr>\n",
       "      <th>count</th>\n",
       "      <td>891.000000</td>\n",
       "      <td>891.000000</td>\n",
       "      <td>891.000000</td>\n",
       "      <td>714.000000</td>\n",
       "      <td>891.000000</td>\n",
       "      <td>891.000000</td>\n",
       "      <td>891.000000</td>\n",
       "    </tr>\n",
       "    <tr>\n",
       "      <th>mean</th>\n",
       "      <td>446.000000</td>\n",
       "      <td>0.383838</td>\n",
       "      <td>2.308642</td>\n",
       "      <td>29.699118</td>\n",
       "      <td>0.523008</td>\n",
       "      <td>0.381594</td>\n",
       "      <td>32.204208</td>\n",
       "    </tr>\n",
       "    <tr>\n",
       "      <th>std</th>\n",
       "      <td>257.353842</td>\n",
       "      <td>0.486592</td>\n",
       "      <td>0.836071</td>\n",
       "      <td>14.526497</td>\n",
       "      <td>1.102743</td>\n",
       "      <td>0.806057</td>\n",
       "      <td>49.693429</td>\n",
       "    </tr>\n",
       "    <tr>\n",
       "      <th>min</th>\n",
       "      <td>1.000000</td>\n",
       "      <td>0.000000</td>\n",
       "      <td>1.000000</td>\n",
       "      <td>0.420000</td>\n",
       "      <td>0.000000</td>\n",
       "      <td>0.000000</td>\n",
       "      <td>0.000000</td>\n",
       "    </tr>\n",
       "    <tr>\n",
       "      <th>25%</th>\n",
       "      <td>223.500000</td>\n",
       "      <td>0.000000</td>\n",
       "      <td>2.000000</td>\n",
       "      <td>20.125000</td>\n",
       "      <td>0.000000</td>\n",
       "      <td>0.000000</td>\n",
       "      <td>7.910400</td>\n",
       "    </tr>\n",
       "    <tr>\n",
       "      <th>50%</th>\n",
       "      <td>446.000000</td>\n",
       "      <td>0.000000</td>\n",
       "      <td>3.000000</td>\n",
       "      <td>28.000000</td>\n",
       "      <td>0.000000</td>\n",
       "      <td>0.000000</td>\n",
       "      <td>14.454200</td>\n",
       "    </tr>\n",
       "    <tr>\n",
       "      <th>75%</th>\n",
       "      <td>668.500000</td>\n",
       "      <td>1.000000</td>\n",
       "      <td>3.000000</td>\n",
       "      <td>38.000000</td>\n",
       "      <td>1.000000</td>\n",
       "      <td>0.000000</td>\n",
       "      <td>31.000000</td>\n",
       "    </tr>\n",
       "    <tr>\n",
       "      <th>max</th>\n",
       "      <td>891.000000</td>\n",
       "      <td>1.000000</td>\n",
       "      <td>3.000000</td>\n",
       "      <td>80.000000</td>\n",
       "      <td>8.000000</td>\n",
       "      <td>6.000000</td>\n",
       "      <td>512.329200</td>\n",
       "    </tr>\n",
       "  </tbody>\n",
       "</table>\n",
       "</div>"
      ],
      "text/plain": [
       "       PassengerId    Survived      Pclass         Age       SibSp  \\\n",
       "count   891.000000  891.000000  891.000000  714.000000  891.000000   \n",
       "mean    446.000000    0.383838    2.308642   29.699118    0.523008   \n",
       "std     257.353842    0.486592    0.836071   14.526497    1.102743   \n",
       "min       1.000000    0.000000    1.000000    0.420000    0.000000   \n",
       "25%     223.500000    0.000000    2.000000   20.125000    0.000000   \n",
       "50%     446.000000    0.000000    3.000000   28.000000    0.000000   \n",
       "75%     668.500000    1.000000    3.000000   38.000000    1.000000   \n",
       "max     891.000000    1.000000    3.000000   80.000000    8.000000   \n",
       "\n",
       "            Parch        Fare  \n",
       "count  891.000000  891.000000  \n",
       "mean     0.381594   32.204208  \n",
       "std      0.806057   49.693429  \n",
       "min      0.000000    0.000000  \n",
       "25%      0.000000    7.910400  \n",
       "50%      0.000000   14.454200  \n",
       "75%      0.000000   31.000000  \n",
       "max      6.000000  512.329200  "
      ]
     },
     "execution_count": 37,
     "metadata": {},
     "output_type": "execute_result"
    }
   ],
   "source": [
    "titanicTraining.describe()"
   ]
  },
  {
   "cell_type": "code",
   "execution_count": 39,
   "id": "ac00d99d",
   "metadata": {},
   "outputs": [
    {
     "name": "stdout",
     "output_type": "stream",
     "text": [
      "   PassengerId  Survived  Pclass     Sex   Age  SibSp  Parch     Fare Embarked\n",
      "0            1         0       3    male  22.0      1      0   7.2500        S\n",
      "1            2         1       1  female  38.0      1      0  71.2833        C\n",
      "2            3         1       3  female  26.0      0      0   7.9250        S\n",
      "3            4         1       1  female  35.0      1      0  53.1000        S\n",
      "4            5         0       3    male  35.0      0      0   8.0500        S\n"
     ]
    }
   ],
   "source": [
    "# Taking care of missing variables and removing unimportant variables\n",
    "titanicData = titanicTraining.drop(['Name', 'Ticket', 'Cabin'], axis = 1)\n",
    "print(titanicData.head())"
   ]
  },
  {
   "cell_type": "code",
   "execution_count": 40,
   "id": "0bb91ee9",
   "metadata": {},
   "outputs": [
    {
     "data": {
      "text/plain": [
       "<AxesSubplot:xlabel='Parch', ylabel='Age'>"
      ]
     },
     "execution_count": 40,
     "metadata": {},
     "output_type": "execute_result"
    },
    {
     "data": {
      "image/png": "[encoded data removed]",
      "text/plain": [
       "<Figure size 720x576 with 1 Axes>"
      ]
     },
     "metadata": {},
     "output_type": "display_data"
    }
   ],
   "source": [
    "# Imputing Missing Values\n",
    "sb.boxplot(x = 'Parch', y = 'Age', data = titanicData, palette = 'hls')"
   ]
  },
  {
   "cell_type": "code",
   "execution_count": 41,
   "id": "b730c73a",
   "metadata": {},
   "outputs": [
    {
     "data": {
      "text/html": [
       "<div>\n",
       "<style scoped>\n",
       "    .dataframe tbody tr th:only-of-type {\n",
       "        vertical-align: middle;\n",
       "    }\n",
       "\n",
       "    .dataframe tbody tr th {\n",
       "        vertical-align: top;\n",
       "    }\n",
       "\n",
       "    .dataframe thead th {\n",
       "        text-align: right;\n",
       "    }\n",
       "</style>\n",
       "<table border=\"1\" class=\"dataframe\">\n",
       "  <thead>\n",
       "    <tr style=\"text-align: right;\">\n",
       "      <th></th>\n",
       "      <th>PassengerId</th>\n",
       "      <th>Survived</th>\n",
       "      <th>Pclass</th>\n",
       "      <th>Age</th>\n",
       "      <th>SibSp</th>\n",
       "      <th>Fare</th>\n",
       "    </tr>\n",
       "    <tr>\n",
       "      <th>Parch</th>\n",
       "      <th></th>\n",
       "      <th></th>\n",
       "      <th></th>\n",
       "      <th></th>\n",
       "      <th></th>\n",
       "      <th></th>\n",
       "    </tr>\n",
       "  </thead>\n",
       "  <tbody>\n",
       "    <tr>\n",
       "      <th>0</th>\n",
       "      <td>445.255162</td>\n",
       "      <td>0.343658</td>\n",
       "      <td>2.321534</td>\n",
       "      <td>32.178503</td>\n",
       "      <td>0.237463</td>\n",
       "      <td>25.586774</td>\n",
       "    </tr>\n",
       "    <tr>\n",
       "      <th>1</th>\n",
       "      <td>465.110169</td>\n",
       "      <td>0.550847</td>\n",
       "      <td>2.203390</td>\n",
       "      <td>24.422000</td>\n",
       "      <td>1.084746</td>\n",
       "      <td>46.778180</td>\n",
       "    </tr>\n",
       "    <tr>\n",
       "      <th>2</th>\n",
       "      <td>416.662500</td>\n",
       "      <td>0.500000</td>\n",
       "      <td>2.275000</td>\n",
       "      <td>17.216912</td>\n",
       "      <td>2.062500</td>\n",
       "      <td>64.337604</td>\n",
       "    </tr>\n",
       "    <tr>\n",
       "      <th>3</th>\n",
       "      <td>579.200000</td>\n",
       "      <td>0.600000</td>\n",
       "      <td>2.600000</td>\n",
       "      <td>33.200000</td>\n",
       "      <td>1.000000</td>\n",
       "      <td>25.951660</td>\n",
       "    </tr>\n",
       "    <tr>\n",
       "      <th>4</th>\n",
       "      <td>384.000000</td>\n",
       "      <td>0.000000</td>\n",
       "      <td>2.500000</td>\n",
       "      <td>44.500000</td>\n",
       "      <td>0.750000</td>\n",
       "      <td>84.968750</td>\n",
       "    </tr>\n",
       "    <tr>\n",
       "      <th>5</th>\n",
       "      <td>435.200000</td>\n",
       "      <td>0.200000</td>\n",
       "      <td>3.000000</td>\n",
       "      <td>39.200000</td>\n",
       "      <td>0.600000</td>\n",
       "      <td>32.550000</td>\n",
       "    </tr>\n",
       "    <tr>\n",
       "      <th>6</th>\n",
       "      <td>679.000000</td>\n",
       "      <td>0.000000</td>\n",
       "      <td>3.000000</td>\n",
       "      <td>43.000000</td>\n",
       "      <td>1.000000</td>\n",
       "      <td>46.900000</td>\n",
       "    </tr>\n",
       "  </tbody>\n",
       "</table>\n",
       "</div>"
      ],
      "text/plain": [
       "       PassengerId  Survived    Pclass        Age     SibSp       Fare\n",
       "Parch                                                                 \n",
       "0       445.255162  0.343658  2.321534  32.178503  0.237463  25.586774\n",
       "1       465.110169  0.550847  2.203390  24.422000  1.084746  46.778180\n",
       "2       416.662500  0.500000  2.275000  17.216912  2.062500  64.337604\n",
       "3       579.200000  0.600000  2.600000  33.200000  1.000000  25.951660\n",
       "4       384.000000  0.000000  2.500000  44.500000  0.750000  84.968750\n",
       "5       435.200000  0.200000  3.000000  39.200000  0.600000  32.550000\n",
       "6       679.000000  0.000000  3.000000  43.000000  1.000000  46.900000"
      ]
     },
     "execution_count": 41,
     "metadata": {},
     "output_type": "execute_result"
    }
   ],
   "source": [
    "# Attempting to approximate missing age values by looking at the average passenger age depending on the\n",
    "# number of parents and or siblings they had on board with them at the time\n",
    "parchGroups = titanicData.groupby(titanicData['Parch'])\n",
    "parchGroups.mean()"
   ]
  },
  {
   "cell_type": "code",
   "execution_count": 49,
   "id": "4a7f38a5",
   "metadata": {},
   "outputs": [],
   "source": [
    "def ageApproximation(cols):\n",
    "    age = cols[0]\n",
    "    Parch = cols[1]\n",
    "    \n",
    "    if pd.isnull(age):\n",
    "        if Parch == 0:\n",
    "            return 32\n",
    "        elif Parch == 1:\n",
    "            return 24\n",
    "        elif Parch == 2:\n",
    "            return 17\n",
    "        elif Parch == 3:\n",
    "            return 33\n",
    "        elif Parch == 4:\n",
    "            return 45\n",
    "        else:\n",
    "            return 30\n",
    "    else:\n",
    "        return age"
   ]
  },
  {
   "cell_type": "code",
   "execution_count": 53,
   "id": "e69e5da0",
   "metadata": {},
   "outputs": [
    {
     "name": "stdout",
     "output_type": "stream",
     "text": [
      "PassengerId    0\n",
      "Survived       0\n",
      "Pclass         0\n",
      "Sex            0\n",
      "Age            0\n",
      "SibSp          0\n",
      "Parch          0\n",
      "Fare           0\n",
      "Embarked       0\n",
      "dtype: int64\n",
      "\n",
      "\n",
      "<class 'pandas.core.frame.DataFrame'>\n",
      "RangeIndex: 889 entries, 0 to 888\n",
      "Data columns (total 9 columns):\n",
      " #   Column       Non-Null Count  Dtype  \n",
      "---  ------       --------------  -----  \n",
      " 0   PassengerId  889 non-null    int64  \n",
      " 1   Survived     889 non-null    int64  \n",
      " 2   Pclass       889 non-null    int64  \n",
      " 3   Sex          889 non-null    object \n",
      " 4   Age          889 non-null    float64\n",
      " 5   SibSp        889 non-null    int64  \n",
      " 6   Parch        889 non-null    int64  \n",
      " 7   Fare         889 non-null    float64\n",
      " 8   Embarked     889 non-null    object \n",
      "dtypes: float64(2), int64(5), object(2)\n",
      "memory usage: 62.6+ KB\n",
      "None\n"
     ]
    }
   ],
   "source": [
    "titanicData['Age'] = titanicData[['Age', 'Parch']].apply(ageApproximation, axis = 1)\n",
    "print(titanicData.isnull().sum())\n",
    "print('\\n')\n",
    "\n",
    "# Dropping passenger rows with missing embarked values\n",
    "titanicData.dropna(inplace = True)\n",
    "\n",
    "# Reset the index due to having dropped the previous rows\n",
    "titanicData.reset_index(inplace = True, drop = True)\n",
    "\n",
    "print(titanicData.info())"
   ]
  },
  {
   "cell_type": "code",
   "execution_count": 55,
   "id": "e19e1169",
   "metadata": {},
   "outputs": [
    {
     "data": {
      "text/plain": [
       "array([1, 0, 0, 0, 1])"
      ]
     },
     "execution_count": 55,
     "metadata": {},
     "output_type": "execute_result"
    }
   ],
   "source": [
    "# Converting categorical variables to dummy indicators of 0 and 1\n",
    "labelEncoder = LabelEncoder()\n",
    "genderCategory = titanicData['Sex']\n",
    "encodedGender = labelEncoder.fit_transform(genderCategory)\n",
    "print(encodedGender[0:5])"
   ]
  },
  {
   "cell_type": "code",
   "execution_count": 56,
   "id": "2a5cd4c1",
   "metadata": {},
   "outputs": [
    {
     "name": "stdout",
     "output_type": "stream",
     "text": [
      "   PassengerId  Survived  Pclass     Sex   Age  SibSp  Parch     Fare Embarked\n",
      "0            1         0       3    male  22.0      1      0   7.2500        S\n",
      "1            2         1       1  female  38.0      1      0  71.2833        C\n",
      "2            3         1       3  female  26.0      0      0   7.9250        S\n",
      "3            4         1       1  female  35.0      1      0  53.1000        S\n",
      "4            5         0       3    male  35.0      0      0   8.0500        S\n"
     ]
    }
   ],
   "source": [
    "print(titanicData.head())"
   ]
  },
  {
   "cell_type": "code",
   "execution_count": 57,
   "id": "2cc4e805",
   "metadata": {},
   "outputs": [
    {
     "name": "stdout",
     "output_type": "stream",
     "text": [
      "   Male Gender\n",
      "0            1\n",
      "1            0\n",
      "2            0\n",
      "3            0\n",
      "4            1\n"
     ]
    }
   ],
   "source": [
    "# 1 = male, 0 = female\n",
    "genderDataframe = pd.DataFrame(encodedGender, columns = ['Male Gender'])\n",
    "print(genderDataframe.head())"
   ]
  },
  {
   "cell_type": "code",
   "execution_count": 59,
   "id": "960f6b1c",
   "metadata": {},
   "outputs": [
    {
     "name": "stdout",
     "output_type": "stream",
     "text": [
      "[2 0 2 2 2 1 2 2 2 0 2 2 2 2 2 2 1 2 2 0 2 2 1 2 2 2 0 2 1 2 0 0 1 2 0 2 0\n",
      " 2 2 0 2 2 0 0 1 2 1 1 0 2 2 2 0 2 0 2 2 0 2 2 0 2 2 0 0 2 2 2 2 2 2 2 0 2\n",
      " 2 2 2 2 2 2 2 1 2 2 2 2 2 2 2 2 2 2 2 2 2 0 0 2 2 2]\n"
     ]
    }
   ],
   "source": [
    "# Further processing required as this only provides a multi-nomial categorical variable, and has not yet become\n",
    "# a binary variable\n",
    "embarkedCategory = titanicData['Embarked']\n",
    "encodedEmbarkation = labelEncoder.fit_transform(embarkedCategory)\n",
    "print(encodedEmbarkation[0:100])"
   ]
  },
  {
   "cell_type": "code",
   "execution_count": 67,
   "id": "ac9069a1",
   "metadata": {},
   "outputs": [
    {
     "name": "stdout",
     "output_type": "stream",
     "text": [
      "  (0, 2)\t1.0\n",
      "  (1, 0)\t1.0\n",
      "  (2, 2)\t1.0\n",
      "  (3, 2)\t1.0\n",
      "  (4, 2)\t1.0\n",
      "\n",
      "\n",
      "[[0. 0. 1.]\n",
      " [1. 0. 0.]\n",
      " [0. 0. 1.]\n",
      " [0. 0. 1.]\n",
      " [0. 0. 1.]]\n",
      "\n",
      "\n",
      "     C    Q    S\n",
      "0  0.0  0.0  1.0\n",
      "1  1.0  0.0  0.0\n",
      "2  0.0  0.0  1.0\n",
      "3  0.0  0.0  1.0\n",
      "4  0.0  0.0  1.0\n"
     ]
    }
   ],
   "source": [
    "# Three seperate columns of binary outcomes required for each embarkation option\n",
    "binaryEncoder = OneHotEncoder(categories = 'auto')\n",
    "\n",
    "# Reshaping the output into a single column array\n",
    "embarked1HotArray = binaryEncoder.fit_transform(encodedEmbarkation.reshape(-1,1))\n",
    "print(embarked1HotArray[0:5])\n",
    "print('\\n')\n",
    "\n",
    "# Reshaping the output array column into a matrix\n",
    "embarked1HotMatrix = embarked1HotArray.toarray()\n",
    "print(embarked1HotMatrix[0:5])\n",
    "print('\\n')\n",
    "\n",
    "# Transforms the matrix into a dataframe to be reattached to the original dataframe\n",
    "embarkedDataframe = pd.DataFrame(embarked1HotMatrix, columns = ['C', 'Q', 'S'])\n",
    "print(embarkedDataframe.head())"
   ]
  },
  {
   "cell_type": "code",
   "execution_count": 68,
   "id": "7aed6457",
   "metadata": {},
   "outputs": [
    {
     "name": "stdout",
     "output_type": "stream",
     "text": [
      "   PassengerId  Survived  Pclass   Age  SibSp  Parch     Fare\n",
      "0            1         0       3  22.0      1      0   7.2500\n",
      "1            2         1       1  38.0      1      0  71.2833\n",
      "2            3         1       3  26.0      0      0   7.9250\n",
      "3            4         1       1  35.0      1      0  53.1000\n",
      "4            5         0       3  35.0      0      0   8.0500\n"
     ]
    }
   ],
   "source": [
    "# Dropping the original, non-converted categorical variable columns to be replaced and susbstituted\n",
    "titanicData.drop(['Sex', 'Embarked'], axis = 1, inplace = True)\n",
    "print(titanicData.head())"
   ]
  },
  {
   "cell_type": "code",
   "execution_count": 69,
   "id": "ae97ff9d",
   "metadata": {},
   "outputs": [
    {
     "name": "stdout",
     "output_type": "stream",
     "text": [
      "   PassengerId  Survived  Pclass   Age  SibSp  Parch     Fare  Male Gender  \\\n",
      "0          1.0       0.0     3.0  22.0    1.0    0.0   7.2500          1.0   \n",
      "1          2.0       1.0     1.0  38.0    1.0    0.0  71.2833          0.0   \n",
      "2          3.0       1.0     3.0  26.0    0.0    0.0   7.9250          0.0   \n",
      "3          4.0       1.0     1.0  35.0    1.0    0.0  53.1000          0.0   \n",
      "4          5.0       0.0     3.0  35.0    0.0    0.0   8.0500          1.0   \n",
      "\n",
      "     C    Q    S  \n",
      "0  0.0  0.0  1.0  \n",
      "1  1.0  0.0  0.0  \n",
      "2  0.0  0.0  1.0  \n",
      "3  0.0  0.0  1.0  \n",
      "4  0.0  0.0  1.0  \n"
     ]
    }
   ],
   "source": [
    "# Concatenating the newly encoded variables of gender and embarkation points as columns with a float data type\n",
    "titanicDummyData = pd.concat([titanicData, genderDataframe, embarkedDataframe], \n",
    "                             axis = 1, verify_integrity = True).astype(float)\n",
    "print(titanicDummyData.head())"
   ]
  },
  {
   "cell_type": "code",
   "execution_count": 70,
   "id": "f3f7988c",
   "metadata": {},
   "outputs": [
    {
     "data": {
      "text/plain": [
       "<AxesSubplot:>"
      ]
     },
     "execution_count": 70,
     "metadata": {},
     "output_type": "execute_result"
    },
    {
     "data": {
      "image/png": "[encoded data removed]",
      "text/plain": [
       "<Figure size 720x576 with 2 Axes>"
      ]
     },
     "metadata": {},
     "output_type": "display_data"
    }
   ],
   "source": [
    "# Checking for independent features\n",
    "# Basic correlation analysis using a Seaborn heatmap for at a glance view\n",
    "sb.heatmap(titanicDummyData.corr())"
   ]
  },
  {
   "cell_type": "code",
   "execution_count": 72,
   "id": "bb23bfbb",
   "metadata": {
    "collapsed": true
   },
   "outputs": [
    {
     "ename": "KeyError",
     "evalue": "\"['Fare', 'Pclass'] not found in axis\"",
     "output_type": "error",
     "traceback": [
      "\u001b[0;31m---------------------------------------------------------------------------\u001b[0m",
      "\u001b[0;31mKeyError\u001b[0m                                  Traceback (most recent call last)",
      "Input \u001b[0;32mIn [72]\u001b[0m, in \u001b[0;36m<cell line: 2>\u001b[0;34m()\u001b[0m\n\u001b[1;32m      1\u001b[0m \u001b[38;5;66;03m# Dropping variables with close linear relationships\u001b[39;00m\n\u001b[0;32m----> 2\u001b[0m \u001b[43mtitanicDummyData\u001b[49m\u001b[38;5;241;43m.\u001b[39;49m\u001b[43mdrop\u001b[49m\u001b[43m(\u001b[49m\u001b[43m[\u001b[49m\u001b[38;5;124;43m'\u001b[39;49m\u001b[38;5;124;43mFare\u001b[39;49m\u001b[38;5;124;43m'\u001b[39;49m\u001b[43m,\u001b[49m\u001b[43m \u001b[49m\u001b[38;5;124;43m'\u001b[39;49m\u001b[38;5;124;43mPclass\u001b[39;49m\u001b[38;5;124;43m'\u001b[39;49m\u001b[43m]\u001b[49m\u001b[43m,\u001b[49m\u001b[43m \u001b[49m\u001b[43maxis\u001b[49m\u001b[43m \u001b[49m\u001b[38;5;241;43m=\u001b[39;49m\u001b[43m \u001b[49m\u001b[38;5;241;43m1\u001b[39;49m\u001b[43m,\u001b[49m\u001b[43m \u001b[49m\u001b[43minplace\u001b[49m\u001b[43m \u001b[49m\u001b[38;5;241;43m=\u001b[39;49m\u001b[43m \u001b[49m\u001b[38;5;28;43;01mTrue\u001b[39;49;00m\u001b[43m)\u001b[49m\n\u001b[1;32m      3\u001b[0m \u001b[38;5;28mprint\u001b[39m(titanicDummyData\u001b[38;5;241m.\u001b[39mhead())\n",
      "File \u001b[0;32m/Library/Frameworks/Python.framework/Versions/3.10/lib/python3.10/site-packages/pandas/util/_decorators.py:311\u001b[0m, in \u001b[0;36mdeprecate_nonkeyword_arguments.<locals>.decorate.<locals>.wrapper\u001b[0;34m(*args, **kwargs)\u001b[0m\n\u001b[1;32m    305\u001b[0m \u001b[38;5;28;01mif\u001b[39;00m \u001b[38;5;28mlen\u001b[39m(args) \u001b[38;5;241m>\u001b[39m num_allow_args:\n\u001b[1;32m    306\u001b[0m     warnings\u001b[38;5;241m.\u001b[39mwarn(\n\u001b[1;32m    307\u001b[0m         msg\u001b[38;5;241m.\u001b[39mformat(arguments\u001b[38;5;241m=\u001b[39marguments),\n\u001b[1;32m    308\u001b[0m         \u001b[38;5;167;01mFutureWarning\u001b[39;00m,\n\u001b[1;32m    309\u001b[0m         stacklevel\u001b[38;5;241m=\u001b[39mstacklevel,\n\u001b[1;32m    310\u001b[0m     )\n\u001b[0;32m--> 311\u001b[0m \u001b[38;5;28;01mreturn\u001b[39;00m \u001b[43mfunc\u001b[49m\u001b[43m(\u001b[49m\u001b[38;5;241;43m*\u001b[39;49m\u001b[43margs\u001b[49m\u001b[43m,\u001b[49m\u001b[43m \u001b[49m\u001b[38;5;241;43m*\u001b[39;49m\u001b[38;5;241;43m*\u001b[39;49m\u001b[43mkwargs\u001b[49m\u001b[43m)\u001b[49m\n",
      "File \u001b[0;32m/Library/Frameworks/Python.framework/Versions/3.10/lib/python3.10/site-packages/pandas/core/frame.py:4954\u001b[0m, in \u001b[0;36mDataFrame.drop\u001b[0;34m(self, labels, axis, index, columns, level, inplace, errors)\u001b[0m\n\u001b[1;32m   4806\u001b[0m \u001b[38;5;129m@deprecate_nonkeyword_arguments\u001b[39m(version\u001b[38;5;241m=\u001b[39m\u001b[38;5;28;01mNone\u001b[39;00m, allowed_args\u001b[38;5;241m=\u001b[39m[\u001b[38;5;124m\"\u001b[39m\u001b[38;5;124mself\u001b[39m\u001b[38;5;124m\"\u001b[39m, \u001b[38;5;124m\"\u001b[39m\u001b[38;5;124mlabels\u001b[39m\u001b[38;5;124m\"\u001b[39m])\n\u001b[1;32m   4807\u001b[0m \u001b[38;5;28;01mdef\u001b[39;00m \u001b[38;5;21mdrop\u001b[39m(\n\u001b[1;32m   4808\u001b[0m     \u001b[38;5;28mself\u001b[39m,\n\u001b[0;32m   (...)\u001b[0m\n\u001b[1;32m   4815\u001b[0m     errors: \u001b[38;5;28mstr\u001b[39m \u001b[38;5;241m=\u001b[39m \u001b[38;5;124m\"\u001b[39m\u001b[38;5;124mraise\u001b[39m\u001b[38;5;124m\"\u001b[39m,\n\u001b[1;32m   4816\u001b[0m ):\n\u001b[1;32m   4817\u001b[0m     \u001b[38;5;124;03m\"\"\"\u001b[39;00m\n\u001b[1;32m   4818\u001b[0m \u001b[38;5;124;03m    Drop specified labels from rows or columns.\u001b[39;00m\n\u001b[1;32m   4819\u001b[0m \n\u001b[0;32m   (...)\u001b[0m\n\u001b[1;32m   4952\u001b[0m \u001b[38;5;124;03m            weight  1.0     0.8\u001b[39;00m\n\u001b[1;32m   4953\u001b[0m \u001b[38;5;124;03m    \"\"\"\u001b[39;00m\n\u001b[0;32m-> 4954\u001b[0m     \u001b[38;5;28;01mreturn\u001b[39;00m \u001b[38;5;28;43msuper\u001b[39;49m\u001b[43m(\u001b[49m\u001b[43m)\u001b[49m\u001b[38;5;241;43m.\u001b[39;49m\u001b[43mdrop\u001b[49m\u001b[43m(\u001b[49m\n\u001b[1;32m   4955\u001b[0m \u001b[43m        \u001b[49m\u001b[43mlabels\u001b[49m\u001b[38;5;241;43m=\u001b[39;49m\u001b[43mlabels\u001b[49m\u001b[43m,\u001b[49m\n\u001b[1;32m   4956\u001b[0m \u001b[43m        \u001b[49m\u001b[43maxis\u001b[49m\u001b[38;5;241;43m=\u001b[39;49m\u001b[43maxis\u001b[49m\u001b[43m,\u001b[49m\n\u001b[1;32m   4957\u001b[0m \u001b[43m        \u001b[49m\u001b[43mindex\u001b[49m\u001b[38;5;241;43m=\u001b[39;49m\u001b[43mindex\u001b[49m\u001b[43m,\u001b[49m\n\u001b[1;32m   4958\u001b[0m \u001b[43m        \u001b[49m\u001b[43mcolumns\u001b[49m\u001b[38;5;241;43m=\u001b[39;49m\u001b[43mcolumns\u001b[49m\u001b[43m,\u001b[49m\n\u001b[1;32m   4959\u001b[0m \u001b[43m        \u001b[49m\u001b[43mlevel\u001b[49m\u001b[38;5;241;43m=\u001b[39;49m\u001b[43mlevel\u001b[49m\u001b[43m,\u001b[49m\n\u001b[1;32m   4960\u001b[0m \u001b[43m        \u001b[49m\u001b[43minplace\u001b[49m\u001b[38;5;241;43m=\u001b[39;49m\u001b[43minplace\u001b[49m\u001b[43m,\u001b[49m\n\u001b[1;32m   4961\u001b[0m \u001b[43m        \u001b[49m\u001b[43merrors\u001b[49m\u001b[38;5;241;43m=\u001b[39;49m\u001b[43merrors\u001b[49m\u001b[43m,\u001b[49m\n\u001b[1;32m   4962\u001b[0m \u001b[43m    \u001b[49m\u001b[43m)\u001b[49m\n",
      "File \u001b[0;32m/Library/Frameworks/Python.framework/Versions/3.10/lib/python3.10/site-packages/pandas/core/generic.py:4267\u001b[0m, in \u001b[0;36mNDFrame.drop\u001b[0;34m(self, labels, axis, index, columns, level, inplace, errors)\u001b[0m\n\u001b[1;32m   4265\u001b[0m \u001b[38;5;28;01mfor\u001b[39;00m axis, labels \u001b[38;5;129;01min\u001b[39;00m axes\u001b[38;5;241m.\u001b[39mitems():\n\u001b[1;32m   4266\u001b[0m     \u001b[38;5;28;01mif\u001b[39;00m labels \u001b[38;5;129;01mis\u001b[39;00m \u001b[38;5;129;01mnot\u001b[39;00m \u001b[38;5;28;01mNone\u001b[39;00m:\n\u001b[0;32m-> 4267\u001b[0m         obj \u001b[38;5;241m=\u001b[39m \u001b[43mobj\u001b[49m\u001b[38;5;241;43m.\u001b[39;49m\u001b[43m_drop_axis\u001b[49m\u001b[43m(\u001b[49m\u001b[43mlabels\u001b[49m\u001b[43m,\u001b[49m\u001b[43m \u001b[49m\u001b[43maxis\u001b[49m\u001b[43m,\u001b[49m\u001b[43m \u001b[49m\u001b[43mlevel\u001b[49m\u001b[38;5;241;43m=\u001b[39;49m\u001b[43mlevel\u001b[49m\u001b[43m,\u001b[49m\u001b[43m \u001b[49m\u001b[43merrors\u001b[49m\u001b[38;5;241;43m=\u001b[39;49m\u001b[43merrors\u001b[49m\u001b[43m)\u001b[49m\n\u001b[1;32m   4269\u001b[0m \u001b[38;5;28;01mif\u001b[39;00m inplace:\n\u001b[1;32m   4270\u001b[0m     \u001b[38;5;28mself\u001b[39m\u001b[38;5;241m.\u001b[39m_update_inplace(obj)\n",
      "File \u001b[0;32m/Library/Frameworks/Python.framework/Versions/3.10/lib/python3.10/site-packages/pandas/core/generic.py:4311\u001b[0m, in \u001b[0;36mNDFrame._drop_axis\u001b[0;34m(self, labels, axis, level, errors, consolidate, only_slice)\u001b[0m\n\u001b[1;32m   4309\u001b[0m         new_axis \u001b[38;5;241m=\u001b[39m axis\u001b[38;5;241m.\u001b[39mdrop(labels, level\u001b[38;5;241m=\u001b[39mlevel, errors\u001b[38;5;241m=\u001b[39merrors)\n\u001b[1;32m   4310\u001b[0m     \u001b[38;5;28;01melse\u001b[39;00m:\n\u001b[0;32m-> 4311\u001b[0m         new_axis \u001b[38;5;241m=\u001b[39m \u001b[43maxis\u001b[49m\u001b[38;5;241;43m.\u001b[39;49m\u001b[43mdrop\u001b[49m\u001b[43m(\u001b[49m\u001b[43mlabels\u001b[49m\u001b[43m,\u001b[49m\u001b[43m \u001b[49m\u001b[43merrors\u001b[49m\u001b[38;5;241;43m=\u001b[39;49m\u001b[43merrors\u001b[49m\u001b[43m)\u001b[49m\n\u001b[1;32m   4312\u001b[0m     indexer \u001b[38;5;241m=\u001b[39m axis\u001b[38;5;241m.\u001b[39mget_indexer(new_axis)\n\u001b[1;32m   4314\u001b[0m \u001b[38;5;66;03m# Case for non-unique axis\u001b[39;00m\n\u001b[1;32m   4315\u001b[0m \u001b[38;5;28;01melse\u001b[39;00m:\n",
      "File \u001b[0;32m/Library/Frameworks/Python.framework/Versions/3.10/lib/python3.10/site-packages/pandas/core/indexes/base.py:6644\u001b[0m, in \u001b[0;36mIndex.drop\u001b[0;34m(self, labels, errors)\u001b[0m\n\u001b[1;32m   6642\u001b[0m \u001b[38;5;28;01mif\u001b[39;00m mask\u001b[38;5;241m.\u001b[39many():\n\u001b[1;32m   6643\u001b[0m     \u001b[38;5;28;01mif\u001b[39;00m errors \u001b[38;5;241m!=\u001b[39m \u001b[38;5;124m\"\u001b[39m\u001b[38;5;124mignore\u001b[39m\u001b[38;5;124m\"\u001b[39m:\n\u001b[0;32m-> 6644\u001b[0m         \u001b[38;5;28;01mraise\u001b[39;00m \u001b[38;5;167;01mKeyError\u001b[39;00m(\u001b[38;5;124mf\u001b[39m\u001b[38;5;124m\"\u001b[39m\u001b[38;5;132;01m{\u001b[39;00m\u001b[38;5;28mlist\u001b[39m(labels[mask])\u001b[38;5;132;01m}\u001b[39;00m\u001b[38;5;124m not found in axis\u001b[39m\u001b[38;5;124m\"\u001b[39m)\n\u001b[1;32m   6645\u001b[0m     indexer \u001b[38;5;241m=\u001b[39m indexer[\u001b[38;5;241m~\u001b[39mmask]\n\u001b[1;32m   6646\u001b[0m \u001b[38;5;28;01mreturn\u001b[39;00m \u001b[38;5;28mself\u001b[39m\u001b[38;5;241m.\u001b[39mdelete(indexer)\n",
      "\u001b[0;31mKeyError\u001b[0m: \"['Fare', 'Pclass'] not found in axis\""
     ]
    }
   ],
   "source": [
    "# Dropping variables with close linear relationships\n",
    "titanicDummyData.drop(['Fare', 'Pclass'], axis = 1, inplace = True)"
   ]
  },
  {
   "cell_type": "code",
   "execution_count": 73,
   "id": "3b39e8e7",
   "metadata": {},
   "outputs": [
    {
     "name": "stdout",
     "output_type": "stream",
     "text": [
      "   PassengerId  Survived   Age  SibSp  Parch  Male Gender    C    Q    S\n",
      "0          1.0       0.0  22.0    1.0    0.0          1.0  0.0  0.0  1.0\n",
      "1          2.0       1.0  38.0    1.0    0.0          0.0  1.0  0.0  0.0\n",
      "2          3.0       1.0  26.0    0.0    0.0          0.0  0.0  0.0  1.0\n",
      "3          4.0       1.0  35.0    1.0    0.0          0.0  0.0  0.0  1.0\n",
      "4          5.0       0.0  35.0    0.0    0.0          1.0  0.0  0.0  1.0\n"
     ]
    }
   ],
   "source": [
    "print(titanicDummyData.head())"
   ]
  },
  {
   "cell_type": "code",
   "execution_count": 74,
   "id": "77e83889",
   "metadata": {},
   "outputs": [
    {
     "name": "stdout",
     "output_type": "stream",
     "text": [
      "<class 'pandas.core.frame.DataFrame'>\n",
      "RangeIndex: 889 entries, 0 to 888\n",
      "Data columns (total 9 columns):\n",
      " #   Column       Non-Null Count  Dtype  \n",
      "---  ------       --------------  -----  \n",
      " 0   PassengerId  889 non-null    float64\n",
      " 1   Survived     889 non-null    float64\n",
      " 2   Age          889 non-null    float64\n",
      " 3   SibSp        889 non-null    float64\n",
      " 4   Parch        889 non-null    float64\n",
      " 5   Male Gender  889 non-null    float64\n",
      " 6   C            889 non-null    float64\n",
      " 7   Q            889 non-null    float64\n",
      " 8   S            889 non-null    float64\n",
      "dtypes: float64(9)\n",
      "memory usage: 62.6 KB\n",
      "None\n"
     ]
    }
   ],
   "source": [
    "# Determining if the dataset is of sufficient size for a reliable logistic regression analysis\n",
    "# 6 Predictor Features: 6 x 50 = Minimum 300 records required\n",
    "# 1. Age \n",
    "# 2. Gender / Sex\n",
    "# 3. # Siblings and spouces aboard\n",
    "# 4. # Parents and children aboard\n",
    "# 5. Port of embarkation\n",
    "# 6. Passenger ID (As present in example, not in personal opinion)\n",
    "\n",
    "# 889 records, minimum requirements met\n",
    "print(titanicDummyData.info())"
   ]
  },
  {
   "cell_type": "code",
   "execution_count": 75,
   "id": "9c380df8",
   "metadata": {},
   "outputs": [],
   "source": [
    "# Seperating dataset into training and test datasets\n",
    "# Remove the target variable of surviving passengers from the x predictor datasets\n",
    "xTrain, xTest, yTrain, yTest = train_test_split(titanicDummyData.drop('Survived', axis = 1), \n",
    "                                                titanicDummyData['Survived'], test_size = 0.2,\n",
    "                                                random_state = 200)"
   ]
  },
  {
   "cell_type": "code",
   "execution_count": 76,
   "id": "7286ca1c",
   "metadata": {},
   "outputs": [
    {
     "name": "stdout",
     "output_type": "stream",
     "text": [
      "(711, 8)\n",
      "(711,)\n"
     ]
    }
   ],
   "source": [
    "# Checking the shapes of the datasets to ensure the seperation was successfull\n",
    "print(xTrain.shape)\n",
    "print(yTrain.shape)"
   ]
  },
  {
   "cell_type": "code",
   "execution_count": 77,
   "id": "85da4487",
   "metadata": {},
   "outputs": [
    {
     "name": "stdout",
     "output_type": "stream",
     "text": [
      "     PassengerId   Age  SibSp  Parch  Male Gender    C    Q    S\n",
      "719        721.0   6.0    0.0    1.0          0.0  0.0  0.0  1.0\n",
      "165        167.0  24.0    0.0    1.0          0.0  0.0  0.0  1.0\n",
      "879        882.0  33.0    0.0    0.0          1.0  0.0  0.0  1.0\n",
      "451        453.0  30.0    0.0    0.0          1.0  1.0  0.0  0.0\n",
      "181        183.0   9.0    4.0    2.0          1.0  0.0  0.0  1.0\n"
     ]
    }
   ],
   "source": [
    "print(xTrain.head())"
   ]
  },
  {
   "cell_type": "code",
   "execution_count": 78,
   "id": "f4074c1f",
   "metadata": {},
   "outputs": [
    {
     "data": {
      "text/html": [
       "<style>#sk-container-id-1 {color: black;background-color: white;}#sk-container-id-1 pre{padding: 0;}#sk-container-id-1 div.sk-toggleable {background-color: white;}#sk-container-id-1 label.sk-toggleable__label {cursor: pointer;display: block;width: 100%;margin-bottom: 0;padding: 0.3em;box-sizing: border-box;text-align: center;}#sk-container-id-1 label.sk-toggleable__label-arrow:before {content: \"▸\";float: left;margin-right: 0.25em;color: #696969;}#sk-container-id-1 label.sk-toggleable__label-arrow:hover:before {color: black;}#sk-container-id-1 div.sk-estimator:hover label.sk-toggleable__label-arrow:before {color: black;}#sk-container-id-1 div.sk-toggleable__content {max-height: 0;max-width: 0;overflow: hidden;text-align: left;background-color: #f0f8ff;}#sk-container-id-1 div.sk-toggleable__content pre {margin: 0.2em;color: black;border-radius: 0.25em;background-color: #f0f8ff;}#sk-container-id-1 input.sk-toggleable__control:checked~div.sk-toggleable__content {max-height: 200px;max-width: 100%;overflow: auto;}#sk-container-id-1 input.sk-toggleable__control:checked~label.sk-toggleable__label-arrow:before {content: \"▾\";}#sk-container-id-1 div.sk-estimator input.sk-toggleable__control:checked~label.sk-toggleable__label {background-color: #d4ebff;}#sk-container-id-1 div.sk-label input.sk-toggleable__control:checked~label.sk-toggleable__label {background-color: #d4ebff;}#sk-container-id-1 input.sk-hidden--visually {border: 0;clip: rect(1px 1px 1px 1px);clip: rect(1px, 1px, 1px, 1px);height: 1px;margin: -1px;overflow: hidden;padding: 0;position: absolute;width: 1px;}#sk-container-id-1 div.sk-estimator {font-family: monospace;background-color: #f0f8ff;border: 1px dotted black;border-radius: 0.25em;box-sizing: border-box;margin-bottom: 0.5em;}#sk-container-id-1 div.sk-estimator:hover {background-color: #d4ebff;}#sk-container-id-1 div.sk-parallel-item::after {content: \"\";width: 100%;border-bottom: 1px solid gray;flex-grow: 1;}#sk-container-id-1 div.sk-label:hover label.sk-toggleable__label {background-color: #d4ebff;}#sk-container-id-1 div.sk-serial::before {content: \"\";position: absolute;border-left: 1px solid gray;box-sizing: border-box;top: 0;bottom: 0;left: 50%;z-index: 0;}#sk-container-id-1 div.sk-serial {display: flex;flex-direction: column;align-items: center;background-color: white;padding-right: 0.2em;padding-left: 0.2em;position: relative;}#sk-container-id-1 div.sk-item {position: relative;z-index: 1;}#sk-container-id-1 div.sk-parallel {display: flex;align-items: stretch;justify-content: center;background-color: white;position: relative;}#sk-container-id-1 div.sk-item::before, #sk-container-id-1 div.sk-parallel-item::before {content: \"\";position: absolute;border-left: 1px solid gray;box-sizing: border-box;top: 0;bottom: 0;left: 50%;z-index: -1;}#sk-container-id-1 div.sk-parallel-item {display: flex;flex-direction: column;z-index: 1;position: relative;background-color: white;}#sk-container-id-1 div.sk-parallel-item:first-child::after {align-self: flex-end;width: 50%;}#sk-container-id-1 div.sk-parallel-item:last-child::after {align-self: flex-start;width: 50%;}#sk-container-id-1 div.sk-parallel-item:only-child::after {width: 0;}#sk-container-id-1 div.sk-dashed-wrapped {border: 1px dashed gray;margin: 0 0.4em 0.5em 0.4em;box-sizing: border-box;padding-bottom: 0.4em;background-color: white;}#sk-container-id-1 div.sk-label label {font-family: monospace;font-weight: bold;display: inline-block;line-height: 1.2em;}#sk-container-id-1 div.sk-label-container {text-align: center;}#sk-container-id-1 div.sk-container {/* jupyter's `normalize.less` sets `[hidden] { display: none; }` but bootstrap.min.css set `[hidden] { display: none !important; }` so we also need the `!important` here to be able to override the default hidden behavior on the sphinx rendered scikit-learn.org. See: https://github.com/scikit-learn/scikit-learn/issues/21755 */display: inline-block !important;position: relative;}#sk-container-id-1 div.sk-text-repr-fallback {display: none;}</style><div id=\"sk-container-id-1\" class=\"sk-top-container\"><div class=\"sk-text-repr-fallback\"><pre>LogisticRegression(solver=&#x27;liblinear&#x27;)</pre><b>In a Jupyter environment, please rerun this cell to show the HTML representation or trust the notebook. <br />On GitHub, the HTML representation is unable to render, please try loading this page with nbviewer.org.</b></div><div class=\"sk-container\" hidden><div class=\"sk-item\"><div class=\"sk-estimator sk-toggleable\"><input class=\"sk-toggleable__control sk-hidden--visually\" id=\"sk-estimator-id-1\" type=\"checkbox\" checked><label for=\"sk-estimator-id-1\" class=\"sk-toggleable__label sk-toggleable__label-arrow\">LogisticRegression</label><div class=\"sk-toggleable__content\"><pre>LogisticRegression(solver=&#x27;liblinear&#x27;)</pre></div></div></div></div></div>"
      ],
      "text/plain": [
       "LogisticRegression(solver='liblinear')"
      ]
     },
     "execution_count": 78,
     "metadata": {},
     "output_type": "execute_result"
    }
   ],
   "source": [
    "# Deploying & Evaluating the Logistic Regression Model\n",
    "LogReg = LogisticRegression(solver = 'liblinear')\n",
    "LogReg.fit(xTrain, yTrain)"
   ]
  },
  {
   "cell_type": "code",
   "execution_count": 79,
   "id": "bc6d13e8",
   "metadata": {},
   "outputs": [],
   "source": [
    "# Have the logistic regression model predict passenger survival on the testing data sets\n",
    "yPrediction = LogReg.predict(xTest)"
   ]
  },
  {
   "cell_type": "code",
   "execution_count": 81,
   "id": "34b2fcc6",
   "metadata": {},
   "outputs": [
    {
     "name": "stdout",
     "output_type": "stream",
     "text": [
      "              precision    recall  f1-score   support\n",
      "\n",
      "         0.0       0.83      0.88      0.85       109\n",
      "         1.0       0.79      0.71      0.75        69\n",
      "\n",
      "    accuracy                           0.81       178\n",
      "   macro avg       0.81      0.80      0.80       178\n",
      "weighted avg       0.81      0.81      0.81       178\n",
      "\n"
     ]
    }
   ],
   "source": [
    "# Classification Report With Cross Validation\n",
    "# Decent results at around 80% successfull prediction results\n",
    "print(classification_report(yTest, yPrediction))"
   ]
  },
  {
   "cell_type": "code",
   "execution_count": 82,
   "id": "0456ef90",
   "metadata": {},
   "outputs": [
    {
     "data": {
      "text/plain": [
       "array([[377,  63],\n",
       "       [ 91, 180]])"
      ]
     },
     "execution_count": 82,
     "metadata": {},
     "output_type": "execute_result"
    }
   ],
   "source": [
    "# K-fold Cross Validation\n",
    "yTrainPrediction = cross_val_predict(LogReg, xTrain, yTrain, cv = 5)\n",
    "\n",
    "# Confusion Matrix\n",
    "# Top: Predicted Results\n",
    "#      Positive | Negative\n",
    "#\n",
    "# Side: Actual Results\n",
    "#       Postive\n",
    "#       Negative\n",
    "#\n",
    "# True Positive (TP): 377, False Negative (FN): 63\n",
    "# False Positive (FP): 91, True Negative (TN): 180\n",
    "confusion_matrix(yTrain, yTrainPrediction)"
   ]
  },
  {
   "cell_type": "code",
   "execution_count": 83,
   "id": "1f8bfe1f",
   "metadata": {},
   "outputs": [
    {
     "name": "stdout",
     "output_type": "stream",
     "text": [
      "0.7407407407407407\n"
     ]
    }
   ],
   "source": [
    "# Determining the precision score of the logistic regression model\n",
    "print(precision_score(yTrain, yTrainPrediction))"
   ]
  },
  {
   "cell_type": "code",
   "execution_count": 84,
   "id": "d4d1ddeb",
   "metadata": {},
   "outputs": [
    {
     "name": "stdout",
     "output_type": "stream",
     "text": [
      "     PassengerId  Survived   Age  SibSp  Parch  Male Gender    C    Q    S\n",
      "863        866.0       1.0  42.0    0.0    0.0          0.0  0.0  0.0  1.0\n"
     ]
    }
   ],
   "source": [
    "# Making a test prediction\n",
    "\n",
    "# Pulling a single row from the processed Titanic dataframe as the basis of a test passenger\n",
    "print(titanicDummyData[863:864])"
   ]
  },
  {
   "cell_type": "code",
   "execution_count": 85,
   "id": "c19e4b02",
   "metadata": {},
   "outputs": [
    {
     "name": "stdout",
     "output_type": "stream",
     "text": [
      "[[866  40   0   0   0   0   0   1]]\n"
     ]
    }
   ],
   "source": [
    "# Fictitious passenger that is 2 years younger\n",
    "testPassenger = np.array([866, 40, 0, 0, 0, 0, 0, 1]).reshape(1, -1)\n",
    "print(testPassenger)"
   ]
  },
  {
   "cell_type": "code",
   "execution_count": 86,
   "id": "bcc47740",
   "metadata": {},
   "outputs": [
    {
     "name": "stdout",
     "output_type": "stream",
     "text": [
      "[1.]\n",
      "[[0.26351831 0.73648169]]\n"
     ]
    },
    {
     "name": "stderr",
     "output_type": "stream",
     "text": [
      "/Library/Frameworks/Python.framework/Versions/3.10/lib/python3.10/site-packages/sklearn/base.py:450: UserWarning: X does not have valid feature names, but LogisticRegression was fitted with feature names\n",
      "  warnings.warn(\n",
      "/Library/Frameworks/Python.framework/Versions/3.10/lib/python3.10/site-packages/sklearn/base.py:450: UserWarning: X does not have valid feature names, but LogisticRegression was fitted with feature names\n",
      "  warnings.warn(\n"
     ]
    }
   ],
   "source": [
    "# Passenger is predicted to survive at approximately 74%\n",
    "print(LogReg.predict(testPassenger))\n",
    "print(LogReg.predict_proba(testPassenger))"
   ]
  },
  {
   "cell_type": "code",
   "execution_count": 91,
   "id": "6b54eb27",
   "metadata": {},
   "outputs": [
    {
     "name": "stdout",
     "output_type": "stream",
     "text": [
      "[[-0.90068117  1.01900435 -1.34022653 -1.3154443 ]\n",
      " [-1.14301691 -0.13197948 -1.34022653 -1.3154443 ]\n",
      " [-1.38535265  0.32841405 -1.39706395 -1.3154443 ]\n",
      " [-1.50652052  0.09821729 -1.2833891  -1.3154443 ]\n",
      " [-1.02184904  1.24920112 -1.34022653 -1.3154443 ]\n",
      " [-0.53717756  1.93979142 -1.16971425 -1.05217993]\n",
      " [-1.50652052  0.78880759 -1.34022653 -1.18381211]\n",
      " [-1.02184904  0.78880759 -1.2833891  -1.3154443 ]\n",
      " [-1.74885626 -0.36217625 -1.34022653 -1.3154443 ]\n",
      " [-1.14301691  0.09821729 -1.2833891  -1.44707648]]\n"
     ]
    }
   ],
   "source": [
    "# Clustering Models\n",
    "# K-Means Clustering\n",
    "\n",
    "# Iris dataset is a staple of machine learnin and data analytics, has its own method in sklearn\n",
    "iris = datasets.load_iris()\n",
    "\n",
    "x = scale(iris.data)\n",
    "y = pd.DataFrame(iris.target)\n",
    "variableNames = iris.feature_names\n",
    "\n",
    "print(x[0:10])"
   ]
  },
  {
   "cell_type": "code",
   "execution_count": 92,
   "id": "9617f935",
   "metadata": {},
   "outputs": [
    {
     "data": {
      "text/html": [
       "<style>#sk-container-id-2 {color: black;background-color: white;}#sk-container-id-2 pre{padding: 0;}#sk-container-id-2 div.sk-toggleable {background-color: white;}#sk-container-id-2 label.sk-toggleable__label {cursor: pointer;display: block;width: 100%;margin-bottom: 0;padding: 0.3em;box-sizing: border-box;text-align: center;}#sk-container-id-2 label.sk-toggleable__label-arrow:before {content: \"▸\";float: left;margin-right: 0.25em;color: #696969;}#sk-container-id-2 label.sk-toggleable__label-arrow:hover:before {color: black;}#sk-container-id-2 div.sk-estimator:hover label.sk-toggleable__label-arrow:before {color: black;}#sk-container-id-2 div.sk-toggleable__content {max-height: 0;max-width: 0;overflow: hidden;text-align: left;background-color: #f0f8ff;}#sk-container-id-2 div.sk-toggleable__content pre {margin: 0.2em;color: black;border-radius: 0.25em;background-color: #f0f8ff;}#sk-container-id-2 input.sk-toggleable__control:checked~div.sk-toggleable__content {max-height: 200px;max-width: 100%;overflow: auto;}#sk-container-id-2 input.sk-toggleable__control:checked~label.sk-toggleable__label-arrow:before {content: \"▾\";}#sk-container-id-2 div.sk-estimator input.sk-toggleable__control:checked~label.sk-toggleable__label {background-color: #d4ebff;}#sk-container-id-2 div.sk-label input.sk-toggleable__control:checked~label.sk-toggleable__label {background-color: #d4ebff;}#sk-container-id-2 input.sk-hidden--visually {border: 0;clip: rect(1px 1px 1px 1px);clip: rect(1px, 1px, 1px, 1px);height: 1px;margin: -1px;overflow: hidden;padding: 0;position: absolute;width: 1px;}#sk-container-id-2 div.sk-estimator {font-family: monospace;background-color: #f0f8ff;border: 1px dotted black;border-radius: 0.25em;box-sizing: border-box;margin-bottom: 0.5em;}#sk-container-id-2 div.sk-estimator:hover {background-color: #d4ebff;}#sk-container-id-2 div.sk-parallel-item::after {content: \"\";width: 100%;border-bottom: 1px solid gray;flex-grow: 1;}#sk-container-id-2 div.sk-label:hover label.sk-toggleable__label {background-color: #d4ebff;}#sk-container-id-2 div.sk-serial::before {content: \"\";position: absolute;border-left: 1px solid gray;box-sizing: border-box;top: 0;bottom: 0;left: 50%;z-index: 0;}#sk-container-id-2 div.sk-serial {display: flex;flex-direction: column;align-items: center;background-color: white;padding-right: 0.2em;padding-left: 0.2em;position: relative;}#sk-container-id-2 div.sk-item {position: relative;z-index: 1;}#sk-container-id-2 div.sk-parallel {display: flex;align-items: stretch;justify-content: center;background-color: white;position: relative;}#sk-container-id-2 div.sk-item::before, #sk-container-id-2 div.sk-parallel-item::before {content: \"\";position: absolute;border-left: 1px solid gray;box-sizing: border-box;top: 0;bottom: 0;left: 50%;z-index: -1;}#sk-container-id-2 div.sk-parallel-item {display: flex;flex-direction: column;z-index: 1;position: relative;background-color: white;}#sk-container-id-2 div.sk-parallel-item:first-child::after {align-self: flex-end;width: 50%;}#sk-container-id-2 div.sk-parallel-item:last-child::after {align-self: flex-start;width: 50%;}#sk-container-id-2 div.sk-parallel-item:only-child::after {width: 0;}#sk-container-id-2 div.sk-dashed-wrapped {border: 1px dashed gray;margin: 0 0.4em 0.5em 0.4em;box-sizing: border-box;padding-bottom: 0.4em;background-color: white;}#sk-container-id-2 div.sk-label label {font-family: monospace;font-weight: bold;display: inline-block;line-height: 1.2em;}#sk-container-id-2 div.sk-label-container {text-align: center;}#sk-container-id-2 div.sk-container {/* jupyter's `normalize.less` sets `[hidden] { display: none; }` but bootstrap.min.css set `[hidden] { display: none !important; }` so we also need the `!important` here to be able to override the default hidden behavior on the sphinx rendered scikit-learn.org. See: https://github.com/scikit-learn/scikit-learn/issues/21755 */display: inline-block !important;position: relative;}#sk-container-id-2 div.sk-text-repr-fallback {display: none;}</style><div id=\"sk-container-id-2\" class=\"sk-top-container\"><div class=\"sk-text-repr-fallback\"><pre>KMeans(n_clusters=3, random_state=5)</pre><b>In a Jupyter environment, please rerun this cell to show the HTML representation or trust the notebook. <br />On GitHub, the HTML representation is unable to render, please try loading this page with nbviewer.org.</b></div><div class=\"sk-container\" hidden><div class=\"sk-item\"><div class=\"sk-estimator sk-toggleable\"><input class=\"sk-toggleable__control sk-hidden--visually\" id=\"sk-estimator-id-2\" type=\"checkbox\" checked><label for=\"sk-estimator-id-2\" class=\"sk-toggleable__label sk-toggleable__label-arrow\">KMeans</label><div class=\"sk-toggleable__content\"><pre>KMeans(n_clusters=3, random_state=5)</pre></div></div></div></div></div>"
      ],
      "text/plain": [
       "KMeans(n_clusters=3, random_state=5)"
      ]
     },
     "execution_count": 92,
     "metadata": {},
     "output_type": "execute_result"
    }
   ],
   "source": [
    "# Building & Running The Clustering Model\n",
    "\n",
    "# Has default parameters already set for the model\n",
    "clustering = KMeans(n_clusters = 3, random_state = 5)\n",
    "clustering.fit(x)"
   ]
  },
  {
   "cell_type": "code",
   "execution_count": 93,
   "id": "6e425674",
   "metadata": {},
   "outputs": [],
   "source": [
    "# Plotting out the model outputs\n",
    "irisDataframe = pd.DataFrame(iris.data)\n",
    "irisDataframe.columns = ['SepalLength', 'SepalWidth', 'PetalLength', 'PetalWidth']\n",
    "y.columns = ['Target']"
   ]
  },
  {
   "cell_type": "code",
   "execution_count": 96,
   "id": "f7fc0c28",
   "metadata": {},
   "outputs": [
    {
     "data": {
      "text/plain": [
       "Text(0.5, 1.0, 'K-Means Classification')"
      ]
     },
     "execution_count": 96,
     "metadata": {},
     "output_type": "execute_result"
    },
    {
     "data": {
      "image/png": "[encoded data removed]",
      "text/plain": [
       "<Figure size 720x576 with 2 Axes>"
      ]
     },
     "metadata": {},
     "output_type": "display_data"
    }
   ],
   "source": [
    "# Relabeling the cluster labels so as to match colors\n",
    "relabel = np.choose(clustering.labels_, [2, 0 , 1]).astype(np.int64)\n",
    "\n",
    "colorTheme = np.array(['darkgray', 'lightsalmon', 'powderblue'])\n",
    "plt.subplot(1, 2, 1)\n",
    "\n",
    "# Genuine Classification Results\n",
    "plt.scatter(x = irisDataframe.PetalLength, y = irisDataframe.PetalWidth, c = colorTheme[iris.target], s= 50)\n",
    "plt.title('Ground Truth Classification')\n",
    "plt.subplot(1, 2, 2)\n",
    "\n",
    "# K-Means Clustering\n",
    "#plt.scatter(x = irisDataframe.PetalLength, y = irisDataframe.PetalWidth, c = colorTheme[clustering.labels_], s= 50)\n",
    "plt.scatter(x = irisDataframe.PetalLength, y = irisDataframe.PetalWidth, c = colorTheme[relabel], s= 50)\n",
    "plt.title('K-Means Classification')"
   ]
  },
  {
   "cell_type": "code",
   "execution_count": 97,
   "id": "2c012610",
   "metadata": {},
   "outputs": [
    {
     "name": "stdout",
     "output_type": "stream",
     "text": [
      "              precision    recall  f1-score   support\n",
      "\n",
      "           0       1.00      1.00      1.00        50\n",
      "           1       0.74      0.78      0.76        50\n",
      "           2       0.77      0.72      0.74        50\n",
      "\n",
      "    accuracy                           0.83       150\n",
      "   macro avg       0.83      0.83      0.83       150\n",
      "weighted avg       0.83      0.83      0.83       150\n",
      "\n"
     ]
    }
   ],
   "source": [
    "# Evaluating clustering results\n",
    "# Machine learning desires both high precision and high recall\n",
    "# Precision: Measure of the model's relevancy\n",
    "# Recall: Measure of the model's completeness\n",
    "print(classification_report(y, relabel))"
   ]
  },
  {
   "cell_type": "code",
   "execution_count": 104,
   "id": "672f27e7",
   "metadata": {},
   "outputs": [],
   "source": [
    "# Hierarchical Clustering\n",
    "\n",
    "# Loading in cars data\n",
    "cars = pd.read_csv('mtcars.csv')\n",
    "cars.columns = ['car_names', 'mpg', 'cyl', 'disp', 'hp', 'drat', 'wt', 'qsec', 'vs', 'am', 'gear', 'carb']\n",
    "\n",
    "x = cars[['mpg', 'disp', 'hp', 'wt']].values\n",
    "\n",
    "# Target is type of transmission\n",
    "y = cars.iloc[:, (9)].values"
   ]
  },
  {
   "cell_type": "code",
   "execution_count": 103,
   "id": "aba30e90",
   "metadata": {},
   "outputs": [
    {
     "data": {
      "image/png": "[encoded data removed]",
      "text/plain": [
       "<Figure size 720x576 with 1 Axes>"
      ]
     },
     "metadata": {},
     "output_type": "display_data"
    }
   ],
   "source": [
    "# Using scipy to generate dendrograms\n",
    "# Result generated from scipy hierarchical clustering method\n",
    "# 'ward': Using the word associating method for clustering\n",
    "z = linkage(x, 'ward')\n",
    "dendrogram(z, truncate_mode = 'lastp', p = 12, leaf_rotation = 45., leaf_font_size = 15, show_contracted = True)\n",
    "\n",
    "plt.title('Truncated Hierarchical Clustering Diagram')\n",
    "plt.xlabel('Cluster Size')\n",
    "plt.ylabel('Distance')\n",
    "plt.axhline(y = 500)\n",
    "plt.axhline(y = 150)\n",
    "plt.show()\n",
    "\n",
    "# In attempting to cluster by transmission type, only 2 clusters are desired for automatica and manual cars\n",
    "# Dendrogram provides ability to see best distances to use when clustering to reach 2 clusters"
   ]
  },
  {
   "cell_type": "code",
   "execution_count": 106,
   "id": "ed283f84",
   "metadata": {},
   "outputs": [
    {
     "data": {
      "text/plain": [
       "0.78125"
      ]
     },
     "execution_count": 106,
     "metadata": {},
     "output_type": "execute_result"
    }
   ],
   "source": [
    "# Generating the hierarchical cluster\n",
    "# 'affinity': How distance is calculated\n",
    "\n",
    "# Attempt different iterations to determine the most accurate model\n",
    "# 'ward': 0.78125\n",
    "# 'average': 0.78125\n",
    "# 'manhattan' & 'average': 0.71875\n",
    "k = 2\n",
    "Hclustering = AgglomerativeClustering(n_clusters = k, affinity = 'euclidean', linkage = 'ward')\n",
    "Hclustering.fit(x)\n",
    "sklearn.metrics.accuracy_score(y, Hclustering.labels_)"
   ]
  },
  {
   "cell_type": "code",
   "execution_count": 110,
   "id": "ca4b0746",
   "metadata": {},
   "outputs": [
    {
     "name": "stdout",
     "output_type": "stream",
     "text": [
      "   SepalLength  SepalWidth  PetalLength  PetalWidth\n",
      "0          5.1         3.5          1.4         0.2\n",
      "1          4.9         3.0          1.4         0.2\n",
      "2          4.7         3.2          1.3         0.2\n",
      "3          4.6         3.1          1.5         0.2\n",
      "4          5.0         3.6          1.4         0.2\n"
     ]
    }
   ],
   "source": [
    "# DBSCAN Clustering To Identify Outliers\n",
    "\n",
    "# Select all rows for index columns 0 to 3\n",
    "dbscanData = irisDataframe.iloc[:, 0:4].values\n",
    "\n",
    "# Selecting all rows for index column 4\n",
    "target = irisDataframe.iloc[:, 3:4].values\n",
    "\n",
    "print(irisDataframe.head())"
   ]
  },
  {
   "cell_type": "code",
   "execution_count": 111,
   "id": "fcc10cd1",
   "metadata": {},
   "outputs": [
    {
     "name": "stdout",
     "output_type": "stream",
     "text": [
      "DBSCAN(eps=0.8, min_samples=19)\n"
     ]
    }
   ],
   "source": [
    "# 'eps': Maximum distance between two points where they can still be considered as within the same neighborhood\n",
    "# 'min_samples': A core point must have a minimum of 'x' samples\n",
    "dbscanModel = DBSCAN(eps = 0.8, min_samples = 19).fit(dbscanData)\n",
    "print(dbscanModel)"
   ]
  },
  {
   "cell_type": "code",
   "execution_count": 113,
   "id": "d5abac22",
   "metadata": {},
   "outputs": [
    {
     "name": "stdout",
     "output_type": "stream",
     "text": [
      "Counter({1: 94, 0: 50, -1: 6})\n",
      "       0    1    2    3\n",
      "98   5.1  2.5  3.0  1.1\n",
      "105  7.6  3.0  6.6  2.1\n",
      "117  7.7  3.8  6.7  2.2\n",
      "118  7.7  2.6  6.9  2.3\n",
      "122  7.7  2.8  6.7  2.0\n",
      "131  7.9  3.8  6.4  2.0\n"
     ]
    }
   ],
   "source": [
    "# Visualizing Results\n",
    "# No more than 5% of the total number of datapoints should be labeled as outliers\n",
    "outliersDataframe = pd.DataFrame(dbscanData)\n",
    "\n",
    "print(Counter(dbscanModel.labels_))\n",
    "\n",
    "# Prinintg out only those model labels equal to -1 for the outliers dataframe\n",
    "print(outliersDataframe[dbscanModel.labels_== -1])"
   ]
  },
  {
   "cell_type": "code",
   "execution_count": 116,
   "id": "8064a5c6",
   "metadata": {},
   "outputs": [
    {
     "data": {
      "text/plain": [
       "Text(0.5, 1.0, 'DBSCAN For Outlier Detection')"
      ]
     },
     "execution_count": 116,
     "metadata": {},
     "output_type": "execute_result"
    },
    {
     "data": {
      "image/png": "[encoded data removed]",
      "text/plain": [
       "<Figure size 720x576 with 1 Axes>"
      ]
     },
     "metadata": {},
     "output_type": "display_data"
    }
   ],
   "source": [
    "figure = plt.figure()\n",
    "axes = figure.add_axes([0.1, 0.1, 1, 1])\n",
    "\n",
    "# Setting the colors to those of the pre-existing model's labels\n",
    "colors = dbscanModel.labels_\n",
    "\n",
    "# Creating a scatterplot\n",
    "# Red & Pink points represent the core points and are part of the clusters\n",
    "# Black points are collective outliers\n",
    "axes.scatter(dbscanData[:, 2], dbscanData[:, 1], c = colors, s = 120)\n",
    "axes.set_xlabel('Petal Length')\n",
    "axes.set_ylabel('Sepal Width')\n",
    "plt.title('DBSCAN For Outlier Detection')"
   ]
  },
  {
   "cell_type": "code",
   "execution_count": 118,
   "id": "875e2aa9",
   "metadata": {},
   "outputs": [
    {
     "name": "stdout",
     "output_type": "stream",
     "text": [
      "[[5.1 3.5 1.4 0.2]\n",
      " [4.9 3.  1.4 0.2]\n",
      " [4.7 3.2 1.3 0.2]\n",
      " [4.6 3.1 1.5 0.2]\n",
      " [5.  3.6 1.4 0.2]\n",
      " [5.4 3.9 1.7 0.4]\n",
      " [4.6 3.4 1.4 0.3]\n",
      " [5.  3.4 1.5 0.2]\n",
      " [4.4 2.9 1.4 0.2]\n",
      " [4.9 3.1 1.5 0.1]]\n"
     ]
    }
   ],
   "source": [
    "# Factor Analysis\n",
    "# Method which explores a dataset in order to find root causes which explain why data is acting in a certain way\n",
    "# Factors: Latent Variables - Meaningful but that are inferred and not directly observable\n",
    "# Assumptions:\n",
    "# 1. Factors are metric\n",
    "# 2. Features are continous or ordinal\n",
    "# 3. There is R > 0.3 correlation between the features within the dataset\n",
    "# 4. There are observations > 100 with at least each feature having > 5 observations each\n",
    "# 5. The overall sample dataset is homogenous\n",
    "\n",
    "# Factor Loading: Output\n",
    "# -1 or 1: Factor has a strong influence upon the given variable\n",
    "# 0: Factor has a weak influence upon the given variable\n",
    "# > 1: Factors are highly correlated\n",
    "\n",
    "# Iris Dataset\n",
    "x = iris.data\n",
    "variableNames = iris.feature_names\n",
    "\n",
    "print(x[0:10])"
   ]
  },
  {
   "cell_type": "code",
   "execution_count": 119,
   "id": "4f8fd908",
   "metadata": {},
   "outputs": [
    {
     "name": "stdout",
     "output_type": "stream",
     "text": [
      "   sepal length (cm)  sepal width (cm)  petal length (cm)  petal width (cm)\n",
      "0           0.706989         -0.158005           1.654236           0.70085\n",
      "1           0.115161          0.159635          -0.044321          -0.01403\n",
      "2          -0.000000          0.000000           0.000000           0.00000\n",
      "3          -0.000000          0.000000           0.000000          -0.00000\n"
     ]
    }
   ],
   "source": [
    "# Factor 0: Highly influential on sepal length, petal length and width\n",
    "# Factor 1: Little influence throughout, should be dropped\n",
    "\n",
    "factor = FactorAnalysis().fit(x)\n",
    "factorDataframe = pd.DataFrame(factor.components_, columns = variableNames)\n",
    "print(factorDataframe)"
   ]
  },
  {
   "cell_type": "code",
   "execution_count": 122,
   "id": "9462b47e",
   "metadata": {},
   "outputs": [
    {
     "name": "stdout",
     "output_type": "stream",
     "text": [
      "[[5.1 3.5 1.4 0.2]\n",
      " [4.9 3.  1.4 0.2]\n",
      " [4.7 3.2 1.3 0.2]\n",
      " [4.6 3.1 1.5 0.2]\n",
      " [5.  3.6 1.4 0.2]\n",
      " [5.4 3.9 1.7 0.4]\n",
      " [4.6 3.4 1.4 0.3]\n",
      " [5.  3.4 1.5 0.2]\n",
      " [4.4 2.9 1.4 0.2]\n",
      " [4.9 3.1 1.5 0.1]]\n"
     ]
    }
   ],
   "source": [
    "# Principal Component Anlaysis\n",
    "# Unsupervised machine learning algorythm that discovers relationships between variables and reduces variables down\n",
    "# to a pricipal components\n",
    "\n",
    "# Principal Components:\n",
    "# Uncorrelated features tham embody a dataset's important information ('variance') with the redundancy, \n",
    "# noise and outliers stripped out\n",
    "\n",
    "# Singular Value Decomposition:\n",
    "# Linear algebra method that decomposes a matrix into 3 resultant matrices in order to reduce \n",
    "# information redundancy and noise, most commonly used in principal component analysis\n",
    "\n",
    "# Both factor and principal components represent what is left of a dataset after information redundancy and noise\n",
    "# have been stripped out\n",
    "\n",
    "# Iris Data Set sample\n",
    "print(x[0:10,])"
   ]
  },
  {
   "cell_type": "code",
   "execution_count": 125,
   "id": "c2bfec4e",
   "metadata": {},
   "outputs": [
    {
     "name": "stdout",
     "output_type": "stream",
     "text": [
      "[0.92461872 0.05306648 0.01710261 0.00521218]\n"
     ]
    }
   ],
   "source": [
    "pca = decomposition.PCA()\n",
    "irisPCA = pca.fit_transform(x)\n",
    "\n",
    "# Explained Variance Ratio\n",
    "# Tells us how much information is compressed into the first few components\n",
    "# First component explains 92.4% of the variance and information of the dataset\n",
    "# First 2 components are kept\n",
    "print(pca.explained_variance_ratio_)"
   ]
  },
  {
   "cell_type": "code",
   "execution_count": 126,
   "id": "be779175",
   "metadata": {},
   "outputs": [
    {
     "name": "stdout",
     "output_type": "stream",
     "text": [
      "1.0\n"
     ]
    }
   ],
   "source": [
    "# Cumulative Variance\n",
    "# At least 70% of the original dataset's information must be retained when deciding how many\n",
    "# components to keep\n",
    "# PCA's purpose is to remove noise, redudnant information and outliers, so you don't \n",
    "print(pca.explained_variance_ratio_.sum())"
   ]
  },
  {
   "cell_type": "code",
   "execution_count": 129,
   "id": "b46ec752",
   "metadata": {},
   "outputs": [
    {
     "name": "stdout",
     "output_type": "stream",
     "text": [
      "   sepal length (cm)  sepal width (cm)  petal length (cm)  petal width (cm)\n",
      "0           0.361387         -0.084523           0.856671          0.358289\n",
      "1           0.656589          0.730161          -0.173373         -0.075481\n",
      "2          -0.582030          0.597911           0.076236          0.545831\n",
      "3          -0.315487          0.319723           0.479839         -0.753657\n"
     ]
    }
   ],
   "source": [
    "irisComponents = pd.DataFrame(pca.components_, columns = variableNames)\n",
    "print(irisComponents)"
   ]
  },
  {
   "cell_type": "code",
   "execution_count": 130,
   "id": "41c64520",
   "metadata": {},
   "outputs": [
    {
     "data": {
      "text/plain": [
       "<AxesSubplot:>"
      ]
     },
     "execution_count": 130,
     "metadata": {},
     "output_type": "execute_result"
    },
    {
     "data": {
      "image/png": "[encoded data removed]",
      "text/plain": [
       "<Figure size 720x576 with 2 Axes>"
      ]
     },
     "metadata": {},
     "output_type": "display_data"
    }
   ],
   "source": [
    "# Components used in machine learning algorithms\n",
    "sb.heatmap(irisComponents, cmap = 'Blues', annot = True)"
   ]
  },
  {
   "cell_type": "code",
   "execution_count": 133,
   "id": "9883f499",
   "metadata": {},
   "outputs": [],
   "source": [
    "# Association Rule Mining\n",
    "# Process that deploys pattern recognition to identify and quantify \n",
    "# relationships between different, yet related items\n",
    "# If item 'x' is purchased, then probability that item 'y' will be purchase is z ({x} -> {y})\n",
    "# Mesured by:\n",
    "# Support: Relative frequency of an item within a dataset, support(A -> C) = support (A U C)\n",
    "# Confidence: Probability of seeing the consequent ('then' term) item 'x' within the data given said data also\n",
    "# contained the antecedent ('if' term) item 'y'; how likely 'y' is purchased given 'x' has been \n",
    "# Measures how many if-then statements are found to be true in a dataset\n",
    "# confidence(A -> C) = support(A -> C) / support(A)\n",
    "# Lift: Measures how much more often the antecedent and consequent occur together rather than them occurring\n",
    "# independently, lift(A -> C) = confidence(A -> C) / support(C)\n",
    "# Lift Scores:\n",
    "# > 1: A highly associated with C, if A occurs, C is likely to occur\n",
    "# < 1: If A occurs, C is unlikely to occur\n",
    "# = 1: No association between items A and C\n",
    "\n",
    "# Feature Engineering\n",
    "# Process of engineering data into a predicitive feature that fits the requirements and / or improves the \n",
    "# performance of a machine learning mode\n",
    "\n",
    "# Apriori algorithm used to implement association rule mining over structured data"
   ]
  },
  {
   "cell_type": "code",
   "execution_count": 137,
   "id": "3f198ad1",
   "metadata": {},
   "outputs": [
    {
     "data": {
      "text/html": [
       "<div>\n",
       "<style scoped>\n",
       "    .dataframe tbody tr th:only-of-type {\n",
       "        vertical-align: middle;\n",
       "    }\n",
       "\n",
       "    .dataframe tbody tr th {\n",
       "        vertical-align: top;\n",
       "    }\n",
       "\n",
       "    .dataframe thead th {\n",
       "        text-align: right;\n",
       "    }\n",
       "</style>\n",
       "<table border=\"1\" class=\"dataframe\">\n",
       "  <thead>\n",
       "    <tr style=\"text-align: right;\">\n",
       "      <th></th>\n",
       "      <th>1</th>\n",
       "      <th>2</th>\n",
       "      <th>3</th>\n",
       "      <th>4</th>\n",
       "      <th>5</th>\n",
       "      <th>6</th>\n",
       "      <th>7</th>\n",
       "      <th>8</th>\n",
       "      <th>9</th>\n",
       "    </tr>\n",
       "  </thead>\n",
       "  <tbody>\n",
       "    <tr>\n",
       "      <th>0</th>\n",
       "      <td>citrus fruit</td>\n",
       "      <td>semi-finished bread</td>\n",
       "      <td>margarine</td>\n",
       "      <td>ready soups</td>\n",
       "      <td>NaN</td>\n",
       "      <td>NaN</td>\n",
       "      <td>NaN</td>\n",
       "      <td>NaN</td>\n",
       "      <td>NaN</td>\n",
       "    </tr>\n",
       "    <tr>\n",
       "      <th>1</th>\n",
       "      <td>tropical fruit</td>\n",
       "      <td>yogurt</td>\n",
       "      <td>coffee</td>\n",
       "      <td>NaN</td>\n",
       "      <td>NaN</td>\n",
       "      <td>NaN</td>\n",
       "      <td>NaN</td>\n",
       "      <td>NaN</td>\n",
       "      <td>NaN</td>\n",
       "    </tr>\n",
       "    <tr>\n",
       "      <th>2</th>\n",
       "      <td>whole milk</td>\n",
       "      <td>NaN</td>\n",
       "      <td>NaN</td>\n",
       "      <td>NaN</td>\n",
       "      <td>NaN</td>\n",
       "      <td>NaN</td>\n",
       "      <td>NaN</td>\n",
       "      <td>NaN</td>\n",
       "      <td>NaN</td>\n",
       "    </tr>\n",
       "    <tr>\n",
       "      <th>3</th>\n",
       "      <td>pip fruit</td>\n",
       "      <td>yogurt</td>\n",
       "      <td>cream cheese</td>\n",
       "      <td>meat spreads</td>\n",
       "      <td>NaN</td>\n",
       "      <td>NaN</td>\n",
       "      <td>NaN</td>\n",
       "      <td>NaN</td>\n",
       "      <td>NaN</td>\n",
       "    </tr>\n",
       "    <tr>\n",
       "      <th>4</th>\n",
       "      <td>other vegetables</td>\n",
       "      <td>whole milk</td>\n",
       "      <td>condensed milk</td>\n",
       "      <td>long life bakery product</td>\n",
       "      <td>NaN</td>\n",
       "      <td>NaN</td>\n",
       "      <td>NaN</td>\n",
       "      <td>NaN</td>\n",
       "      <td>NaN</td>\n",
       "    </tr>\n",
       "  </tbody>\n",
       "</table>\n",
       "</div>"
      ],
      "text/plain": [
       "                  1                    2               3  \\\n",
       "0      citrus fruit  semi-finished bread       margarine   \n",
       "1    tropical fruit               yogurt          coffee   \n",
       "2        whole milk                  NaN             NaN   \n",
       "3         pip fruit               yogurt   cream cheese    \n",
       "4  other vegetables           whole milk  condensed milk   \n",
       "\n",
       "                          4    5    6    7    8    9  \n",
       "0               ready soups  NaN  NaN  NaN  NaN  NaN  \n",
       "1                       NaN  NaN  NaN  NaN  NaN  NaN  \n",
       "2                       NaN  NaN  NaN  NaN  NaN  NaN  \n",
       "3              meat spreads  NaN  NaN  NaN  NaN  NaN  \n",
       "4  long life bakery product  NaN  NaN  NaN  NaN  NaN  "
      ]
     },
     "execution_count": 137,
     "metadata": {},
     "output_type": "execute_result"
    }
   ],
   "source": [
    "# Formatting the data\n",
    "# Each row is a transaction\n",
    "groceriesData = pd.read_csv('Groceries.csv')\n",
    "groceriesData.head()"
   ]
  },
  {
   "cell_type": "code",
   "execution_count": 136,
   "id": "9146e33b",
   "metadata": {},
   "outputs": [
    {
     "data": {
      "text/html": [
       "<div>\n",
       "<style scoped>\n",
       "    .dataframe tbody tr th:only-of-type {\n",
       "        vertical-align: middle;\n",
       "    }\n",
       "\n",
       "    .dataframe tbody tr th {\n",
       "        vertical-align: top;\n",
       "    }\n",
       "\n",
       "    .dataframe thead th {\n",
       "        text-align: right;\n",
       "    }\n",
       "</style>\n",
       "<table border=\"1\" class=\"dataframe\">\n",
       "  <thead>\n",
       "    <tr style=\"text-align: right;\">\n",
       "      <th></th>\n",
       "      <th>1_Instant food products</th>\n",
       "      <th>1_UHT-milk</th>\n",
       "      <th>1_artif. sweetener</th>\n",
       "      <th>1_baby cosmetics</th>\n",
       "      <th>1_bags</th>\n",
       "      <th>1_baking powder</th>\n",
       "      <th>1_bathroom cleaner</th>\n",
       "      <th>1_beef</th>\n",
       "      <th>1_berries</th>\n",
       "      <th>1_beverages</th>\n",
       "      <th>...</th>\n",
       "      <th>9_sweet spreads</th>\n",
       "      <th>9_tea</th>\n",
       "      <th>9_vinegar</th>\n",
       "      <th>9_waffles</th>\n",
       "      <th>9_whipped/sour cream</th>\n",
       "      <th>9_white bread</th>\n",
       "      <th>9_white wine</th>\n",
       "      <th>9_whole milk</th>\n",
       "      <th>9_yogurt</th>\n",
       "      <th>9_zwieback</th>\n",
       "    </tr>\n",
       "  </thead>\n",
       "  <tbody>\n",
       "    <tr>\n",
       "      <th>0</th>\n",
       "      <td>0</td>\n",
       "      <td>0</td>\n",
       "      <td>0</td>\n",
       "      <td>0</td>\n",
       "      <td>0</td>\n",
       "      <td>0</td>\n",
       "      <td>0</td>\n",
       "      <td>0</td>\n",
       "      <td>0</td>\n",
       "      <td>0</td>\n",
       "      <td>...</td>\n",
       "      <td>0</td>\n",
       "      <td>0</td>\n",
       "      <td>0</td>\n",
       "      <td>0</td>\n",
       "      <td>0</td>\n",
       "      <td>0</td>\n",
       "      <td>0</td>\n",
       "      <td>0</td>\n",
       "      <td>0</td>\n",
       "      <td>0</td>\n",
       "    </tr>\n",
       "    <tr>\n",
       "      <th>1</th>\n",
       "      <td>0</td>\n",
       "      <td>0</td>\n",
       "      <td>0</td>\n",
       "      <td>0</td>\n",
       "      <td>0</td>\n",
       "      <td>0</td>\n",
       "      <td>0</td>\n",
       "      <td>0</td>\n",
       "      <td>0</td>\n",
       "      <td>0</td>\n",
       "      <td>...</td>\n",
       "      <td>0</td>\n",
       "      <td>0</td>\n",
       "      <td>0</td>\n",
       "      <td>0</td>\n",
       "      <td>0</td>\n",
       "      <td>0</td>\n",
       "      <td>0</td>\n",
       "      <td>0</td>\n",
       "      <td>0</td>\n",
       "      <td>0</td>\n",
       "    </tr>\n",
       "    <tr>\n",
       "      <th>2</th>\n",
       "      <td>0</td>\n",
       "      <td>0</td>\n",
       "      <td>0</td>\n",
       "      <td>0</td>\n",
       "      <td>0</td>\n",
       "      <td>0</td>\n",
       "      <td>0</td>\n",
       "      <td>0</td>\n",
       "      <td>0</td>\n",
       "      <td>0</td>\n",
       "      <td>...</td>\n",
       "      <td>0</td>\n",
       "      <td>0</td>\n",
       "      <td>0</td>\n",
       "      <td>0</td>\n",
       "      <td>0</td>\n",
       "      <td>0</td>\n",
       "      <td>0</td>\n",
       "      <td>0</td>\n",
       "      <td>0</td>\n",
       "      <td>0</td>\n",
       "    </tr>\n",
       "    <tr>\n",
       "      <th>3</th>\n",
       "      <td>0</td>\n",
       "      <td>0</td>\n",
       "      <td>0</td>\n",
       "      <td>0</td>\n",
       "      <td>0</td>\n",
       "      <td>0</td>\n",
       "      <td>0</td>\n",
       "      <td>0</td>\n",
       "      <td>0</td>\n",
       "      <td>0</td>\n",
       "      <td>...</td>\n",
       "      <td>0</td>\n",
       "      <td>0</td>\n",
       "      <td>0</td>\n",
       "      <td>0</td>\n",
       "      <td>0</td>\n",
       "      <td>0</td>\n",
       "      <td>0</td>\n",
       "      <td>0</td>\n",
       "      <td>0</td>\n",
       "      <td>0</td>\n",
       "    </tr>\n",
       "    <tr>\n",
       "      <th>4</th>\n",
       "      <td>0</td>\n",
       "      <td>0</td>\n",
       "      <td>0</td>\n",
       "      <td>0</td>\n",
       "      <td>0</td>\n",
       "      <td>0</td>\n",
       "      <td>0</td>\n",
       "      <td>0</td>\n",
       "      <td>0</td>\n",
       "      <td>0</td>\n",
       "      <td>...</td>\n",
       "      <td>0</td>\n",
       "      <td>0</td>\n",
       "      <td>0</td>\n",
       "      <td>0</td>\n",
       "      <td>0</td>\n",
       "      <td>0</td>\n",
       "      <td>0</td>\n",
       "      <td>0</td>\n",
       "      <td>0</td>\n",
       "      <td>0</td>\n",
       "    </tr>\n",
       "  </tbody>\n",
       "</table>\n",
       "<p>5 rows × 1113 columns</p>\n",
       "</div>"
      ],
      "text/plain": [
       "   1_Instant food products  1_UHT-milk  1_artif. sweetener  1_baby cosmetics  \\\n",
       "0                        0           0                   0                 0   \n",
       "1                        0           0                   0                 0   \n",
       "2                        0           0                   0                 0   \n",
       "3                        0           0                   0                 0   \n",
       "4                        0           0                   0                 0   \n",
       "\n",
       "   1_bags  1_baking powder  1_bathroom cleaner  1_beef  1_berries  \\\n",
       "0       0                0                   0       0          0   \n",
       "1       0                0                   0       0          0   \n",
       "2       0                0                   0       0          0   \n",
       "3       0                0                   0       0          0   \n",
       "4       0                0                   0       0          0   \n",
       "\n",
       "   1_beverages  ...  9_sweet spreads  9_tea  9_vinegar  9_waffles  \\\n",
       "0            0  ...                0      0          0          0   \n",
       "1            0  ...                0      0          0          0   \n",
       "2            0  ...                0      0          0          0   \n",
       "3            0  ...                0      0          0          0   \n",
       "4            0  ...                0      0          0          0   \n",
       "\n",
       "   9_whipped/sour cream  9_white bread  9_white wine  9_whole milk  9_yogurt  \\\n",
       "0                     0              0             0             0         0   \n",
       "1                     0              0             0             0         0   \n",
       "2                     0              0             0             0         0   \n",
       "3                     0              0             0             0         0   \n",
       "4                     0              0             0             0         0   \n",
       "\n",
       "   9_zwieback  \n",
       "0           0  \n",
       "1           0  \n",
       "2           0  \n",
       "3           0  \n",
       "4           0  \n",
       "\n",
       "[5 rows x 1113 columns]"
      ]
     },
     "execution_count": 136,
     "metadata": {},
     "output_type": "execute_result"
    }
   ],
   "source": [
    "# Data Conversion\n",
    "# Data must be converted to a sparce format for apriori to function\n",
    "basketSets = pd.get_dummies(groceriesData)\n",
    "basketSets.head()"
   ]
  },
  {
   "cell_type": "code",
   "execution_count": 139,
   "id": "5022f380",
   "metadata": {},
   "outputs": [
    {
     "name": "stderr",
     "output_type": "stream",
     "text": [
      "/Library/Frameworks/Python.framework/Versions/3.10/lib/python3.10/site-packages/mlxtend/frequent_patterns/fpcommon.py:111: DeprecationWarning: DataFrames with non-bool types result in worse computationalperformance and their support might be discontinued in the future.Please use a DataFrame with bool type\n",
      "  warnings.warn(\n"
     ]
    },
    {
     "data": {
      "text/html": [
       "<div>\n",
       "<style scoped>\n",
       "    .dataframe tbody tr th:only-of-type {\n",
       "        vertical-align: middle;\n",
       "    }\n",
       "\n",
       "    .dataframe tbody tr th {\n",
       "        vertical-align: top;\n",
       "    }\n",
       "\n",
       "    .dataframe thead th {\n",
       "        text-align: right;\n",
       "    }\n",
       "</style>\n",
       "<table border=\"1\" class=\"dataframe\">\n",
       "  <thead>\n",
       "    <tr style=\"text-align: right;\">\n",
       "      <th></th>\n",
       "      <th>support</th>\n",
       "      <th>itemsets</th>\n",
       "    </tr>\n",
       "  </thead>\n",
       "  <tbody>\n",
       "    <tr>\n",
       "      <th>0</th>\n",
       "      <td>0.030421</td>\n",
       "      <td>(1_beef)</td>\n",
       "    </tr>\n",
       "    <tr>\n",
       "      <th>1</th>\n",
       "      <td>0.034951</td>\n",
       "      <td>(1_canned beer)</td>\n",
       "    </tr>\n",
       "    <tr>\n",
       "      <th>2</th>\n",
       "      <td>0.029126</td>\n",
       "      <td>(1_chicken)</td>\n",
       "    </tr>\n",
       "    <tr>\n",
       "      <th>3</th>\n",
       "      <td>0.049191</td>\n",
       "      <td>(1_citrus fruit)</td>\n",
       "    </tr>\n",
       "    <tr>\n",
       "      <th>4</th>\n",
       "      <td>0.064401</td>\n",
       "      <td>(1_frankfurter)</td>\n",
       "    </tr>\n",
       "    <tr>\n",
       "      <th>5</th>\n",
       "      <td>0.044660</td>\n",
       "      <td>(1_other vegetables)</td>\n",
       "    </tr>\n",
       "    <tr>\n",
       "      <th>6</th>\n",
       "      <td>0.024272</td>\n",
       "      <td>(1_pip fruit)</td>\n",
       "    </tr>\n",
       "    <tr>\n",
       "      <th>7</th>\n",
       "      <td>0.040453</td>\n",
       "      <td>(1_pork)</td>\n",
       "    </tr>\n",
       "    <tr>\n",
       "      <th>8</th>\n",
       "      <td>0.038835</td>\n",
       "      <td>(1_rolls/buns)</td>\n",
       "    </tr>\n",
       "    <tr>\n",
       "      <th>9</th>\n",
       "      <td>0.033981</td>\n",
       "      <td>(1_root vegetables)</td>\n",
       "    </tr>\n",
       "    <tr>\n",
       "      <th>10</th>\n",
       "      <td>0.076052</td>\n",
       "      <td>(1_sausage)</td>\n",
       "    </tr>\n",
       "    <tr>\n",
       "      <th>11</th>\n",
       "      <td>0.028803</td>\n",
       "      <td>(1_soda)</td>\n",
       "    </tr>\n",
       "    <tr>\n",
       "      <th>12</th>\n",
       "      <td>0.044984</td>\n",
       "      <td>(1_tropical fruit)</td>\n",
       "    </tr>\n",
       "    <tr>\n",
       "      <th>13</th>\n",
       "      <td>0.073463</td>\n",
       "      <td>(1_whole milk)</td>\n",
       "    </tr>\n",
       "    <tr>\n",
       "      <th>14</th>\n",
       "      <td>0.022977</td>\n",
       "      <td>(1_yogurt)</td>\n",
       "    </tr>\n",
       "    <tr>\n",
       "      <th>15</th>\n",
       "      <td>0.028803</td>\n",
       "      <td>(2_citrus fruit)</td>\n",
       "    </tr>\n",
       "    <tr>\n",
       "      <th>16</th>\n",
       "      <td>0.058900</td>\n",
       "      <td>(2_other vegetables)</td>\n",
       "    </tr>\n",
       "    <tr>\n",
       "      <th>17</th>\n",
       "      <td>0.022977</td>\n",
       "      <td>(2_pip fruit)</td>\n",
       "    </tr>\n",
       "    <tr>\n",
       "      <th>18</th>\n",
       "      <td>0.040129</td>\n",
       "      <td>(2_rolls/buns)</td>\n",
       "    </tr>\n",
       "    <tr>\n",
       "      <th>19</th>\n",
       "      <td>0.036893</td>\n",
       "      <td>(2_root vegetables)</td>\n",
       "    </tr>\n",
       "    <tr>\n",
       "      <th>20</th>\n",
       "      <td>0.031068</td>\n",
       "      <td>(2_soda)</td>\n",
       "    </tr>\n",
       "    <tr>\n",
       "      <th>21</th>\n",
       "      <td>0.034628</td>\n",
       "      <td>(2_tropical fruit)</td>\n",
       "    </tr>\n",
       "    <tr>\n",
       "      <th>22</th>\n",
       "      <td>0.062136</td>\n",
       "      <td>(2_whole milk)</td>\n",
       "    </tr>\n",
       "    <tr>\n",
       "      <th>23</th>\n",
       "      <td>0.028479</td>\n",
       "      <td>(2_yogurt)</td>\n",
       "    </tr>\n",
       "    <tr>\n",
       "      <th>24</th>\n",
       "      <td>0.045955</td>\n",
       "      <td>(3_other vegetables)</td>\n",
       "    </tr>\n",
       "    <tr>\n",
       "      <th>25</th>\n",
       "      <td>0.033010</td>\n",
       "      <td>(3_rolls/buns)</td>\n",
       "    </tr>\n",
       "    <tr>\n",
       "      <th>26</th>\n",
       "      <td>0.024272</td>\n",
       "      <td>(3_soda)</td>\n",
       "    </tr>\n",
       "    <tr>\n",
       "      <th>27</th>\n",
       "      <td>0.057929</td>\n",
       "      <td>(3_whole milk)</td>\n",
       "    </tr>\n",
       "    <tr>\n",
       "      <th>28</th>\n",
       "      <td>0.023301</td>\n",
       "      <td>(3_yogurt)</td>\n",
       "    </tr>\n",
       "    <tr>\n",
       "      <th>29</th>\n",
       "      <td>0.020712</td>\n",
       "      <td>(4_other vegetables)</td>\n",
       "    </tr>\n",
       "    <tr>\n",
       "      <th>30</th>\n",
       "      <td>0.024595</td>\n",
       "      <td>(4_rolls/buns)</td>\n",
       "    </tr>\n",
       "    <tr>\n",
       "      <th>31</th>\n",
       "      <td>0.024272</td>\n",
       "      <td>(4_soda)</td>\n",
       "    </tr>\n",
       "    <tr>\n",
       "      <th>32</th>\n",
       "      <td>0.033333</td>\n",
       "      <td>(4_whole milk)</td>\n",
       "    </tr>\n",
       "    <tr>\n",
       "      <th>33</th>\n",
       "      <td>0.023301</td>\n",
       "      <td>(4_yogurt)</td>\n",
       "    </tr>\n",
       "    <tr>\n",
       "      <th>34</th>\n",
       "      <td>0.020065</td>\n",
       "      <td>(5_rolls/buns)</td>\n",
       "    </tr>\n",
       "    <tr>\n",
       "      <th>35</th>\n",
       "      <td>0.021036</td>\n",
       "      <td>(3_whole milk, 2_other vegetables)</td>\n",
       "    </tr>\n",
       "  </tbody>\n",
       "</table>\n",
       "</div>"
      ],
      "text/plain": [
       "     support                            itemsets\n",
       "0   0.030421                            (1_beef)\n",
       "1   0.034951                     (1_canned beer)\n",
       "2   0.029126                         (1_chicken)\n",
       "3   0.049191                    (1_citrus fruit)\n",
       "4   0.064401                     (1_frankfurter)\n",
       "5   0.044660                (1_other vegetables)\n",
       "6   0.024272                       (1_pip fruit)\n",
       "7   0.040453                            (1_pork)\n",
       "8   0.038835                      (1_rolls/buns)\n",
       "9   0.033981                 (1_root vegetables)\n",
       "10  0.076052                         (1_sausage)\n",
       "11  0.028803                            (1_soda)\n",
       "12  0.044984                  (1_tropical fruit)\n",
       "13  0.073463                      (1_whole milk)\n",
       "14  0.022977                          (1_yogurt)\n",
       "15  0.028803                    (2_citrus fruit)\n",
       "16  0.058900                (2_other vegetables)\n",
       "17  0.022977                       (2_pip fruit)\n",
       "18  0.040129                      (2_rolls/buns)\n",
       "19  0.036893                 (2_root vegetables)\n",
       "20  0.031068                            (2_soda)\n",
       "21  0.034628                  (2_tropical fruit)\n",
       "22  0.062136                      (2_whole milk)\n",
       "23  0.028479                          (2_yogurt)\n",
       "24  0.045955                (3_other vegetables)\n",
       "25  0.033010                      (3_rolls/buns)\n",
       "26  0.024272                            (3_soda)\n",
       "27  0.057929                      (3_whole milk)\n",
       "28  0.023301                          (3_yogurt)\n",
       "29  0.020712                (4_other vegetables)\n",
       "30  0.024595                      (4_rolls/buns)\n",
       "31  0.024272                            (4_soda)\n",
       "32  0.033333                      (4_whole milk)\n",
       "33  0.023301                          (4_yogurt)\n",
       "34  0.020065                      (5_rolls/buns)\n",
       "35  0.021036  (3_whole milk, 2_other vegetables)"
      ]
     },
     "execution_count": 139,
     "metadata": {},
     "output_type": "execute_result"
    }
   ],
   "source": [
    "# Calculating Support\n",
    "# Deprecated\n",
    "# Support indicates how popular an item is based on the total number of transactions it makes up\n",
    "# Use column names or indexes will be presented\n",
    "# Is only showing single items, reduce support to find item sets\n",
    "apriori(basketSets, min_support = 0.02, use_colnames = True)"
   ]
  },
  {
   "cell_type": "code",
   "execution_count": 141,
   "id": "90017ad9",
   "metadata": {},
   "outputs": [
    {
     "name": "stderr",
     "output_type": "stream",
     "text": [
      "/Library/Frameworks/Python.framework/Versions/3.10/lib/python3.10/site-packages/mlxtend/frequent_patterns/fpcommon.py:111: DeprecationWarning: DataFrames with non-bool types result in worse computationalperformance and their support might be discontinued in the future.Please use a DataFrame with bool type\n",
      "  warnings.warn(\n"
     ]
    },
    {
     "data": {
      "text/html": [
       "<div>\n",
       "<style scoped>\n",
       "    .dataframe tbody tr th:only-of-type {\n",
       "        vertical-align: middle;\n",
       "    }\n",
       "\n",
       "    .dataframe tbody tr th {\n",
       "        vertical-align: top;\n",
       "    }\n",
       "\n",
       "    .dataframe thead th {\n",
       "        text-align: right;\n",
       "    }\n",
       "</style>\n",
       "<table border=\"1\" class=\"dataframe\">\n",
       "  <thead>\n",
       "    <tr style=\"text-align: right;\">\n",
       "      <th></th>\n",
       "      <th>support</th>\n",
       "      <th>itemsets</th>\n",
       "      <th>length</th>\n",
       "    </tr>\n",
       "  </thead>\n",
       "  <tbody>\n",
       "    <tr>\n",
       "      <th>0</th>\n",
       "      <td>0.006472</td>\n",
       "      <td>(1_UHT-milk)</td>\n",
       "      <td>1</td>\n",
       "    </tr>\n",
       "    <tr>\n",
       "      <th>1</th>\n",
       "      <td>0.030421</td>\n",
       "      <td>(1_beef)</td>\n",
       "      <td>1</td>\n",
       "    </tr>\n",
       "    <tr>\n",
       "      <th>2</th>\n",
       "      <td>0.011974</td>\n",
       "      <td>(1_berries)</td>\n",
       "      <td>1</td>\n",
       "    </tr>\n",
       "    <tr>\n",
       "      <th>3</th>\n",
       "      <td>0.008414</td>\n",
       "      <td>(1_beverages)</td>\n",
       "      <td>1</td>\n",
       "    </tr>\n",
       "    <tr>\n",
       "      <th>4</th>\n",
       "      <td>0.014887</td>\n",
       "      <td>(1_bottled beer)</td>\n",
       "      <td>1</td>\n",
       "    </tr>\n",
       "    <tr>\n",
       "      <th>...</th>\n",
       "      <td>...</td>\n",
       "      <td>...</td>\n",
       "      <td>...</td>\n",
       "    </tr>\n",
       "    <tr>\n",
       "      <th>844</th>\n",
       "      <td>0.002265</td>\n",
       "      <td>(3_pip fruit, 5_other vegetables, 6_whole milk)</td>\n",
       "      <td>3</td>\n",
       "    </tr>\n",
       "    <tr>\n",
       "      <th>845</th>\n",
       "      <td>0.002589</td>\n",
       "      <td>(4_other vegetables, 3_root vegetables, 5_whol...</td>\n",
       "      <td>3</td>\n",
       "    </tr>\n",
       "    <tr>\n",
       "      <th>846</th>\n",
       "      <td>0.002913</td>\n",
       "      <td>(3_whole milk, 5_yogurt, 4_curd)</td>\n",
       "      <td>3</td>\n",
       "    </tr>\n",
       "    <tr>\n",
       "      <th>847</th>\n",
       "      <td>0.003236</td>\n",
       "      <td>(4_root vegetables, 5_other vegetables, 6_whol...</td>\n",
       "      <td>3</td>\n",
       "    </tr>\n",
       "    <tr>\n",
       "      <th>848</th>\n",
       "      <td>0.002265</td>\n",
       "      <td>(7_butter, 5_other vegetables, 6_whole milk)</td>\n",
       "      <td>3</td>\n",
       "    </tr>\n",
       "  </tbody>\n",
       "</table>\n",
       "<p>849 rows × 3 columns</p>\n",
       "</div>"
      ],
      "text/plain": [
       "      support                                           itemsets  length\n",
       "0    0.006472                                       (1_UHT-milk)       1\n",
       "1    0.030421                                           (1_beef)       1\n",
       "2    0.011974                                        (1_berries)       1\n",
       "3    0.008414                                      (1_beverages)       1\n",
       "4    0.014887                                   (1_bottled beer)       1\n",
       "..        ...                                                ...     ...\n",
       "844  0.002265    (3_pip fruit, 5_other vegetables, 6_whole milk)       3\n",
       "845  0.002589  (4_other vegetables, 3_root vegetables, 5_whol...       3\n",
       "846  0.002913                   (3_whole milk, 5_yogurt, 4_curd)       3\n",
       "847  0.003236  (4_root vegetables, 5_other vegetables, 6_whol...       3\n",
       "848  0.002265       (7_butter, 5_other vegetables, 6_whole milk)       3\n",
       "\n",
       "[849 rows x 3 columns]"
      ]
     },
     "execution_count": 141,
     "metadata": {},
     "output_type": "execute_result"
    }
   ],
   "source": [
    "frequentItemSets = apriori(basketSets, min_support = 0.002, use_colnames = True)\n",
    "frequentItemSets['length'] = frequentItemSets['itemsets'].apply(lambda x: len(x))\n",
    "frequentItemSets"
   ]
  },
  {
   "cell_type": "code",
   "execution_count": 142,
   "id": "e0eae01b",
   "metadata": {},
   "outputs": [
    {
     "data": {
      "text/html": [
       "<div>\n",
       "<style scoped>\n",
       "    .dataframe tbody tr th:only-of-type {\n",
       "        vertical-align: middle;\n",
       "    }\n",
       "\n",
       "    .dataframe tbody tr th {\n",
       "        vertical-align: top;\n",
       "    }\n",
       "\n",
       "    .dataframe thead th {\n",
       "        text-align: right;\n",
       "    }\n",
       "</style>\n",
       "<table border=\"1\" class=\"dataframe\">\n",
       "  <thead>\n",
       "    <tr style=\"text-align: right;\">\n",
       "      <th></th>\n",
       "      <th>support</th>\n",
       "      <th>itemsets</th>\n",
       "      <th>length</th>\n",
       "    </tr>\n",
       "  </thead>\n",
       "  <tbody>\n",
       "    <tr>\n",
       "      <th>820</th>\n",
       "      <td>0.002589</td>\n",
       "      <td>(3_other vegetables, 1_beef, 2_root vegetables)</td>\n",
       "      <td>3</td>\n",
       "    </tr>\n",
       "    <tr>\n",
       "      <th>821</th>\n",
       "      <td>0.002589</td>\n",
       "      <td>(3_whole milk, 2_other vegetables, 1_chicken)</td>\n",
       "      <td>3</td>\n",
       "    </tr>\n",
       "    <tr>\n",
       "      <th>822</th>\n",
       "      <td>0.002589</td>\n",
       "      <td>(1_citrus fruit, 2_other vegetables, 3_whole m...</td>\n",
       "      <td>3</td>\n",
       "    </tr>\n",
       "    <tr>\n",
       "      <th>823</th>\n",
       "      <td>0.003236</td>\n",
       "      <td>(2_tropical fruit, 3_pip fruit, 1_citrus fruit)</td>\n",
       "      <td>3</td>\n",
       "    </tr>\n",
       "    <tr>\n",
       "      <th>824</th>\n",
       "      <td>0.002589</td>\n",
       "      <td>(1_citrus fruit, 4_whole milk, 3_other vegetab...</td>\n",
       "      <td>3</td>\n",
       "    </tr>\n",
       "    <tr>\n",
       "      <th>825</th>\n",
       "      <td>0.002265</td>\n",
       "      <td>(1_frankfurter, 5_other vegetables, 6_whole milk)</td>\n",
       "      <td>3</td>\n",
       "    </tr>\n",
       "    <tr>\n",
       "      <th>826</th>\n",
       "      <td>0.002265</td>\n",
       "      <td>(3_other vegetables, 4_whole milk, 1_pork)</td>\n",
       "      <td>3</td>\n",
       "    </tr>\n",
       "    <tr>\n",
       "      <th>827</th>\n",
       "      <td>0.003560</td>\n",
       "      <td>(3_whole milk, 2_other vegetables, 1_root vege...</td>\n",
       "      <td>3</td>\n",
       "    </tr>\n",
       "    <tr>\n",
       "      <th>828</th>\n",
       "      <td>0.002589</td>\n",
       "      <td>(1_sausage, 2_rolls/buns, 3_soda)</td>\n",
       "      <td>3</td>\n",
       "    </tr>\n",
       "    <tr>\n",
       "      <th>829</th>\n",
       "      <td>0.002265</td>\n",
       "      <td>(3_other vegetables, 1_sausage, 4_whole milk)</td>\n",
       "      <td>3</td>\n",
       "    </tr>\n",
       "    <tr>\n",
       "      <th>830</th>\n",
       "      <td>0.002265</td>\n",
       "      <td>(1_sausage, 4_other vegetables, 5_whole milk)</td>\n",
       "      <td>3</td>\n",
       "    </tr>\n",
       "    <tr>\n",
       "      <th>831</th>\n",
       "      <td>0.002913</td>\n",
       "      <td>(3_whole milk, 2_other vegetables, 1_tropical ...</td>\n",
       "      <td>3</td>\n",
       "    </tr>\n",
       "    <tr>\n",
       "      <th>832</th>\n",
       "      <td>0.002265</td>\n",
       "      <td>(4_other vegetables, 5_whole milk, 2_citrus fr...</td>\n",
       "      <td>3</td>\n",
       "    </tr>\n",
       "    <tr>\n",
       "      <th>833</th>\n",
       "      <td>0.002265</td>\n",
       "      <td>(3_whole milk, 2_other vegetables, 4_butter)</td>\n",
       "      <td>3</td>\n",
       "    </tr>\n",
       "    <tr>\n",
       "      <th>834</th>\n",
       "      <td>0.003560</td>\n",
       "      <td>(3_whole milk, 2_other vegetables, 4_curd)</td>\n",
       "      <td>3</td>\n",
       "    </tr>\n",
       "    <tr>\n",
       "      <th>835</th>\n",
       "      <td>0.003883</td>\n",
       "      <td>(3_whole milk, 2_other vegetables, 4_yogurt)</td>\n",
       "      <td>3</td>\n",
       "    </tr>\n",
       "    <tr>\n",
       "      <th>836</th>\n",
       "      <td>0.002265</td>\n",
       "      <td>(3_whole milk, 2_other vegetables, 6_rolls/buns)</td>\n",
       "      <td>3</td>\n",
       "    </tr>\n",
       "    <tr>\n",
       "      <th>837</th>\n",
       "      <td>0.003236</td>\n",
       "      <td>(3_other vegetables, 2_pip fruit, 4_whole milk)</td>\n",
       "      <td>3</td>\n",
       "    </tr>\n",
       "    <tr>\n",
       "      <th>838</th>\n",
       "      <td>0.005825</td>\n",
       "      <td>(3_other vegetables, 4_whole milk, 2_root vege...</td>\n",
       "      <td>3</td>\n",
       "    </tr>\n",
       "    <tr>\n",
       "      <th>839</th>\n",
       "      <td>0.002265</td>\n",
       "      <td>(2_tropical fruit, 4_other vegetables, 3_pip f...</td>\n",
       "      <td>3</td>\n",
       "    </tr>\n",
       "    <tr>\n",
       "      <th>840</th>\n",
       "      <td>0.003560</td>\n",
       "      <td>(3_other vegetables, 4_whole milk, 5_butter)</td>\n",
       "      <td>3</td>\n",
       "    </tr>\n",
       "    <tr>\n",
       "      <th>841</th>\n",
       "      <td>0.002913</td>\n",
       "      <td>(3_other vegetables, 4_whole milk, 5_yogurt)</td>\n",
       "      <td>3</td>\n",
       "    </tr>\n",
       "    <tr>\n",
       "      <th>842</th>\n",
       "      <td>0.003560</td>\n",
       "      <td>(3_other vegetables, 4_whole milk, 6_yogurt)</td>\n",
       "      <td>3</td>\n",
       "    </tr>\n",
       "    <tr>\n",
       "      <th>843</th>\n",
       "      <td>0.002265</td>\n",
       "      <td>(4_root vegetables, 3_pip fruit, 5_other veget...</td>\n",
       "      <td>3</td>\n",
       "    </tr>\n",
       "    <tr>\n",
       "      <th>844</th>\n",
       "      <td>0.002265</td>\n",
       "      <td>(3_pip fruit, 5_other vegetables, 6_whole milk)</td>\n",
       "      <td>3</td>\n",
       "    </tr>\n",
       "    <tr>\n",
       "      <th>845</th>\n",
       "      <td>0.002589</td>\n",
       "      <td>(4_other vegetables, 3_root vegetables, 5_whol...</td>\n",
       "      <td>3</td>\n",
       "    </tr>\n",
       "    <tr>\n",
       "      <th>846</th>\n",
       "      <td>0.002913</td>\n",
       "      <td>(3_whole milk, 5_yogurt, 4_curd)</td>\n",
       "      <td>3</td>\n",
       "    </tr>\n",
       "    <tr>\n",
       "      <th>847</th>\n",
       "      <td>0.003236</td>\n",
       "      <td>(4_root vegetables, 5_other vegetables, 6_whol...</td>\n",
       "      <td>3</td>\n",
       "    </tr>\n",
       "    <tr>\n",
       "      <th>848</th>\n",
       "      <td>0.002265</td>\n",
       "      <td>(7_butter, 5_other vegetables, 6_whole milk)</td>\n",
       "      <td>3</td>\n",
       "    </tr>\n",
       "  </tbody>\n",
       "</table>\n",
       "</div>"
      ],
      "text/plain": [
       "      support                                           itemsets  length\n",
       "820  0.002589    (3_other vegetables, 1_beef, 2_root vegetables)       3\n",
       "821  0.002589      (3_whole milk, 2_other vegetables, 1_chicken)       3\n",
       "822  0.002589  (1_citrus fruit, 2_other vegetables, 3_whole m...       3\n",
       "823  0.003236    (2_tropical fruit, 3_pip fruit, 1_citrus fruit)       3\n",
       "824  0.002589  (1_citrus fruit, 4_whole milk, 3_other vegetab...       3\n",
       "825  0.002265  (1_frankfurter, 5_other vegetables, 6_whole milk)       3\n",
       "826  0.002265         (3_other vegetables, 4_whole milk, 1_pork)       3\n",
       "827  0.003560  (3_whole milk, 2_other vegetables, 1_root vege...       3\n",
       "828  0.002589                  (1_sausage, 2_rolls/buns, 3_soda)       3\n",
       "829  0.002265      (3_other vegetables, 1_sausage, 4_whole milk)       3\n",
       "830  0.002265      (1_sausage, 4_other vegetables, 5_whole milk)       3\n",
       "831  0.002913  (3_whole milk, 2_other vegetables, 1_tropical ...       3\n",
       "832  0.002265  (4_other vegetables, 5_whole milk, 2_citrus fr...       3\n",
       "833  0.002265       (3_whole milk, 2_other vegetables, 4_butter)       3\n",
       "834  0.003560         (3_whole milk, 2_other vegetables, 4_curd)       3\n",
       "835  0.003883       (3_whole milk, 2_other vegetables, 4_yogurt)       3\n",
       "836  0.002265   (3_whole milk, 2_other vegetables, 6_rolls/buns)       3\n",
       "837  0.003236    (3_other vegetables, 2_pip fruit, 4_whole milk)       3\n",
       "838  0.005825  (3_other vegetables, 4_whole milk, 2_root vege...       3\n",
       "839  0.002265  (2_tropical fruit, 4_other vegetables, 3_pip f...       3\n",
       "840  0.003560       (3_other vegetables, 4_whole milk, 5_butter)       3\n",
       "841  0.002913       (3_other vegetables, 4_whole milk, 5_yogurt)       3\n",
       "842  0.003560       (3_other vegetables, 4_whole milk, 6_yogurt)       3\n",
       "843  0.002265  (4_root vegetables, 3_pip fruit, 5_other veget...       3\n",
       "844  0.002265    (3_pip fruit, 5_other vegetables, 6_whole milk)       3\n",
       "845  0.002589  (4_other vegetables, 3_root vegetables, 5_whol...       3\n",
       "846  0.002913                   (3_whole milk, 5_yogurt, 4_curd)       3\n",
       "847  0.003236  (4_root vegetables, 5_other vegetables, 6_whol...       3\n",
       "848  0.002265       (7_butter, 5_other vegetables, 6_whole milk)       3"
      ]
     },
     "execution_count": 142,
     "metadata": {},
     "output_type": "execute_result"
    }
   ],
   "source": [
    "# Filtering out single items for minum combinations of 3\n",
    "frequentItemSets[frequentItemSets['length'] >= 3]"
   ]
  },
  {
   "cell_type": "code",
   "execution_count": 144,
   "id": "22fba94a",
   "metadata": {},
   "outputs": [
    {
     "data": {
      "text/html": [
       "<div>\n",
       "<style scoped>\n",
       "    .dataframe tbody tr th:only-of-type {\n",
       "        vertical-align: middle;\n",
       "    }\n",
       "\n",
       "    .dataframe tbody tr th {\n",
       "        vertical-align: top;\n",
       "    }\n",
       "\n",
       "    .dataframe thead th {\n",
       "        text-align: right;\n",
       "    }\n",
       "</style>\n",
       "<table border=\"1\" class=\"dataframe\">\n",
       "  <thead>\n",
       "    <tr style=\"text-align: right;\">\n",
       "      <th></th>\n",
       "      <th>antecedents</th>\n",
       "      <th>consequents</th>\n",
       "      <th>antecedent support</th>\n",
       "      <th>consequent support</th>\n",
       "      <th>support</th>\n",
       "      <th>confidence</th>\n",
       "      <th>lift</th>\n",
       "      <th>leverage</th>\n",
       "      <th>conviction</th>\n",
       "    </tr>\n",
       "  </thead>\n",
       "  <tbody>\n",
       "    <tr>\n",
       "      <th>0</th>\n",
       "      <td>(2_sausage)</td>\n",
       "      <td>(1_frankfurter)</td>\n",
       "      <td>0.011327</td>\n",
       "      <td>0.064401</td>\n",
       "      <td>0.011327</td>\n",
       "      <td>1.000000</td>\n",
       "      <td>15.527638</td>\n",
       "      <td>0.010597</td>\n",
       "      <td>inf</td>\n",
       "    </tr>\n",
       "    <tr>\n",
       "      <th>1</th>\n",
       "      <td>(7_pastry)</td>\n",
       "      <td>(1_frankfurter)</td>\n",
       "      <td>0.005178</td>\n",
       "      <td>0.064401</td>\n",
       "      <td>0.002589</td>\n",
       "      <td>0.500000</td>\n",
       "      <td>7.763819</td>\n",
       "      <td>0.002256</td>\n",
       "      <td>1.871197</td>\n",
       "    </tr>\n",
       "    <tr>\n",
       "      <th>2</th>\n",
       "      <td>(2_ham)</td>\n",
       "      <td>(1_sausage)</td>\n",
       "      <td>0.007120</td>\n",
       "      <td>0.076052</td>\n",
       "      <td>0.004531</td>\n",
       "      <td>0.636364</td>\n",
       "      <td>8.367505</td>\n",
       "      <td>0.003989</td>\n",
       "      <td>2.540858</td>\n",
       "    </tr>\n",
       "    <tr>\n",
       "      <th>3</th>\n",
       "      <td>(2_meat)</td>\n",
       "      <td>(1_sausage)</td>\n",
       "      <td>0.006796</td>\n",
       "      <td>0.076052</td>\n",
       "      <td>0.004854</td>\n",
       "      <td>0.714286</td>\n",
       "      <td>9.392097</td>\n",
       "      <td>0.004338</td>\n",
       "      <td>3.233819</td>\n",
       "    </tr>\n",
       "    <tr>\n",
       "      <th>4</th>\n",
       "      <td>(3_beef)</td>\n",
       "      <td>(1_sausage)</td>\n",
       "      <td>0.004854</td>\n",
       "      <td>0.076052</td>\n",
       "      <td>0.002589</td>\n",
       "      <td>0.533333</td>\n",
       "      <td>7.012766</td>\n",
       "      <td>0.002220</td>\n",
       "      <td>1.979889</td>\n",
       "    </tr>\n",
       "  </tbody>\n",
       "</table>\n",
       "</div>"
      ],
      "text/plain": [
       "   antecedents      consequents  antecedent support  consequent support  \\\n",
       "0  (2_sausage)  (1_frankfurter)            0.011327            0.064401   \n",
       "1   (7_pastry)  (1_frankfurter)            0.005178            0.064401   \n",
       "2      (2_ham)      (1_sausage)            0.007120            0.076052   \n",
       "3     (2_meat)      (1_sausage)            0.006796            0.076052   \n",
       "4     (3_beef)      (1_sausage)            0.004854            0.076052   \n",
       "\n",
       "    support  confidence       lift  leverage  conviction  \n",
       "0  0.011327    1.000000  15.527638  0.010597         inf  \n",
       "1  0.002589    0.500000   7.763819  0.002256    1.871197  \n",
       "2  0.004531    0.636364   8.367505  0.003989    2.540858  \n",
       "3  0.004854    0.714286   9.392097  0.004338    3.233819  \n",
       "4  0.002589    0.533333   7.012766  0.002220    1.979889  "
      ]
     },
     "execution_count": 144,
     "metadata": {},
     "output_type": "execute_result"
    }
   ],
   "source": [
    "# Generating Association Rules\n",
    "# Confidence\n",
    "rules = association_rules(frequentItemSets, metric = 'confidence', min_threshold = 0.5)\n",
    "rules.head()"
   ]
  },
  {
   "cell_type": "code",
   "execution_count": 145,
   "id": "a2351f15",
   "metadata": {},
   "outputs": [
    {
     "data": {
      "text/html": [
       "<div>\n",
       "<style scoped>\n",
       "    .dataframe tbody tr th:only-of-type {\n",
       "        vertical-align: middle;\n",
       "    }\n",
       "\n",
       "    .dataframe tbody tr th {\n",
       "        vertical-align: top;\n",
       "    }\n",
       "\n",
       "    .dataframe thead th {\n",
       "        text-align: right;\n",
       "    }\n",
       "</style>\n",
       "<table border=\"1\" class=\"dataframe\">\n",
       "  <thead>\n",
       "    <tr style=\"text-align: right;\">\n",
       "      <th></th>\n",
       "      <th>antecedents</th>\n",
       "      <th>consequents</th>\n",
       "      <th>antecedent support</th>\n",
       "      <th>consequent support</th>\n",
       "      <th>support</th>\n",
       "      <th>confidence</th>\n",
       "      <th>lift</th>\n",
       "      <th>leverage</th>\n",
       "      <th>conviction</th>\n",
       "    </tr>\n",
       "  </thead>\n",
       "  <tbody>\n",
       "    <tr>\n",
       "      <th>0</th>\n",
       "      <td>(1_beef)</td>\n",
       "      <td>(2_citrus fruit)</td>\n",
       "      <td>0.030421</td>\n",
       "      <td>0.028803</td>\n",
       "      <td>0.005502</td>\n",
       "      <td>0.180851</td>\n",
       "      <td>6.278986</td>\n",
       "      <td>0.004625</td>\n",
       "      <td>1.185618</td>\n",
       "    </tr>\n",
       "    <tr>\n",
       "      <th>1</th>\n",
       "      <td>(2_citrus fruit)</td>\n",
       "      <td>(1_beef)</td>\n",
       "      <td>0.028803</td>\n",
       "      <td>0.030421</td>\n",
       "      <td>0.005502</td>\n",
       "      <td>0.191011</td>\n",
       "      <td>6.278986</td>\n",
       "      <td>0.004625</td>\n",
       "      <td>1.198508</td>\n",
       "    </tr>\n",
       "    <tr>\n",
       "      <th>2</th>\n",
       "      <td>(1_beef)</td>\n",
       "      <td>(2_other vegetables)</td>\n",
       "      <td>0.030421</td>\n",
       "      <td>0.058900</td>\n",
       "      <td>0.003236</td>\n",
       "      <td>0.106383</td>\n",
       "      <td>1.806173</td>\n",
       "      <td>0.001444</td>\n",
       "      <td>1.053136</td>\n",
       "    </tr>\n",
       "    <tr>\n",
       "      <th>3</th>\n",
       "      <td>(2_other vegetables)</td>\n",
       "      <td>(1_beef)</td>\n",
       "      <td>0.058900</td>\n",
       "      <td>0.030421</td>\n",
       "      <td>0.003236</td>\n",
       "      <td>0.054945</td>\n",
       "      <td>1.806173</td>\n",
       "      <td>0.001444</td>\n",
       "      <td>1.025950</td>\n",
       "    </tr>\n",
       "    <tr>\n",
       "      <th>4</th>\n",
       "      <td>(1_beef)</td>\n",
       "      <td>(2_root vegetables)</td>\n",
       "      <td>0.030421</td>\n",
       "      <td>0.036893</td>\n",
       "      <td>0.005502</td>\n",
       "      <td>0.180851</td>\n",
       "      <td>4.902016</td>\n",
       "      <td>0.004379</td>\n",
       "      <td>1.175741</td>\n",
       "    </tr>\n",
       "  </tbody>\n",
       "</table>\n",
       "</div>"
      ],
      "text/plain": [
       "            antecedents           consequents  antecedent support  \\\n",
       "0              (1_beef)      (2_citrus fruit)            0.030421   \n",
       "1      (2_citrus fruit)              (1_beef)            0.028803   \n",
       "2              (1_beef)  (2_other vegetables)            0.030421   \n",
       "3  (2_other vegetables)              (1_beef)            0.058900   \n",
       "4              (1_beef)   (2_root vegetables)            0.030421   \n",
       "\n",
       "   consequent support   support  confidence      lift  leverage  conviction  \n",
       "0            0.028803  0.005502    0.180851  6.278986  0.004625    1.185618  \n",
       "1            0.030421  0.005502    0.191011  6.278986  0.004625    1.198508  \n",
       "2            0.058900  0.003236    0.106383  1.806173  0.001444    1.053136  \n",
       "3            0.030421  0.003236    0.054945  1.806173  0.001444    1.025950  \n",
       "4            0.036893  0.005502    0.180851  4.902016  0.004379    1.175741  "
      ]
     },
     "execution_count": 145,
     "metadata": {},
     "output_type": "execute_result"
    }
   ],
   "source": [
    "# Lift\n",
    "rules = association_rules(frequentItemSets, metric = 'lift', min_threshold = 1)\n",
    "rules.head()"
   ]
  },
  {
   "cell_type": "code",
   "execution_count": 146,
   "id": "2ad6383f",
   "metadata": {},
   "outputs": [
    {
     "data": {
      "text/html": [
       "<div>\n",
       "<style scoped>\n",
       "    .dataframe tbody tr th:only-of-type {\n",
       "        vertical-align: middle;\n",
       "    }\n",
       "\n",
       "    .dataframe tbody tr th {\n",
       "        vertical-align: top;\n",
       "    }\n",
       "\n",
       "    .dataframe thead th {\n",
       "        text-align: right;\n",
       "    }\n",
       "</style>\n",
       "<table border=\"1\" class=\"dataframe\">\n",
       "  <thead>\n",
       "    <tr style=\"text-align: right;\">\n",
       "      <th></th>\n",
       "      <th>antecedents</th>\n",
       "      <th>consequents</th>\n",
       "      <th>antecedent support</th>\n",
       "      <th>consequent support</th>\n",
       "      <th>support</th>\n",
       "      <th>confidence</th>\n",
       "      <th>lift</th>\n",
       "      <th>leverage</th>\n",
       "      <th>conviction</th>\n",
       "    </tr>\n",
       "  </thead>\n",
       "  <tbody>\n",
       "    <tr>\n",
       "      <th>92</th>\n",
       "      <td>(2_sausage)</td>\n",
       "      <td>(1_frankfurter)</td>\n",
       "      <td>0.011327</td>\n",
       "      <td>0.064401</td>\n",
       "      <td>0.011327</td>\n",
       "      <td>1.000000</td>\n",
       "      <td>15.527638</td>\n",
       "      <td>0.010597</td>\n",
       "      <td>inf</td>\n",
       "    </tr>\n",
       "    <tr>\n",
       "      <th>137</th>\n",
       "      <td>(7_pastry)</td>\n",
       "      <td>(1_frankfurter)</td>\n",
       "      <td>0.005178</td>\n",
       "      <td>0.064401</td>\n",
       "      <td>0.002589</td>\n",
       "      <td>0.500000</td>\n",
       "      <td>7.763819</td>\n",
       "      <td>0.002256</td>\n",
       "      <td>1.871197</td>\n",
       "    </tr>\n",
       "    <tr>\n",
       "      <th>238</th>\n",
       "      <td>(2_ham)</td>\n",
       "      <td>(1_sausage)</td>\n",
       "      <td>0.007120</td>\n",
       "      <td>0.076052</td>\n",
       "      <td>0.004531</td>\n",
       "      <td>0.636364</td>\n",
       "      <td>8.367505</td>\n",
       "      <td>0.003989</td>\n",
       "      <td>2.540858</td>\n",
       "    </tr>\n",
       "    <tr>\n",
       "      <th>243</th>\n",
       "      <td>(2_meat)</td>\n",
       "      <td>(1_sausage)</td>\n",
       "      <td>0.006796</td>\n",
       "      <td>0.076052</td>\n",
       "      <td>0.004854</td>\n",
       "      <td>0.714286</td>\n",
       "      <td>9.392097</td>\n",
       "      <td>0.004338</td>\n",
       "      <td>3.233819</td>\n",
       "    </tr>\n",
       "    <tr>\n",
       "      <th>259</th>\n",
       "      <td>(3_beef)</td>\n",
       "      <td>(1_sausage)</td>\n",
       "      <td>0.004854</td>\n",
       "      <td>0.076052</td>\n",
       "      <td>0.002589</td>\n",
       "      <td>0.533333</td>\n",
       "      <td>7.012766</td>\n",
       "      <td>0.002220</td>\n",
       "      <td>1.979889</td>\n",
       "    </tr>\n",
       "    <tr>\n",
       "      <th>...</th>\n",
       "      <td>...</td>\n",
       "      <td>...</td>\n",
       "      <td>...</td>\n",
       "      <td>...</td>\n",
       "      <td>...</td>\n",
       "      <td>...</td>\n",
       "      <td>...</td>\n",
       "      <td>...</td>\n",
       "      <td>...</td>\n",
       "    </tr>\n",
       "    <tr>\n",
       "      <th>958</th>\n",
       "      <td>(4_root vegetables, 5_other vegetables)</td>\n",
       "      <td>(6_whole milk)</td>\n",
       "      <td>0.005178</td>\n",
       "      <td>0.009385</td>\n",
       "      <td>0.003236</td>\n",
       "      <td>0.625000</td>\n",
       "      <td>66.594828</td>\n",
       "      <td>0.003188</td>\n",
       "      <td>2.641640</td>\n",
       "    </tr>\n",
       "    <tr>\n",
       "      <th>959</th>\n",
       "      <td>(4_root vegetables, 6_whole milk)</td>\n",
       "      <td>(5_other vegetables)</td>\n",
       "      <td>0.003883</td>\n",
       "      <td>0.012621</td>\n",
       "      <td>0.003236</td>\n",
       "      <td>0.833333</td>\n",
       "      <td>66.025641</td>\n",
       "      <td>0.003187</td>\n",
       "      <td>5.924272</td>\n",
       "    </tr>\n",
       "    <tr>\n",
       "      <th>964</th>\n",
       "      <td>(7_butter, 5_other vegetables)</td>\n",
       "      <td>(6_whole milk)</td>\n",
       "      <td>0.002589</td>\n",
       "      <td>0.009385</td>\n",
       "      <td>0.002265</td>\n",
       "      <td>0.875000</td>\n",
       "      <td>93.232759</td>\n",
       "      <td>0.002241</td>\n",
       "      <td>7.924919</td>\n",
       "    </tr>\n",
       "    <tr>\n",
       "      <th>965</th>\n",
       "      <td>(7_butter, 6_whole milk)</td>\n",
       "      <td>(5_other vegetables)</td>\n",
       "      <td>0.002913</td>\n",
       "      <td>0.012621</td>\n",
       "      <td>0.002265</td>\n",
       "      <td>0.777778</td>\n",
       "      <td>61.623932</td>\n",
       "      <td>0.002229</td>\n",
       "      <td>4.443204</td>\n",
       "    </tr>\n",
       "    <tr>\n",
       "      <th>967</th>\n",
       "      <td>(7_butter)</td>\n",
       "      <td>(5_other vegetables, 6_whole milk)</td>\n",
       "      <td>0.004207</td>\n",
       "      <td>0.007443</td>\n",
       "      <td>0.002265</td>\n",
       "      <td>0.538462</td>\n",
       "      <td>72.341137</td>\n",
       "      <td>0.002234</td>\n",
       "      <td>2.150539</td>\n",
       "    </tr>\n",
       "  </tbody>\n",
       "</table>\n",
       "<p>76 rows × 9 columns</p>\n",
       "</div>"
      ],
      "text/plain": [
       "                                 antecedents  \\\n",
       "92                               (2_sausage)   \n",
       "137                               (7_pastry)   \n",
       "238                                  (2_ham)   \n",
       "243                                 (2_meat)   \n",
       "259                                 (3_beef)   \n",
       "..                                       ...   \n",
       "958  (4_root vegetables, 5_other vegetables)   \n",
       "959        (4_root vegetables, 6_whole milk)   \n",
       "964           (7_butter, 5_other vegetables)   \n",
       "965                 (7_butter, 6_whole milk)   \n",
       "967                               (7_butter)   \n",
       "\n",
       "                            consequents  antecedent support  \\\n",
       "92                      (1_frankfurter)            0.011327   \n",
       "137                     (1_frankfurter)            0.005178   \n",
       "238                         (1_sausage)            0.007120   \n",
       "243                         (1_sausage)            0.006796   \n",
       "259                         (1_sausage)            0.004854   \n",
       "..                                  ...                 ...   \n",
       "958                      (6_whole milk)            0.005178   \n",
       "959                (5_other vegetables)            0.003883   \n",
       "964                      (6_whole milk)            0.002589   \n",
       "965                (5_other vegetables)            0.002913   \n",
       "967  (5_other vegetables, 6_whole milk)            0.004207   \n",
       "\n",
       "     consequent support   support  confidence       lift  leverage  conviction  \n",
       "92             0.064401  0.011327    1.000000  15.527638  0.010597         inf  \n",
       "137            0.064401  0.002589    0.500000   7.763819  0.002256    1.871197  \n",
       "238            0.076052  0.004531    0.636364   8.367505  0.003989    2.540858  \n",
       "243            0.076052  0.004854    0.714286   9.392097  0.004338    3.233819  \n",
       "259            0.076052  0.002589    0.533333   7.012766  0.002220    1.979889  \n",
       "..                  ...       ...         ...        ...       ...         ...  \n",
       "958            0.009385  0.003236    0.625000  66.594828  0.003188    2.641640  \n",
       "959            0.012621  0.003236    0.833333  66.025641  0.003187    5.924272  \n",
       "964            0.009385  0.002265    0.875000  93.232759  0.002241    7.924919  \n",
       "965            0.012621  0.002265    0.777778  61.623932  0.002229    4.443204  \n",
       "967            0.007443  0.002265    0.538462  72.341137  0.002234    2.150539  \n",
       "\n",
       "[76 rows x 9 columns]"
      ]
     },
     "execution_count": 146,
     "metadata": {},
     "output_type": "execute_result"
    }
   ],
   "source": [
    "# Optimizing Confidence & Lift\n",
    "# 76 Combinations meet the requirements\n",
    "rules[(rules['lift'] >= 5) & (rules['confidence'] >= 0.5)]"
   ]
  },
  {
   "cell_type": "code",
   "execution_count": 148,
   "id": "acc36a54",
   "metadata": {},
   "outputs": [],
   "source": [
    "# Neural Networks\n",
    "# Fundamental Concepts:\n",
    "# 1. Input Layer\n",
    "# 2. Weights & Bias\n",
    "# 3. Weighted Sum\n",
    "# 4. Activation Function: Mathematical function deployed on each unit in a neural network\n",
    "# All units in a shared layer deploy the same activation function\n",
    "# Purpose is to enable neural netwrok to model complex, nonlinear problems\n",
    "# Types: Linear, Logistic Sigmoid, Threshold (binary features), ReLU (Rectified Lineau Unit), Softmax\n",
    "# 5. Linear Separability: Data if it can be cleanly classified into 1 of 2 classes, required for perceptron\n",
    "\n",
    "# Perceptron: Single layer neural network\n",
    "# Linear classifier that outputs a binary response variable, alogrithm called Linear Binary Classifier\n",
    "# Creates a simple linear model of a phenomenon\n",
    "\n",
    "# Using built-in sklearn Iris dataset\n",
    "xIris = iris.data\n",
    "yIris = iris.target\n",
    "\n",
    "# Splitting data into training and test sets\n",
    "xIrisTrain, xIrisTest, yIrisTrain, yIritsTest = train_test_split(xIris, yIris, test_size = 0.2)"
   ]
  },
  {
   "cell_type": "code",
   "execution_count": 152,
   "id": "ce3bbbca",
   "metadata": {},
   "outputs": [],
   "source": [
    "# Instantiating a StandardScaler object\n",
    "irisStandardize = StandardScaler()\n",
    "\n",
    "# Normalizing the data\n",
    "# Generating standardized training and test sets\n",
    "standardizedXIrisTest = irisStandardize.fit_transform(xIrisTest)\n",
    "standardizedXIrisTrain = irisStandardize.fit_transform(xIrisTrain)"
   ]
  },
  {
   "cell_type": "code",
   "execution_count": 153,
   "id": "df575e40",
   "metadata": {},
   "outputs": [
    {
     "data": {
      "text/plain": [
       "array([[ 0.72462181, -0.12820857,  1.11367979,  1.30082778],\n",
       "       [-0.92802442,  0.97072202, -1.39923872, -1.39054004],\n",
       "       [-1.05515105,  2.06965261, -1.28501515, -1.39054004],\n",
       "       [ 0.59749518, -0.40294122,  0.25700303,  0.08971226],\n",
       "       [-2.07216412, -0.12820857, -1.57057407, -1.52510843],\n",
       "       [ 0.21611528, -0.12820857,  0.42833838,  0.22428065],\n",
       "       [-1.05515105,  1.24545467, -1.39923872, -1.25597165],\n",
       "       [-0.54664452, -2.0513371 ,  0.08566768,  0.08971226],\n",
       "       [ 0.47036854,  0.69598937,  1.22790336,  1.70453296],\n",
       "       [-0.54664452, -1.77660445, -0.02855589, -0.17942452]])"
      ]
     },
     "execution_count": 153,
     "metadata": {},
     "output_type": "execute_result"
    }
   ],
   "source": [
    "# Looking at first 10 records / rows with all columns\n",
    "standardizedXIrisTest[0:10,]"
   ]
  },
  {
   "cell_type": "code",
   "execution_count": 155,
   "id": "92e8e9d1",
   "metadata": {},
   "outputs": [
    {
     "data": {
      "text/html": [
       "<style>#sk-container-id-3 {color: black;background-color: white;}#sk-container-id-3 pre{padding: 0;}#sk-container-id-3 div.sk-toggleable {background-color: white;}#sk-container-id-3 label.sk-toggleable__label {cursor: pointer;display: block;width: 100%;margin-bottom: 0;padding: 0.3em;box-sizing: border-box;text-align: center;}#sk-container-id-3 label.sk-toggleable__label-arrow:before {content: \"▸\";float: left;margin-right: 0.25em;color: #696969;}#sk-container-id-3 label.sk-toggleable__label-arrow:hover:before {color: black;}#sk-container-id-3 div.sk-estimator:hover label.sk-toggleable__label-arrow:before {color: black;}#sk-container-id-3 div.sk-toggleable__content {max-height: 0;max-width: 0;overflow: hidden;text-align: left;background-color: #f0f8ff;}#sk-container-id-3 div.sk-toggleable__content pre {margin: 0.2em;color: black;border-radius: 0.25em;background-color: #f0f8ff;}#sk-container-id-3 input.sk-toggleable__control:checked~div.sk-toggleable__content {max-height: 200px;max-width: 100%;overflow: auto;}#sk-container-id-3 input.sk-toggleable__control:checked~label.sk-toggleable__label-arrow:before {content: \"▾\";}#sk-container-id-3 div.sk-estimator input.sk-toggleable__control:checked~label.sk-toggleable__label {background-color: #d4ebff;}#sk-container-id-3 div.sk-label input.sk-toggleable__control:checked~label.sk-toggleable__label {background-color: #d4ebff;}#sk-container-id-3 input.sk-hidden--visually {border: 0;clip: rect(1px 1px 1px 1px);clip: rect(1px, 1px, 1px, 1px);height: 1px;margin: -1px;overflow: hidden;padding: 0;position: absolute;width: 1px;}#sk-container-id-3 div.sk-estimator {font-family: monospace;background-color: #f0f8ff;border: 1px dotted black;border-radius: 0.25em;box-sizing: border-box;margin-bottom: 0.5em;}#sk-container-id-3 div.sk-estimator:hover {background-color: #d4ebff;}#sk-container-id-3 div.sk-parallel-item::after {content: \"\";width: 100%;border-bottom: 1px solid gray;flex-grow: 1;}#sk-container-id-3 div.sk-label:hover label.sk-toggleable__label {background-color: #d4ebff;}#sk-container-id-3 div.sk-serial::before {content: \"\";position: absolute;border-left: 1px solid gray;box-sizing: border-box;top: 0;bottom: 0;left: 50%;z-index: 0;}#sk-container-id-3 div.sk-serial {display: flex;flex-direction: column;align-items: center;background-color: white;padding-right: 0.2em;padding-left: 0.2em;position: relative;}#sk-container-id-3 div.sk-item {position: relative;z-index: 1;}#sk-container-id-3 div.sk-parallel {display: flex;align-items: stretch;justify-content: center;background-color: white;position: relative;}#sk-container-id-3 div.sk-item::before, #sk-container-id-3 div.sk-parallel-item::before {content: \"\";position: absolute;border-left: 1px solid gray;box-sizing: border-box;top: 0;bottom: 0;left: 50%;z-index: -1;}#sk-container-id-3 div.sk-parallel-item {display: flex;flex-direction: column;z-index: 1;position: relative;background-color: white;}#sk-container-id-3 div.sk-parallel-item:first-child::after {align-self: flex-end;width: 50%;}#sk-container-id-3 div.sk-parallel-item:last-child::after {align-self: flex-start;width: 50%;}#sk-container-id-3 div.sk-parallel-item:only-child::after {width: 0;}#sk-container-id-3 div.sk-dashed-wrapped {border: 1px dashed gray;margin: 0 0.4em 0.5em 0.4em;box-sizing: border-box;padding-bottom: 0.4em;background-color: white;}#sk-container-id-3 div.sk-label label {font-family: monospace;font-weight: bold;display: inline-block;line-height: 1.2em;}#sk-container-id-3 div.sk-label-container {text-align: center;}#sk-container-id-3 div.sk-container {/* jupyter's `normalize.less` sets `[hidden] { display: none; }` but bootstrap.min.css set `[hidden] { display: none !important; }` so we also need the `!important` here to be able to override the default hidden behavior on the sphinx rendered scikit-learn.org. See: https://github.com/scikit-learn/scikit-learn/issues/21755 */display: inline-block !important;position: relative;}#sk-container-id-3 div.sk-text-repr-fallback {display: none;}</style><div id=\"sk-container-id-3\" class=\"sk-top-container\"><div class=\"sk-text-repr-fallback\"><pre>Perceptron(eta0=0.15, max_iter=50, random_state=15)</pre><b>In a Jupyter environment, please rerun this cell to show the HTML representation or trust the notebook. <br />On GitHub, the HTML representation is unable to render, please try loading this page with nbviewer.org.</b></div><div class=\"sk-container\" hidden><div class=\"sk-item\"><div class=\"sk-estimator sk-toggleable\"><input class=\"sk-toggleable__control sk-hidden--visually\" id=\"sk-estimator-id-3\" type=\"checkbox\" checked><label for=\"sk-estimator-id-3\" class=\"sk-toggleable__label sk-toggleable__label-arrow\">Perceptron</label><div class=\"sk-toggleable__content\"><pre>Perceptron(eta0=0.15, max_iter=50, random_state=15)</pre></div></div></div></div></div>"
      ],
      "text/plain": [
       "Perceptron(eta0=0.15, max_iter=50, random_state=15)"
      ]
     },
     "execution_count": 155,
     "metadata": {},
     "output_type": "execute_result"
    }
   ],
   "source": [
    "# Setting up the now standardized datasets so that the model will only go over it a maximum of 50 times\n",
    "# 'max_iter': Maximum number of iterations\n",
    "# 'eta0: Setting the learning rate to 0.15\n",
    "# 'random_state': Randomizer seed, simply for reproducability\n",
    "irisPerceptron = Perceptron(max_iter = 50, eta0 = 0.15, tol = 1e-3, random_state = 15)\n",
    "\n",
    "# Training the model\n",
    "# '.ravel()': Formats the yIrisTrain dataset properly for the model\n",
    "irisPerceptron.fit(standardizedXIrisTrain, yIrisTrain.ravel())"
   ]
  },
  {
   "cell_type": "code",
   "execution_count": 158,
   "id": "5bd95625",
   "metadata": {},
   "outputs": [],
   "source": [
    "yIrisPrediction = irisPerceptron.predict(standardizedXIrisTest)"
   ]
  },
  {
   "cell_type": "code",
   "execution_count": 159,
   "id": "a5168d0b",
   "metadata": {},
   "outputs": [
    {
     "name": "stdout",
     "output_type": "stream",
     "text": [
      "[2 0 0 1 0 1 0 1 2 1 2 1 1 1 2 2 1 0 1 2 2 1 1 1 0 1 2 0 0 0]\n",
      "[2 0 0 1 0 1 0 1 2 1 2 1 1 1 2 2 0 0 1 2 2 1 1 1 0 0 2 0 0 0]\n"
     ]
    }
   ],
   "source": [
    "print(yIritsTest)\n",
    "print(yIrisPrediction)"
   ]
  },
  {
   "cell_type": "code",
   "execution_count": 162,
   "id": "0fc23554",
   "metadata": {},
   "outputs": [
    {
     "name": "stdout",
     "output_type": "stream",
     "text": [
      "              precision    recall  f1-score   support\n",
      "\n",
      "           0       0.82      1.00      0.90         9\n",
      "           1       1.00      0.85      0.92        13\n",
      "           2       1.00      1.00      1.00         8\n",
      "\n",
      "    accuracy                           0.93        30\n",
      "   macro avg       0.94      0.95      0.94        30\n",
      "weighted avg       0.95      0.93      0.93        30\n",
      "\n"
     ]
    }
   ],
   "source": [
    "# Checking accuracy of perceptron which acted as a classifier in this scenario\n",
    "print(classification_report(yIritsTest, yIrisPrediction))"
   ]
  },
  {
   "cell_type": "code",
   "execution_count": 166,
   "id": "cebc38ae",
   "metadata": {},
   "outputs": [],
   "source": [
    "# K-Nearest Neighbor Classification\n",
    "# Supervised classifier that memorizes observation from within a test set to predict classification \n",
    "# labels for new unlabeled observations\n",
    "# Assumptions:\n",
    "# 1. Data has little noise\n",
    "# 2. Dataset is labeled\n",
    "# 3. Dataset contains only relevant features\n",
    "# 4. Dataset has distinguishable subgroups\n",
    "# Note: Avoid using on large datasets to to computation heavy methodology, takes a long time\n",
    "\n",
    "# Importing the cars dataset\n",
    "cars = pd.read_csv('mtcars.csv')\n",
    "cars.columns = ['car_names', 'mpg', 'cyl', 'disp', 'hp', 'drat', 'wt', 'qsec', 'vs', 'am', 'gear', 'carb']\n",
    "\n",
    "xCarsPrime = cars[['mpg', 'disp', 'hp', 'wt']].values\n",
    "yCars = cars.iloc[:, 9].values"
   ]
  },
  {
   "cell_type": "code",
   "execution_count": 169,
   "id": "f2804c75",
   "metadata": {},
   "outputs": [],
   "source": [
    "xCarsScaled = preprocessing.scale(xCarsPrime)"
   ]
  },
  {
   "cell_type": "code",
   "execution_count": 170,
   "id": "06dd1690",
   "metadata": {},
   "outputs": [],
   "source": [
    "# Splitting data into training and testing datasets\n",
    "xCarsTrain, xCarsTest, yCarsTrain, yCarsTest = train_test_split(xCarsScaled, yCars, \n",
    "                                                                test_size = 0.2, random_state = 17)"
   ]
  },
  {
   "cell_type": "code",
   "execution_count": 173,
   "id": "b0d7eb13",
   "metadata": {},
   "outputs": [
    {
     "name": "stdout",
     "output_type": "stream",
     "text": [
      "KNeighborsClassifier()\n"
     ]
    }
   ],
   "source": [
    "# Building & Training KNN Model\n",
    "carsClassifier = neighbors.KNeighborsClassifier()\n",
    "carsClassifier.fit(xCarsTrain, yCarsTrain)\n",
    "print(carsClassifier)"
   ]
  },
  {
   "cell_type": "code",
   "execution_count": 175,
   "id": "3f805176",
   "metadata": {},
   "outputs": [
    {
     "name": "stdout",
     "output_type": "stream",
     "text": [
      "              precision    recall  f1-score   support\n",
      "\n",
      "           0       0.80      1.00      0.89         4\n",
      "           1       1.00      0.67      0.80         3\n",
      "\n",
      "    accuracy                           0.86         7\n",
      "   macro avg       0.90      0.83      0.84         7\n",
      "weighted avg       0.89      0.86      0.85         7\n",
      "\n"
     ]
    }
   ],
   "source": [
    "# Evaluating Model Predictions\n",
    "yCarsPrediction = carsClassifier.predict(xCarsTest)\n",
    "yCarsExpected = yCarsTest\n",
    "\n",
    "print(metrics.classification_report(yCarsExpected, yCarsPrediction))"
   ]
  },
  {
   "cell_type": "code",
   "execution_count": 176,
   "id": "14f44107",
   "metadata": {},
   "outputs": [],
   "source": [
    "# Decision Trees\n",
    "# Decision support tool that models decisions in order to predict probable outcomes of those decison\n",
    "# Non robust, sensitive to training data\n",
    "# Root Node: Entire population or sample, becomes further divided into 2 or more homogenous sets\n",
    "# Decision Node: Subnode that further splits into even more subnodes\n",
    "# Leaf Node: End node, furthest subnode which no longer splits\n",
    "\n",
    "# Decision Tree Algorithms\n",
    "# Class of supervised machine learning methods useful for making predicitons from non-linear data\n",
    "# Appropriate for continous or categorical input or output variables\n",
    "\n",
    "# Assumptions:\n",
    "# 1. Root node comprises the entire training set\n",
    "# 2. Predictive features are either categorical, or if continous have been binned priop to the model's deployment\n",
    "# 3. Rows within the dataset have a recursive distribution based on the values of attributes\n",
    "\n",
    "# Recursive Binary Splitting\n",
    "# Proccess used to segment prediction space into regions in order to create a binary decision tree\n",
    "# Stops whn user-defined criteria are met\n",
    "# Every stage where a region is split:\n",
    "# Regression Trees: Loss function calculated via Sum Squared Errors to indentify best split, \n",
    "# Top down, greedy, best for continous data\n",
    "# Classification Trees: Gini index calculates loss function, for binary, best for categorical data\n",
    "\n",
    "# Tree Prunning: Overcome model overfiting by removing subnodes of decision trees, replace them with leaf nodes\n",
    "# Hold Out Test: Faster, simpler\n",
    "# Cost Conplexity"
   ]
  },
  {
   "cell_type": "code",
   "execution_count": 183,
   "id": "aac145f3",
   "metadata": {},
   "outputs": [
    {
     "name": "stdout",
     "output_type": "stream",
     "text": [
      "[  0.      0.64    0.64    0.      0.32    0.      0.      0.      0.\n",
      "   0.      0.      0.64    0.      0.      0.      0.32    0.      1.29\n",
      "   1.93    0.      0.96    0.      0.      0.      0.      0.      0.\n",
      "   0.      0.      0.      0.      0.      0.      0.      0.      0.\n",
      "   0.      0.      0.      0.      0.      0.      0.      0.      0.\n",
      "   0.      0.      0.      0.      0.      0.      0.778   0.      0.\n",
      "   3.756  61.    278.      1.   ]\n"
     ]
    }
   ],
   "source": [
    "# Naive Bayes Models\n",
    "# Machine learning method used to predict likelihood that an even will occur given evidence present in the data\n",
    "# Essentially a conditional probability model, P(B|A) = P(A & B) / P(A)\n",
    "# Multinomial: When features are categorical or continous\n",
    "# Bernoulli: Binary features\n",
    "# Gaussian: Normally distributed features\n",
    "\n",
    "# Assumptions:\n",
    "# 1. Predictors are independent from one another\n",
    "# 2. A Priori Assumption: Past conditions will hold true based on previous historical values\n",
    "# Applies to all regression models in fact\n",
    "\n",
    "# Dataset composed of continous variables that describe word frequency count\n",
    "# Multinomial Naive Bayes best suited in this situation\n",
    "spambaseUrl = 'https://archive.ics.edu/ml/machine-learning-databases/spambase/spambase.data'\n",
    "\n",
    "#spambaseRawData = urllib.request.urlopen(spambaseUrl)\n",
    "spambaseRawData = 'Spambase.data'\n",
    "spambaseDataset = np.loadtxt(spambaseRawData, delimiter = ',')\n",
    "print(spambaseDataset[0])"
   ]
  },
  {
   "cell_type": "code",
   "execution_count": 187,
   "id": "bb3c047b",
   "metadata": {},
   "outputs": [],
   "source": [
    "# Anlyze features and predictive variables already standardized \n",
    "# on the same scale pertaining to word frequency count, 48 variables\n",
    "xSpambase = spambaseDataset[:, 0:48]\n",
    "ySpambase = spambaseDataset[:, -1]"
   ]
  },
  {
   "cell_type": "code",
   "execution_count": 188,
   "id": "d6140e57",
   "metadata": {},
   "outputs": [],
   "source": [
    "xSpambaseTrain, xSpambaseTest, ySpambaseTrain, ySpambaseTest = train_test_split(xSpambase, ySpambase, \n",
    "                                                                                test_size = 0.2, random_state = 17)"
   ]
  },
  {
   "cell_type": "code",
   "execution_count": 198,
   "id": "e1381d1a",
   "metadata": {},
   "outputs": [
    {
     "name": "stdout",
     "output_type": "stream",
     "text": [
      "BernoulliNB(binarize=0.1)\n",
      "0.9109663409337676\n"
     ]
    }
   ],
   "source": [
    "# Bernouilli Model\n",
    "#BernNB = BernoulliNB(binarize = True)\n",
    "BernNB = BernoulliNB(binarize = 0.1)\n",
    "BernNB.fit(xSpambaseTrain, ySpambaseTrain)\n",
    "print(BernNB)\n",
    "\n",
    "ySpambaseExpected = ySpambaseTest\n",
    "ySpambasePredicted = BernNB.predict(xSpambaseTest)\n",
    "\n",
    "print(accuracy_score(ySpambaseExpected, ySpambasePredicted))"
   ]
  },
  {
   "cell_type": "code",
   "execution_count": 194,
   "id": "dbe74c3e",
   "metadata": {},
   "outputs": [
    {
     "name": "stdout",
     "output_type": "stream",
     "text": [
      "MultinomialNB()\n",
      "0.8816503800217155\n"
     ]
    }
   ],
   "source": [
    "# Multinomial Model\n",
    "MultiNB = MultinomialNB()\n",
    "MultiNB.fit(xSpambaseTrain, ySpambaseTrain)\n",
    "print(MultiNB)\n",
    "\n",
    "ySpambasePredicted = MultiNB.predict(xSpambaseTest)\n",
    "\n",
    "print(accuracy_score(ySpambaseExpected, ySpambasePredicted))"
   ]
  },
  {
   "cell_type": "code",
   "execution_count": 197,
   "id": "584df027",
   "metadata": {},
   "outputs": [
    {
     "name": "stdout",
     "output_type": "stream",
     "text": [
      "GaussianNB()\n",
      "0.8197611292073833\n"
     ]
    }
   ],
   "source": [
    "# Gaussian Model\n",
    "GaussNB = GaussianNB()\n",
    "GaussNB.fit(xSpambaseTrain, ySpambaseTrain)\n",
    "print(GaussNB)\n",
    "\n",
    "ySpambasePredicted = GaussNB.predict(xSpambaseTest)\n",
    "\n",
    "print(accuracy_score(ySpambaseExpected, ySpambasePredicted))"
   ]
  },
  {
   "cell_type": "code",
   "execution_count": 201,
   "id": "497e8fb8",
   "metadata": {},
   "outputs": [
    {
     "name": "stdout",
     "output_type": "stream",
     "text": [
      "   sepal length (cm)  sepal width (cm)  petal length (cm)  petal width (cm)\n",
      "0                5.1               3.5                1.4               0.2\n",
      "1                4.9               3.0                1.4               0.2\n",
      "2                4.7               3.2                1.3               0.2\n",
      "3                4.6               3.1                1.5               0.2\n",
      "4                5.0               3.6                1.4               0.2\n"
     ]
    },
    {
     "data": {
      "text/html": [
       "<div>\n",
       "<style scoped>\n",
       "    .dataframe tbody tr th:only-of-type {\n",
       "        vertical-align: middle;\n",
       "    }\n",
       "\n",
       "    .dataframe tbody tr th {\n",
       "        vertical-align: top;\n",
       "    }\n",
       "\n",
       "    .dataframe thead th {\n",
       "        text-align: right;\n",
       "    }\n",
       "</style>\n",
       "<table border=\"1\" class=\"dataframe\">\n",
       "  <thead>\n",
       "    <tr style=\"text-align: right;\">\n",
       "      <th></th>\n",
       "      <th>labels</th>\n",
       "    </tr>\n",
       "  </thead>\n",
       "  <tbody>\n",
       "    <tr>\n",
       "      <th>0</th>\n",
       "      <td>0</td>\n",
       "    </tr>\n",
       "    <tr>\n",
       "      <th>1</th>\n",
       "      <td>0</td>\n",
       "    </tr>\n",
       "    <tr>\n",
       "      <th>2</th>\n",
       "      <td>0</td>\n",
       "    </tr>\n",
       "    <tr>\n",
       "      <th>3</th>\n",
       "      <td>0</td>\n",
       "    </tr>\n",
       "    <tr>\n",
       "      <th>4</th>\n",
       "      <td>0</td>\n",
       "    </tr>\n",
       "  </tbody>\n",
       "</table>\n",
       "</div>"
      ],
      "text/plain": [
       "   labels\n",
       "0       0\n",
       "1       0\n",
       "2       0\n",
       "3       0\n",
       "4       0"
      ]
     },
     "execution_count": 201,
     "metadata": {},
     "output_type": "execute_result"
    }
   ],
   "source": [
    "# Ensemble Models\n",
    "# Machine learning methods which combine several base models to produce \n",
    "# one optimal predictive model and improve overall performance\n",
    "# Methods: \n",
    "# Max Voting: Pick results based on majority votes form different models, generally for classification\n",
    "# Averaging: Multiple methods results are averaged together, both for classifcation and regression\n",
    "# Weighted Averaging: Averaging method with each model given a certain weight\n",
    "# Bagging: Multiple model results combined for final result, subsets of original data run on different models\n",
    "# and aggregated, often used by decision trees, works in parallel\n",
    "# Boosting: Multiple models run sequentially over and over\n",
    "# 1. Subset of data created\n",
    "# 2. A model is run on the subset to get predictions\n",
    "# 3. Prediction errors are calculated\n",
    "# 4. Weights assigned to incorrect prediction\n",
    "# 5. Another model is created with the same data to produce the next subset of data\n",
    "# 6. Cycel repeats until a strong learner is created\n",
    "\n",
    "# Random Forest\n",
    "# Classification & Regression Ensemble Model, Decision Tree Based\n",
    "# Algorithm takes average of all votes from all trees in the ensemble, becomes predicted value of target variable\n",
    "# 1. Create random forest subset from original data\n",
    "# 2. Randomly select set of features at each node in decision tree\n",
    "# 3. Decide best split\n",
    "# 4. For each subset of data, a seperate base learner mode is created\n",
    "# 5. Final prediction computed by averaging predictions from all other individual model\n",
    "# Advantages: Highly Flexible, good accuracy, good for large datasets, avoids overfitting due to averaging\n",
    "# Disadvantages: Not for continous variables, does not like sparse datasets, \n",
    "# computationally expensive, no interpretability\n",
    "\n",
    "# Using built-in sklearn Iris dataset\n",
    "# Attempting to predict species type as the target\n",
    "xIris = pd.DataFrame(iris.data, columns = iris.feature_names)\n",
    "yIris = pd.DataFrame(iris.target)\n",
    "\n",
    "yIris.columns = ['labels']\n",
    "\n",
    "print(xIris.head())\n",
    "yIris[0:5]"
   ]
  },
  {
   "cell_type": "code",
   "execution_count": 202,
   "id": "15f9a5ae",
   "metadata": {},
   "outputs": [
    {
     "data": {
      "text/plain": [
       "sepal length (cm)    False\n",
       "sepal width (cm)     False\n",
       "petal length (cm)    False\n",
       "petal width (cm)     False\n",
       "dtype: bool"
      ]
     },
     "execution_count": 202,
     "metadata": {},
     "output_type": "execute_result"
    }
   ],
   "source": [
    "# Checking for missing values\n",
    "xIris.isnull().any() == True"
   ]
  },
  {
   "cell_type": "code",
   "execution_count": 203,
   "id": "905fe2d5",
   "metadata": {},
   "outputs": [
    {
     "name": "stdout",
     "output_type": "stream",
     "text": [
      "0    50\n",
      "1    50\n",
      "2    50\n",
      "Name: labels, dtype: int64\n"
     ]
    }
   ],
   "source": [
    "print(yIris.labels.value_counts())"
   ]
  },
  {
   "cell_type": "code",
   "execution_count": 207,
   "id": "a5597638",
   "metadata": {},
   "outputs": [],
   "source": [
    "# Preparing the data\n",
    "# Creating training & test datasets\n",
    "xIrisTrain, xIrisTest, yIrisTrain, yIrisTest = train_test_split(xIris, yIris, test_size = 0.2, random_state = 17)"
   ]
  },
  {
   "cell_type": "code",
   "execution_count": 208,
   "id": "7150c66c",
   "metadata": {},
   "outputs": [],
   "source": [
    "# Building The Random Forest Model\n",
    "# 'n_estimators': The number of decision tree models to generate\n",
    "irisClassifier = RandomForestClassifier(n_estimators = 200, random_state = 0)\n",
    "\n",
    "# Reformat the 'y' target data to conform to the requirements of the model\n",
    "yIrisTrainArray = np.ravel(yIrisTrain)\n",
    "\n",
    "irisClassifier.fit(xIrisTrain, yIrisTrainArray)\n",
    "\n",
    "yIrisPrediction = irisClassifier.predict(xIrisTest)"
   ]
  },
  {
   "cell_type": "code",
   "execution_count": 210,
   "id": "32955c45",
   "metadata": {},
   "outputs": [
    {
     "name": "stdout",
     "output_type": "stream",
     "text": [
      "              precision    recall  f1-score   support\n",
      "\n",
      "           0       1.00      1.00      1.00         7\n",
      "           1       0.92      1.00      0.96        11\n",
      "           2       1.00      0.92      0.96        12\n",
      "\n",
      "    accuracy                           0.97        30\n",
      "   macro avg       0.97      0.97      0.97        30\n",
      "weighted avg       0.97      0.97      0.97        30\n",
      "\n"
     ]
    }
   ],
   "source": [
    "# Evaluating the model on the test data\n",
    "print(metrics.classification_report(yIrisTest, yIrisPrediction))"
   ]
  },
  {
   "cell_type": "code",
   "execution_count": 211,
   "id": "62dd42fc",
   "metadata": {},
   "outputs": [
    {
     "name": "stdout",
     "output_type": "stream",
     "text": [
      "[0 1 2 1 2 2 1 2 1 2 2 0 1 0 2 0 0 2 2 2 2 0 2 1 1 1 1 1 0 1]\n",
      "[0 1 2 1 2 2 1 2 1 2 2 0 1 0 2 0 0 2 2 2 1 0 2 1 1 1 1 1 0 1]\n"
     ]
    }
   ],
   "source": [
    "yIrisTestArray = np.ravel(yIrisTest)\n",
    "print(yIrisTestArray)\n",
    "print(yIrisPrediction)"
   ]
  },
  {
   "cell_type": "code",
   "execution_count": null,
   "id": "3dc5c5d6",
   "metadata": {},
   "outputs": [],
   "source": []
  }
 ],
 "metadata": {
  "kernelspec": {
   "display_name": "Python 3 (ipykernel)",
   "language": "python",
   "name": "python3"
  },
  "language_info": {
   "codemirror_mode": {
    "name": "ipython",
    "version": 3
   },
   "file_extension": ".py",
   "mimetype": "text/x-python",
   "name": "python",
   "nbconvert_exporter": "python",
   "pygments_lexer": "ipython3",
   "version": "3.10.4"
  }
 },
 "nbformat": 4,
 "nbformat_minor": 5
}
