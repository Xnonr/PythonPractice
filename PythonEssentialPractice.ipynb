{
 "cells": [
  {
   "cell_type": "code",
   "execution_count": 2,
   "id": "896cba01",
   "metadata": {},
   "outputs": [],
   "source": [
    "#!/usr/bin/env python\n",
    "\n",
    "# Shebang Line\n",
    "# A comment pattern for UNIX based systems\n",
    "# Allows scripts to be invoked from the command line\n",
    "# Path to the executable that will run the script allong with any additional arguments"
   ]
  },
  {
   "cell_type": "code",
   "execution_count": 3,
   "id": "f1bf6db9",
   "metadata": {},
   "outputs": [
    {
     "name": "stdout",
     "output_type": "stream",
     "text": [
      "The Zen of Python, by Tim Peters\n",
      "\n",
      "Beautiful is better than ugly.\n",
      "Explicit is better than implicit.\n",
      "Simple is better than complex.\n",
      "Complex is better than complicated.\n",
      "Flat is better than nested.\n",
      "Sparse is better than dense.\n",
      "Readability counts.\n",
      "Special cases aren't special enough to break the rules.\n",
      "Although practicality beats purity.\n",
      "Errors should never pass silently.\n",
      "Unless explicitly silenced.\n",
      "In the face of ambiguity, refuse the temptation to guess.\n",
      "There should be one-- and preferably only one --obvious way to do it.\n",
      "Although that way may not be obvious at first unless you're Dutch.\n",
      "Now is better than never.\n",
      "Although never is often better than *right* now.\n",
      "If the implementation is hard to explain, it's a bad idea.\n",
      "If the implementation is easy to explain, it may be a good idea.\n",
      "Namespaces are one honking great idea -- let's do more of those!\n"
     ]
    }
   ],
   "source": [
    "# Core Python Code Philosophy\n",
    "import this"
   ]
  },
  {
   "cell_type": "code",
   "execution_count": 33,
   "id": "8a796512",
   "metadata": {},
   "outputs": [],
   "source": [
    "# Imports a module from the Python library\n",
    "import platform"
   ]
  },
  {
   "cell_type": "code",
   "execution_count": 10,
   "id": "7e5cb144",
   "metadata": {},
   "outputs": [
    {
     "name": "stdout",
     "output_type": "stream",
     "text": [
      "Hello World!\n",
      "HELLO WORLD!\n",
      "hello world!\n",
      "hELLO wORLD!\n",
      "Hello World!\n",
      "hello world!\n",
      "Good Afternoon, Good Evening & Good Night This adds a custom print line endingThe Answer to the Ultimate Question of Life, the Universe, and Everything is 42.\n",
      "\n",
      "\n",
      "Always\n",
      "look\n",
      "on\n",
      "the\n",
      "bright\n",
      "side\n",
      "of\n",
      "life!\n",
      "\n",
      "\n",
      "\"7\", \"900000000\", \"000000008\"\n",
      "31,374,000\n",
      "31374000.000\n",
      "31374000.000\n",
      "167535260\n",
      "1110111101011101010110000\n",
      "1110111101011101010110000\n",
      "1debab0\n",
      "1debab0\n",
      "31.374.000\n",
      "Hello There 15\n",
      "HELLO THERE {}\n",
      "['This', 'is', 'a', 'long', 'string', 'with', 'quite', 'a', 'few', 'number', 'of', 'words.']\n",
      "This:is:a:long:string:with:quite:a:few:number:of:words.\n",
      "4415891504\n",
      "4416065136\n",
      "Hello There {} HELLO THERE {}\n",
      "Hi There!\n",
      "99\n",
      "🖖\n"
     ]
    }
   ],
   "source": [
    "# Strings are first class objects in Python3\n",
    "print(\"Hello World!\")\n",
    "print('Hello World!'.upper())\n",
    "print('Hello World!'.lower())\n",
    "print('Hello World!'.swapcase())\n",
    "print('hello world!'.title())\n",
    "\n",
    "# Removes all case distinctions even in unicode, a more aggresive version of '.lower()'\n",
    "print('Hello World!'.casefold())\n",
    "\n",
    "# Flushes the output buffer due to how certain operating systems work\n",
    "print(\"Good Afternoon, Good Evening & Good Night\", end = ' This adds a custom print line ending', flush = True)\n",
    "\n",
    "theUltimateAnswer = 42\n",
    "print('The Answer to the Ultimate Question of Life, the Universe, and Everything is {}.'.format(theUltimateAnswer))\n",
    "\n",
    "# Multi Line String\n",
    "multiLineString = '''\n",
    "\n",
    "Always\n",
    "look\n",
    "on\n",
    "the\n",
    "bright\n",
    "side\n",
    "of\n",
    "life!\n",
    "\n",
    "'''\n",
    "\n",
    "print(multiLineString)\n",
    "\n",
    "# Can use positional arguments, left or right alignments along with trailing values\n",
    "# +: Add signs\n",
    "# ,: Use formating thousands seperators\n",
    "print('\"7\", \"{1:<09}\", \"{0:>09}\"'.format(8, 9))\n",
    "\n",
    "x = 42 * 747 * 1000\n",
    "print('{:,}'.format(x))\n",
    "\n",
    "# Number of decimal places\n",
    "print('{:.3f}'.format(x))\n",
    "print(f'{x:.3f}') \n",
    "\n",
    "# Octal\n",
    "print('{:o}'.format(x)) \n",
    "\n",
    "# Binary\n",
    "print('{:b}'.format(x)) \n",
    "print(f'{x:b}') \n",
    "\n",
    "# Hexadecimals\n",
    "print('{:x}'.format(x)) \n",
    "print(f'{x:x}')\n",
    "\n",
    "# European format, replacing commas with dots\n",
    "print('{:,}'.format(x).replace(',', '.'))\n",
    "\n",
    "stringExample1 = 'Hello There {}'\n",
    "print(stringExample1.format(5 * 3))\n",
    "\n",
    "stringExample2 = stringExample1.upper()\n",
    "print(stringExample2)\n",
    "\n",
    "stringExample3 = 'This is a long string with quite a few number of words.'\n",
    "# Creates a list by splitting a string on something, with the default being a space ' '\n",
    "splitStringList1 = stringExample3.split(' ')\n",
    "print(splitStringList1)\n",
    "\n",
    "stringExample4 = ':'.join(splitStringList1)\n",
    "print(stringExample4)\n",
    "\n",
    "# Strings are immutable a cannot be changed, so a different object is being returned\n",
    "print(id(stringExample1))\n",
    "print(id(stringExample2))\n",
    "\n",
    "# String Concatenation\n",
    "print(stringExample1 + ' ' + stringExample2)\n",
    "print('Hi ' + 'There!')\n",
    "\n",
    "# Ord gives the number of a character\n",
    "print(ord('🖖'))\n",
    "\n",
    "# Chr gives the character of a number\n",
    "print(chr(128406))"
   ]
  },
  {
   "cell_type": "code",
   "execution_count": 6,
   "id": "473e691c",
   "metadata": {},
   "outputs": [
    {
     "name": "stdout",
     "output_type": "stream",
     "text": [
      "This is python version 3.10.4\n",
      "Another way to print the current version of python 3.10.4.\n"
     ]
    }
   ],
   "source": [
    "pythonVersion = platform.python_version()\n",
    "print('This is python version {}'.format(pythonVersion))\n",
    "print(f'Another way to print the current version of python {pythonVersion}.')"
   ]
  },
  {
   "cell_type": "code",
   "execution_count": 9,
   "id": "635612b1",
   "metadata": {},
   "outputs": [
    {
     "name": "stdout",
     "output_type": "stream",
     "text": [
      "(10, 0)\n",
      "(48+0j)\n",
      "5.551115123125783e-17\n",
      "0.0\n"
     ]
    }
   ],
   "source": [
    "from decimal import *\n",
    "\n",
    "# Floating point numbers sacrifice accuracy for precision\n",
    "\n",
    "x = '50'\n",
    "y = int(x)\n",
    "z = float(x)\n",
    "\n",
    "x = 50\n",
    "a = abs(x)\n",
    "\n",
    "b = divmod(x, 5)\n",
    "print(b)\n",
    "\n",
    "c = x + 2j\n",
    "d = complex(x, 2j)\n",
    "print(d)\n",
    "\n",
    "aFloatValue = 0.1\n",
    "bFloatValue = 0.3\n",
    "\n",
    "print(aFloatValue * 3 - bFloatValue)\n",
    "\n",
    "aDecimalValue = Decimal('0.1')\n",
    "bDecimalValue = Decimal('0.3')\n",
    "\n",
    "print(aDecimalValue * 3 - bDecimalValue)"
   ]
  },
  {
   "cell_type": "code",
   "execution_count": 10,
   "id": "d3df4d89",
   "metadata": {},
   "outputs": [],
   "source": [
    "wrongLine = 'I have a bad feeling about this.'"
   ]
  },
  {
   "cell_type": "code",
   "execution_count": 11,
   "id": "065e65fb",
   "metadata": {},
   "outputs": [],
   "source": [
    "def main():\n",
    "    obiWanKenobi()\n",
    "    generalGrievous()\n",
    "    generalGrievous(wrongLine)"
   ]
  },
  {
   "cell_type": "code",
   "execution_count": 8,
   "id": "35b94a84",
   "metadata": {},
   "outputs": [],
   "source": [
    "def obiWanKenobi():\n",
    "    print('Hello There!')"
   ]
  },
  {
   "cell_type": "code",
   "execution_count": 9,
   "id": "e97c1ed9",
   "metadata": {},
   "outputs": [],
   "source": [
    "def generalGrievous(input = 'General Kenobi!'):\n",
    "    print(input)"
   ]
  },
  {
   "cell_type": "code",
   "execution_count": 7,
   "id": "80659cb2",
   "metadata": {},
   "outputs": [
    {
     "name": "stdout",
     "output_type": "stream",
     "text": [
      "A\n",
      "list\n",
      "of\n",
      "words\n"
     ]
    }
   ],
   "source": [
    "words = ['A', 'list', 'of', 'words']\n",
    "\n",
    "for word in words:\n",
    "    print(word)"
   ]
  },
  {
   "cell_type": "code",
   "execution_count": 20,
   "id": "49a01bbe",
   "metadata": {},
   "outputs": [],
   "source": [
    "class Duck1:\n",
    "    # Self is a reference to the object\n",
    "    # Self is not a keyword but is traditional and should be used for ease of understanding\n",
    "    def quack(self):\n",
    "        print('Quack!')\n",
    "        \n",
    "    def walk(self):\n",
    "        print('The duck wadles.')"
   ]
  },
  {
   "cell_type": "code",
   "execution_count": 21,
   "id": "5a878aab",
   "metadata": {},
   "outputs": [],
   "source": [
    "class Duck2:\n",
    "    sound = 'Quack!'\n",
    "    walking = 'The duck wadles.'\n",
    "    \n",
    "    def quack(self):\n",
    "        print(self.sound)\n",
    "        \n",
    "    def walk(self):\n",
    "        print(self.walking)"
   ]
  },
  {
   "cell_type": "code",
   "execution_count": 25,
   "id": "f4a216db",
   "metadata": {},
   "outputs": [],
   "source": [
    "class Animal:\n",
    "    # Constructor & Initializor\n",
    "    \n",
    "    # Class variables are defined, exist and are associated within the class itself, \n",
    "    # not in one of the class' methods, which then become object variables\n",
    "    # Very important for encapsulation via objects\n",
    "    classVariableList = [1, 2, 3]\n",
    "    \n",
    "    def __init__(self, type, name, sound):\n",
    "        self._type = type\n",
    "        self._name = name\n",
    "        self._sound = sound\n",
    "        \n",
    "    # Or written this way\n",
    "    #def __init__(self, **kwargs):\n",
    "    #    self._type = kwargs['type'] if 'type' in kwargs else 'kitten' # Assign default value for default object\n",
    "    #    self._name = kwargs['name']\n",
    "    #    self._sound = kwargs['sound']\n",
    "    \n",
    "    # Accessors & Getters\n",
    "    # Self fills itself, no argument needs to be provided\n",
    "    # Python has no private variables, underscores to indicate they should be treated as such though\n",
    "    # by programmers via tradition and good coding practices\n",
    "    \n",
    "    # Both a setter and getter method\n",
    "    def type(self, t = None):\n",
    "        if t:\n",
    "            self._type = t\n",
    "        try:\n",
    "            return self._type\n",
    "        except AttributeError:\n",
    "            return None\n",
    "    \n",
    "    def type(name):\n",
    "        return self._name\n",
    "    \n",
    "    def type(sound):\n",
    "        return self._sound\n",
    "    \n",
    "    # One of the special methods in Python\n",
    "    # Equvalent to toString method in Java classes\n",
    "    def __str__(self):\n",
    "        return f'The {self.type()} is named \"{self.name()}\" and says \"{self.sound()}\".'"
   ]
  },
  {
   "cell_type": "code",
   "execution_count": 26,
   "id": "26b5df52",
   "metadata": {},
   "outputs": [],
   "source": [
    "# Class Inheritance\n",
    "class Duck(Animal):\n",
    "    def __init__(self, **kwargs):\n",
    "        self._type = 'duck'\n",
    "        # Delete and replace any pre-existing 'type' of the parent class' arguments\n",
    "        if 'type' in kwargs:\n",
    "            del kwargs['type']\n",
    "        # Through the 'super' function the parent class' initializer is called with our new modified kwargs\n",
    "        super().__init__(**kwargs)\n",
    "        \n",
    "    def waddle(self, waddleTo):\n",
    "        print(f'{self.name()} will now waddle to {waddleTo}')\n",
    "    \n",
    "    # Representation, prints the best possible string representation of a value\n",
    "    # When printing out a class object, the string then repr methods will be called in that order by default\n",
    "    def __repr__(self):\n",
    "        return(f'This is a duck.')"
   ]
  },
  {
   "cell_type": "code",
   "execution_count": 24,
   "id": "05245894",
   "metadata": {},
   "outputs": [],
   "source": [
    "def main():\n",
    "    donaldDuck = Duck1()\n",
    "    donaldDuck.quack()\n",
    "    donaldDuck.walk()\n",
    "    \n",
    "    daffyDuck = Duck2()\n",
    "    daffyDuck.quack()\n",
    "    daffyDuck.walk()\n",
    "    print(repr(daffyDuck))"
   ]
  },
  {
   "cell_type": "code",
   "execution_count": 50,
   "id": "a45f908c",
   "metadata": {},
   "outputs": [
    {
     "name": "stdout",
     "output_type": "stream",
     "text": [
      "The variable None's data type is <class 'NoneType'>.\n",
      "<class 'tuple'>\n",
      "<class 'str'>\n",
      "4491991200\n",
      "4492155120\n",
      "4492155120\n",
      "4366532848\n",
      "4366532848\n",
      "These are the same objects.\n",
      "This object instance is a tuple.\n"
     ]
    }
   ],
   "source": [
    "# Python Data Types\n",
    "# None data type represents the abscence of a value\n",
    "pythonDataType = None\n",
    "print(f\"The variable {pythonDataType}'s data type is {type(pythonDataType)}.\")\n",
    "\n",
    "if(pythonDataType == True):\n",
    "    print(True)\n",
    "if(pythonDataType == False):\n",
    "    print(False)\n",
    "    \n",
    "dataTypeTuple1 = (1, 'two', 3.0, [4, 'four'], 5)\n",
    "dataTypeTuple2 = (1, 'two', 3.0, [4, 'four'], 5)\n",
    "dataTypeTuple3 = dataTypeTuple2\n",
    "\n",
    "print(type(dataTypeTuple))\n",
    "print(type(dataTypeTuple[1]))\n",
    "\n",
    "print(id(dataTypeTuple1))\n",
    "print(id(dataTypeTuple2))\n",
    "print(id(dataTypeTuple3))\n",
    "\n",
    "print(id(dataTypeTuple1[0]))\n",
    "print(id(dataTypeTuple2[0]))\n",
    "\n",
    "if(dataTypeTuple1 is dataTypeTuple1):\n",
    "    print('These are the same objects.')\n",
    "else:\n",
    "    print('These are not the same objects.')\n",
    "\n",
    "def checkIfObjectInstanceIsTuple(object):\n",
    "    if(isinstance(object, tuple)):\n",
    "        print('This object instance is a tuple.')\n",
    "    else:\n",
    "        print('This object instance is not a tuple.')\n",
    "        \n",
    "checkIfObjectInstanceIsTuple(dataTypeTuple1)"
   ]
  },
  {
   "cell_type": "code",
   "execution_count": 17,
   "id": "c3b5e636",
   "metadata": {},
   "outputs": [
    {
     "name": "stdout",
     "output_type": "stream",
     "text": [
      "Lists:\n",
      "[6, 2, 3, 4, 5, 6, 7, 'Eight', 'Nine']\n",
      "[6, 2, 3, 4, 5, 6, 7, 'Eight']\n",
      "[6, 2, 3, 4, 5, 6, 7]\n",
      "[6, 2, 3, 4, 5, 6]\n",
      "[3, 4, 5, 6]\n",
      "[6, 8, 10, 12]\n",
      "[8, 10]\n",
      "[(3, 6), (4, 8), (5, 10), (6, 12)]\n",
      "0\n",
      "\n",
      "\n",
      "Ranges:\n",
      "[1, 3, 5, 7, 9]\n",
      "\n",
      "\n",
      "Tuples:\n",
      "(6, 7, 8, 9, 10)\n",
      "\n",
      "\n",
      "Dictionaries:\n",
      "key: one, value: 1\n",
      "key: two, value: 2\n",
      "key: three, value: three\n",
      "1\n",
      "2\n",
      "three\n",
      "meow\n",
      "cat: meow\n",
      "dog: bark\n",
      "horse: neigh\n",
      "monkey: hahaha\n",
      "\n",
      "\n",
      "Sets:\n",
      "{1, 2, 3, 4, 5}\n",
      "{'.', 'e', 'I', 'c', 'f', 'n', 'v', 'd', 'o', 'm', 'r', ' ', 'h', 'D', 'y', 'i', 'a', ',', \"'\", 's', 't'}\n",
      "[' ', \"'\", ',', '.', 'D', 'I', 'a', 'c', 'd', 'e', 'f', 'h', 'i', 'm', 'n', 'o', 'r', 's', 't', 'v', 'y']\n",
      "{'c', 'f', 'h', 'D', 'v', 'y', 's', 'I', 'm', ','}\n",
      "{' ', '.', 'W', 'h', 'D', 'y', 'e', 'i', 'a', 'I', ',', 'c', \"'\", 'g', 'f', 'n', 'v', 's', 'd', 'o', 't', 'm', 'r', 'b'}\n",
      "{'W', 'h', 'D', 'y', 'I', ',', 'c', 'g', 'f', 'v', 's', 'm', 'b'}\n",
      "{\"'\", ' ', '.', 'n', 'e', 'i', 'd', 'o', 'a', 't', 'r'}\n",
      "<list_reverseiterator object at 0x1067a1840>\n",
      "18\n",
      "3 - 6\n",
      "4 - 7\n",
      "5 - 8\n",
      "6 - 9\n",
      "0: Triceratops\n",
      "1: Velociraptor\n",
      "2: Tyrannosaurus Rex\n"
     ]
    }
   ],
   "source": [
    "# Python Sequence Types\n",
    "\n",
    "# List: Mutable\n",
    "print('Lists:')\n",
    "listExample = [1, 2, 3, 4, 5]\n",
    "listExample[0] = 6\n",
    "listExample.append(6)\n",
    "listExample.insert(6, 7)\n",
    "listExample.append('Eight')\n",
    "listExample.append('Nine')\n",
    "print(listExample)\n",
    "\n",
    "# For String Lists\n",
    "#print(', '.join(listExample))\n",
    "\n",
    "listExample.pop()\n",
    "print(listExample)\n",
    "\n",
    "listExample.remove('Eight')\n",
    "print(listExample)\n",
    "\n",
    "del listExample[6]\n",
    "print(listExample)\n",
    "\n",
    "# Delete by slice\n",
    "del listExample[0:2]\n",
    "print(listExample)\n",
    "\n",
    "# List Comprehension\n",
    "listExample2 = [x * 2 for x in listExample]\n",
    "print(listExample2)\n",
    "\n",
    "listExample3 = [x * 2 for x in listExample if x % 3 != 0]\n",
    "print(listExample3)\n",
    "\n",
    "# Creating a list of tuples from the original 'listExample'\n",
    "listExample4 = [(x, x*2) for x in listExample]\n",
    "print(listExample4)\n",
    "\n",
    "print(listExample.index(3))\n",
    "print('\\n')\n",
    "\n",
    "# Range\n",
    "# Immutable in it of itself\n",
    "# Has Start, End & Step By\n",
    "print('Ranges:')\n",
    "rangeList1 = range(10)\n",
    "rangeList2 = range(5, 10)\n",
    "rangeList3 = list(range(1, 10 , 2))\n",
    "print(rangeList3)\n",
    "print('\\n')\n",
    "\n",
    "# Tuple: Immutable, cannot be changed once created\n",
    "print('Tuples:')\n",
    "tupleExample = (6, 7, 8, 9, 10)\n",
    "print(tupleExample)\n",
    "print('\\n')\n",
    "\n",
    "# Dictionary: Mutable\n",
    "print('Dictionaries:')\n",
    "dictionaryExample = { 'one': 1, 'two': 2, 'three': 3 }\n",
    "dictionaryExample['three'] = 'three'\n",
    "for key, value in dictionaryExample.items():\n",
    "    print('key: {}, value: {}'.format(key, value))\n",
    "\n",
    "for values in dictionaryExample.values():\n",
    "    print(values)\n",
    "    \n",
    "animals = dict(cat = 'meow', dog = 'bark', horse = 'neigh')  \n",
    "    \n",
    "def printDictionary(dictionaryObject):\n",
    "    for key, value in dictionaryObject.items():\n",
    "        print(f'{key}: {value}')\n",
    "  \n",
    "print(animals['cat'])\n",
    "animals['monkey'] = 'hahaha'\n",
    "printDictionary(animals)\n",
    "print('\\n')\n",
    "    \n",
    "# Set: Unorder list of unique values\n",
    "print('Sets:')\n",
    "setExample1 = {1, 2, 2, 3, 4, 5, 5}\n",
    "setExample2 = set(\"I'm sorry, Dave. I'm afraid I can't do that.\")\n",
    "setExample3 = set(\"We're gonna need a bigger boat.\")\n",
    "print(setExample1)\n",
    "print(setExample2)\n",
    "print(sorted(setExample2))\n",
    "\n",
    "# Check members in 'setExample2' not in 'setExample3'\n",
    "print(setExample2 - setExample3)\n",
    "\n",
    "# Check members in 'setExample2' or 'setExample3' or both\n",
    "print(setExample2 | setExample3)\n",
    "\n",
    "# Check members in 'setExample2' or 'setExample3' but not both (exclusive or)\n",
    "print(setExample2 ^ setExample3)\n",
    "\n",
    "# Check members in both 'setExample2' and 'setExample3'\n",
    "print(setExample2 & setExample3)\n",
    "\n",
    "# Container Functions\n",
    "reversedListExample = reversed(listExample)\n",
    "print(reversedListExample)\n",
    "\n",
    "sumListExample = sum(listExample)\n",
    "print(sumListExample)\n",
    "\n",
    "listExample5 = [6, 7, 8, 9, 10]\n",
    "zipListExample = zip (listExample, listExample5)\n",
    "for a, b in zipListExample:\n",
    "    print(f'{a} - {b}')\n",
    "\n",
    "# Enumerate allows for the printing out of both the index and its attached associated value\n",
    "dinosaursList = ['Triceratops', 'Velociraptor', 'Tyrannosaurus Rex']\n",
    "for index, dinosaur in enumerate(dinosaursList):\n",
    "    print(f'{index}: {dinosaur}')"
   ]
  },
  {
   "cell_type": "code",
   "execution_count": 52,
   "id": "49fe8df2",
   "metadata": {},
   "outputs": [
    {
     "name": "stdout",
     "output_type": "stream",
     "text": [
      "Feed Me!\n",
      "(hex) x is 0a, y is 02, z is 02\n",
      "(bin) x is 00001010, y is 00000010, z is 00000010\n"
     ]
    }
   ],
   "source": [
    "# Ternary Operator\n",
    "hungry = True\n",
    "print('Feed Me!') if hungry else print('Go Away!')\n",
    "\n",
    "# Bitwise Operators\n",
    "# &: And\n",
    "# |: Or\n",
    "# ^: Exclusive Or\n",
    "# <<: Shift Left\n",
    "# >>: SHift Right\n",
    "\n",
    "x = 0x0a\n",
    "y = 0x02\n",
    "#y = 0x0f\n",
    "z = x & y\n",
    "\n",
    "print(f'(hex) x is {x:02x}, y is {y:02x}, z is {z:02x}')\n",
    "print(f'(bin) x is {x:08b}, y is {y:08b}, z is {z:08b}')"
   ]
  },
  {
   "cell_type": "code",
   "execution_count": 56,
   "id": "62e10e32",
   "metadata": {},
   "outputs": [
    {
     "name": "stdout",
     "output_type": "stream",
     "text": [
      "1: What's the password? f\n",
      "3: What's the password? f\n",
      "False\n"
     ]
    }
   ],
   "source": [
    "# Loop with additional controls\n",
    "# break: Breaks out of the loop completly, terminating it early\n",
    "# coninue: Short cuts the loop, ignoring the rest of the body following the continue statement and \n",
    "# instead going immediatly onto the loop's next iteration when appropriate\n",
    "\n",
    "secretPassword = 'Swordfish'\n",
    "attemptedPassword = ''\n",
    "authorized = False\n",
    "maxNumAttempts = 3\n",
    "count = 0\n",
    "\n",
    "while(attemptedPassword != secretPassword):\n",
    "    count += 1\n",
    "    if(count > maxNumAttempts):\n",
    "        break;\n",
    "    if(count == 2):\n",
    "        continue;\n",
    "    attemptedPassword = input(f\"{count}: What's the password? \")\n",
    "else:\n",
    "    authorized = True\n",
    "    \n",
    "print(authorized)"
   ]
  },
  {
   "cell_type": "code",
   "execution_count": 57,
   "id": "0e1b7f34",
   "metadata": {},
   "outputs": [
    {
     "name": "stdout",
     "output_type": "stream",
     "text": [
      "Meow\n",
      "Hiss\n",
      "Purr\n"
     ]
    }
   ],
   "source": [
    "# Function Arguments Lists\n",
    "def catMain():\n",
    "    cat('Meow', 'Hiss', 'Purr')\n",
    "\n",
    "def cat(*args):\n",
    "    if len(args):\n",
    "        for s in args:\n",
    "            print(s)\n",
    "    else:\n",
    "        pring('Meow!')\n",
    "\n",
    "catMain()"
   ]
  },
  {
   "cell_type": "code",
   "execution_count": 67,
   "id": "ef3a635b",
   "metadata": {},
   "outputs": [
    {
     "name": "stdout",
     "output_type": "stream",
     "text": [
      "Bark goes the Medium sized dog age 10.\n",
      "Hello.\n"
     ]
    }
   ],
   "source": [
    "# Function Arguments Keyword Lists\n",
    "def dogMain():\n",
    "    #dog(Sound = 'Bark', Size = 'Medium', Age = '10')\n",
    "    dogDetailsDictionary = dict(Sound = 'Bark', Size = 'Medium', Age = '10')\n",
    "    dog(**dogDetailsDictionary)\n",
    "    \n",
    "\n",
    "# kwargs: Key Word Arguments\n",
    "def dog(**kwargs):\n",
    "    print('{} goes the {} sized dog age {}.'.format(kwargs['Sound'], kwargs['Size'], kwargs['Age']))\n",
    "\n",
    "dogMain()"
   ]
  },
  {
   "cell_type": "code",
   "execution_count": 2,
   "id": "b0ff569c",
   "metadata": {},
   "outputs": [
    {
     "name": "stdout",
     "output_type": "stream",
     "text": [
      "This is innerFunction1.\n",
      "Before function call.\n",
      "This is outerFunction2.\n",
      "After function call.\n"
     ]
    }
   ],
   "source": [
    "# Functions are objects\n",
    "def outerFunction1(functionArgument):\n",
    "    def innerFunction1():\n",
    "        print('This is innerFunction1.')\n",
    "        print('Before function call.')\n",
    "        functionArgument()\n",
    "        print('After function call.')\n",
    "    return innerFunction1()\n",
    "\n",
    "# 'outerFunction1' is essentially acting as a wrapper for 'innerFunction1'\n",
    "\n",
    "# Decorator Shortcut\n",
    "@outerFunction1\n",
    "def outerFunction2():\n",
    "    print('This is outerFunction2.')\n",
    "\n",
    "x = outerFunction1(outerFunction2)\n",
    "x()\n",
    "\n",
    "# Meta, Recursive, Self - Referential\n",
    "# Now only the wrapper remains, the function cannot be called directly, it must be called via the wrapper\n",
    "#outerFunction2 = outerFunction1(outerFunction2)\n",
    "outerFunction2()"
   ]
  },
  {
   "cell_type": "code",
   "execution_count": 28,
   "id": "5ff19bf4",
   "metadata": {},
   "outputs": [
    {
     "name": "stdout",
     "output_type": "stream",
     "text": [
      "A ValueError was caught.\n"
     ]
    }
   ],
   "source": [
    "# Exceptions\n",
    "# You can have as many 'except' error catchers for a single try block as you want\n",
    "def errorExampleFunction1():\n",
    "    try:\n",
    "        x = int('foo')\n",
    "    except ValueError:\n",
    "        print('A ValueError was caught.')\n",
    "    except ZeroDivisionError:\n",
    "        print(\"Dont't divide by zero.\")\n",
    "    # For errors you are not expecting\n",
    "    except:\n",
    "        print(f'Unknown Error: {sys.exc_info()}')\n",
    "        \n",
    "        # Raises and creates a custom error\n",
    "        raise TypeError(f'This is a custom Error.')\n",
    "    else:\n",
    "        print('Good job!')\n",
    "        print(x)\n",
    "    \n",
    "errorExampleFunction1()"
   ]
  },
  {
   "cell_type": "code",
   "execution_count": 46,
   "id": "8173478b",
   "metadata": {},
   "outputs": [
    {
     "name": "stdout",
     "output_type": "stream",
     "text": [
      "..........\n",
      "Done.\n"
     ]
    }
   ],
   "source": [
    "# Operating systems have different line endings and carriage returns, and so must be open and saved differently\n",
    "# Microsoft uses the CR + LF for example (ASCII 13 & 10)\n",
    "# Files are iterative, you can loop through them without having to load the entire file in buffer\n",
    "def copyTextFile():\n",
    "    # Open File Arguments\n",
    "    # r: Read mode\n",
    "    # w: Write mode, either overwrites an existing file, \n",
    "    # emptying it then starting at the beggining, \n",
    "    # or creates a new file from sracth if it doesn't already exist\n",
    "    # a: Append mode, like write but starts at the end of an already existing files content\n",
    "    # +: Read and write\n",
    "    # b: Binary mode\n",
    "    # t: Text mode (Default)\n",
    "    inFile = open('lines.txt', 'rt')\n",
    "    outFile = open('linesCopy.txt', 'wt')\n",
    "    for line in inFile:\n",
    "        # With this version, we can strip and replace the line endings\n",
    "        # rstrip(): Removes the newline meta character at the end of a file's line\n",
    "        print(line.rstrip(), file = outFile)\n",
    "        \n",
    "        # Or use \n",
    "        #outFile.writelines(line)\n",
    "        \n",
    "        # End in a specific fashion to prevent a new line, creating a sort of simple progress bar\n",
    "        # Flush depending on the type of operating system or nothing will print out until the entire\n",
    "        # process has been completed\n",
    "        print('.', end = '', flush = True)\n",
    "    \n",
    "    # Ensure the closing of a file to prevent data loss due to buffering\n",
    "    outFile.close()\n",
    "    print('\\nDone.')\n",
    "    \n",
    "#copyTextFile()"
   ]
  },
  {
   "cell_type": "code",
   "execution_count": 48,
   "id": "63a9f780",
   "metadata": {},
   "outputs": [],
   "source": [
    "# Image files must be read as binary, as they are obviously not text\n",
    "def copyImageFile():\n",
    "    inFile = open('image.jpg', 'rb')\n",
    "    outFile = open('imageCopy.jpg', 'wb')\n",
    "    while True:\n",
    "        # Requires a buffer, in this case of size 10kb\n",
    "        memoryBuffer = inFile.read(10240)\n",
    "        if memoryBuffer:\n",
    "            outFile.write(memoryBuffer)\n",
    "            print('.', end = '', flush = True)\n",
    "    outFile.close()\n",
    "    print('\\nDone.')\n",
    "    \n",
    "#copyImageFile()"
   ]
  },
  {
   "cell_type": "code",
   "execution_count": 25,
   "id": "42fed253",
   "metadata": {},
   "outputs": [
    {
     "name": "stdout",
     "output_type": "stream",
     "text": [
      "Quack!\n",
      "The duck wadles.\n",
      "Quack!\n",
      "The duck wadles.\n"
     ]
    }
   ],
   "source": [
    "# By having this conditional statemnt at the bottom of the script\n",
    "# the interpretor is forced to read through the entire script before it executes\n",
    "# any of the code, allowing for a more procedural style of programming, as Python\n",
    "# requires a function to be defined before it is called\n",
    "if __name__ == '__main__': main()"
   ]
  },
  {
   "cell_type": "code",
   "execution_count": null,
   "id": "fac80e89",
   "metadata": {},
   "outputs": [],
   "source": []
  }
 ],
 "metadata": {
  "kernelspec": {
   "display_name": "Python 3 (ipykernel)",
   "language": "python",
   "name": "python3"
  },
  "language_info": {
   "codemirror_mode": {
    "name": "ipython",
    "version": 3
   },
   "file_extension": ".py",
   "mimetype": "text/x-python",
   "name": "python",
   "nbconvert_exporter": "python",
   "pygments_lexer": "ipython3",
   "version": "3.10.4"
  }
 },
 "nbformat": 4,
 "nbformat_minor": 5
}
