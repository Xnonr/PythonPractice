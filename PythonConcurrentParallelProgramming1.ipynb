{
 "cells": [
  {
   "cell_type": "code",
   "execution_count": null,
   "id": "181a4c60",
   "metadata": {},
   "outputs": [],
   "source": [
    "\"\"\" Parallel Computing Architectures:\n",
    "\n",
    "\n",
    "\"\"\""
   ]
  },
  {
   "cell_type": "code",
   "execution_count": null,
   "id": "fe23a6d2",
   "metadata": {},
   "outputs": [],
   "source": [
    "\"\"\" Shared VS. Distributed Memory:\n",
    "\n",
    "Shared Memory:\n",
    "    All processors access the same memory as part of a global address space\n",
    "    Although each processor operates independetly if one processor changes a memory location, \n",
    "        all other processors will see that change\n",
    "    Memory does not necessarily need to be one piece of hardware and could be split up or via the internet, the key\n",
    "        is that the processors see that the allocated memory, whatever it may be, is shared between themselves\n",
    "\n",
    "Categories: Based upon how the processors are connected to the memory and quickly they can access it\n",
    "    Uniform Memory Access (UMA): All processors have equal access to the memory meaning \n",
    "        they can access it equally fast\n",
    "    Non-uniform Memory Access (NUMA):\n",
    "\n",
    "\n",
    "Distributed Memory:\n",
    "\n",
    "\n",
    "\"\"\" "
   ]
  },
  {
   "cell_type": "code",
   "execution_count": null,
   "id": "caf2c05c",
   "metadata": {},
   "outputs": [],
   "source": [
    "\"\"\" Concurrent VS. Parallel Execution:\n",
    "\n",
    "\n",
    "\"\"\""
   ]
  },
  {
   "cell_type": "code",
   "execution_count": null,
   "id": "27b3fda5",
   "metadata": {},
   "outputs": [],
   "source": [
    "\"\"\"\n",
    "Global Interpreter Lock (GIL): Mechanism that limits Python to only execute one thread at a time\n",
    "CPython: Default and most widely used Python interpreter, uses GIL for thread-safe operations\n",
    "I/O-Bound Applications: GIL is not a bottleneck, use the Python threading module\n",
    "CPU-Bound Applications: GIL can negatively impact multithreaded application, implement parallel algorithms as \n",
    "    external library functions, use the Python multiprocessing package\n",
    "\"\"\""
   ]
  },
  {
   "cell_type": "code",
   "execution_count": 8,
   "id": "e01856d3",
   "metadata": {},
   "outputs": [
    {
     "name": "stdout",
     "output_type": "stream",
     "text": [
      "Collecting readerwriterlock\n",
      "  Downloading readerwriterlock-1.0.9-py3-none-any.whl (10.0 kB)\n",
      "Requirement already satisfied: typing-extensions in /opt/homebrew/Caskroom/miniforge/base/envs/mlp/lib/python3.10/site-packages (from readerwriterlock) (4.2.0)\n",
      "Installing collected packages: readerwriterlock\n",
      "Successfully installed readerwriterlock-1.0.9\n"
     ]
    }
   ],
   "source": [
    "# Installing Dependencies\n",
    "#!pip3 install readerwriterlock"
   ]
  },
  {
   "cell_type": "code",
   "execution_count": 12,
   "id": "dab9a896",
   "metadata": {},
   "outputs": [],
   "source": [
    "# Importing Dependencies\n",
    "import os\n",
    "import multiprocessing as mp\n",
    "from readerwriterlock import rwlock\n",
    "import threading\n",
    "import time"
   ]
  },
  {
   "cell_type": "code",
   "execution_count": null,
   "id": "9a9f8019",
   "metadata": {},
   "outputs": [],
   "source": [
    "# A simple function which wastes CPU cycles forever\n",
    "def cpu_waster():\n",
    "    while(True):\n",
    "        pass"
   ]
  },
  {
   "cell_type": "code",
   "execution_count": null,
   "id": "7c338251",
   "metadata": {},
   "outputs": [],
   "source": [
    "# Displays information about the process\n",
    "def print_thread_information():\n",
    "    print('\\nProcess ID: ', os.getpid())\n",
    "    print('Thread Count: ', threading.active_count())\n",
    "\n",
    "    for thread in threading.enumerate():\n",
    "        print(thread)"
   ]
  },
  {
   "cell_type": "code",
   "execution_count": null,
   "id": "81676959",
   "metadata": {},
   "outputs": [],
   "source": [
    "print_thread_information()"
   ]
  },
  {
   "cell_type": "code",
   "execution_count": null,
   "id": "49726acf",
   "metadata": {},
   "outputs": [],
   "source": [
    "# Multiple Threads\n",
    "print('Starting 12 CPU Wasters...')\n",
    "\n",
    "for i in range(12):\n",
    "    threading.Thread(target = cpu_waster).start()\n",
    "    \n",
    "print_thread_information()"
   ]
  },
  {
   "cell_type": "code",
   "execution_count": null,
   "id": "0d24dc0f",
   "metadata": {},
   "outputs": [],
   "source": [
    "# Multiple Processors\n",
    "print('Name: ', __name__)\n",
    "\n",
    "if __name__ == '__main__':\n",
    "    print('Starting 12 CPU Wasters...')\n",
    "\n",
    "    for i in range(12):\n",
    "        mp.Process(target = cpu_waster).start()\n",
    "    \n",
    "    print_thread_information()"
   ]
  },
  {
   "cell_type": "code",
   "execution_count": null,
   "id": "29089ff1",
   "metadata": {},
   "outputs": [],
   "source": [
    "\"\"\" Execution Scheduling:\n",
    "\n",
    "Scheduler: Opearting system function that assigns processes and threads to run on available CPUs\n",
    "    Enables multiple programs to run concurrently on a single processor\n",
    "    When a process is created and ready to run, it is placed within the Ready Aueue, then the scheduler tells\n",
    "        that process when it is allowed to use an available processor, cycling through all processes\n",
    "    A process will run until it finishes, then the schedular will select the next process to run on the newly\n",
    "        available processor\n",
    "    If a process is blocked, it goes to an I/O Waiting Queue to free up a processor in the meantime\n",
    "\n",
    "Context Switch: Storing the state of a process or thread to resume later, loading the saved state for the new\n",
    "    process of thread to run\n",
    "    Occurs when the sceduler determines a process has had its fair amount of time with a processor, and switches\n",
    "        it out for another process until its own alloted time has passed, at which point it switches back\n",
    "    Not instantaneous, time is needed to save and restore registers and memory states when switching\n",
    "        \n",
    "Scheduling Algorithms:\n",
    "    Preemptive Algorithms: May pause or preempt a running, low priority task when a high priority task enters the\n",
    "        ready state\n",
    "    Non-Preemptive Algorithms: Once a process enters the running state, it will be allowed to run for its alloted\n",
    "        time\n",
    "    Types of Algorithms:\n",
    "        1st Come, 1st Served:\n",
    "        Shortest Job Next:\n",
    "        Priority:\n",
    "        Shortest Remaining Time:\n",
    "        Round-Robin:\n",
    "        Multiple-Level Queues:\n",
    "        \n",
    "Scheduling Goals:\n",
    "    Maximize Throughput\n",
    "    Maximize Fairness\n",
    "    Minimize Wait Time\n",
    "    Minimize Latency\n",
    "\"\"\""
   ]
  },
  {
   "cell_type": "code",
   "execution_count": null,
   "id": "a07b957f",
   "metadata": {},
   "outputs": [],
   "source": [
    "chopping = True"
   ]
  },
  {
   "cell_type": "code",
   "execution_count": null,
   "id": "807a0812",
   "metadata": {},
   "outputs": [],
   "source": [
    "def vegetable_chopper():\n",
    "    name = threading.current_thread().getName()\n",
    "    vegetable_count = 0\n",
    "    \n",
    "    while chopping:\n",
    "        print(name, 'Chopped a vegetable.')\n",
    "        vegetable_count += 1\n",
    "    \n",
    "    print(name, 'Chopped ', vegetable_count, ' vegetables.')"
   ]
  },
  {
   "cell_type": "code",
   "execution_count": null,
   "id": "d9ab7c5a",
   "metadata": {},
   "outputs": [],
   "source": [
    "if __name__ = '__main__':\n",
    "    # Creates 2 threads, both starting at almost the same time\n",
    "    # Python allows for the naming of threads however you so desire for human friendly identification\n",
    "    threading.Thread(target = vegetable_chopper, name = 'Kirk')\n",
    "    threading.Thread(target = vegetable_chopper, name = 'Picard')\n",
    "    \n",
    "    # Has both threads chop vegetables for a total of about 1 second\n",
    "    time.sleep(1) \n",
    "    \n",
    "    # Halts both threads from chopping vegetables\n",
    "    chopping = False\n",
    "    \n",
    "    # Scheduling is not always fair, nor consistent, as Kirk chopped 778 vegetables, whilst Picard chopped only 200"
   ]
  },
  {
   "cell_type": "code",
   "execution_count": null,
   "id": "d403e994",
   "metadata": {},
   "outputs": [],
   "source": [
    "\"\"\" Thread Lifecycle:\n",
    "\n",
    "When a new process or program begins running, it will start with just 1 thread, the Main Thread\n",
    "The main thread can then start or spawn additional Child Threads to help out\n",
    "    Are part of the same process but execute independently to do other tasks\n",
    "    These can spawn their own child threads and so on\n",
    "As threads finish executing, they will notfiy their parent threads and terminate, with the main thread often being\n",
    "    the last to do so\n",
    "\n",
    "Thread States:\n",
    "    New: A thread that has been newly created but is not yet actually running or take up any CPU resources\n",
    "        Needs to be assigned a function as part of the spawning process\n",
    "    Runnable: When a thread has actually been started\n",
    "        Some programming langauges, like Java, explicitly require threads to be told to start rather then start\n",
    "            automatically\n",
    "    Blocked: When a thread is waiting for some reason before resuming to the runnable state\n",
    "    Terminate: When a thread completes its execution or is abnormally aborted\n",
    "\"\"\""
   ]
  },
  {
   "cell_type": "code",
   "execution_count": null,
   "id": "2b7e0a2a",
   "metadata": {},
   "outputs": [],
   "source": [
    "# Class inherits from 'threading.Thread' and overrides 2 of its methods, 'init' and 'run'\n",
    "class ChefDarthVader(threading.Thread):\n",
    "    \n",
    "    # These are the only 2 methods that should be overidden when taking this approache\n",
    "    \n",
    "    def __init__(self):\n",
    "        # Important to include this 'super' or Python shall throw an error\n",
    "        super().__init__()\n",
    "    \n",
    "    # Code to execute once a thread is started up\n",
    "    def run(self):\n",
    "        print('Vader has started as is waiting for the cookies to bake...')\n",
    "        time.sleep(3)\n",
    "        print('Vader is done baking the cookies.')"
   ]
  },
  {
   "cell_type": "code",
   "execution_count": null,
   "id": "9af324d7",
   "metadata": {},
   "outputs": [],
   "source": [
    "# Main Thread\n",
    "if __name__ == '__main__':\n",
    "    print(\"Palpatine has started up and is requesting Vader's help.\")\n",
    "    chefDarthVader = ChefDarthVader()\n",
    "    print('Is Vader Alive: ', chefDarthVader.is_alive())\n",
    "          \n",
    "    print('Palpatine tells Vader to start.')\n",
    "    chefDarthVader.start()\n",
    "    print('Is Vader Alive: ', chefDarthVader.is_alive())\n",
    "          \n",
    "    print(\"Palpatine continues to oversee Vader's baking.\")\n",
    "    time.sleep(0.5)\n",
    "    print('Is Vader Alive: ', chefDarthVader.is_alive())\n",
    "          \n",
    "    print('Palpatine patiently waits for Vader to finish and join him')\n",
    "    chefDarthVader.join()\n",
    "    print('Is Vader Alive: ', chefDarthVader.is_alive())\n",
    "    \n",
    "    print('Palpatine and Vader are both done.')\n",
    "    \n",
    "    # Lines starting with Palpatine are the main thread, whilst lines starting with Vader are the child thread"
   ]
  },
  {
   "cell_type": "code",
   "execution_count": null,
   "id": "07dedc28",
   "metadata": {},
   "outputs": [],
   "source": [
    "\"\"\" Daemon (Background) Thread:\n",
    "\n",
    "Garbage Collector:\n",
    "    Automatic memory management that runs in the background and attempts to reclaim garbage, or memory \n",
    "        no longer being used by the program\n",
    "    Many languages include garbage collection as a standard part of their runtime environment\n",
    "\n",
    "Threads which perform background tasks can be detached from the main program, like garbage collection\n",
    "Do not prevent the main or parent process from terminating even if the daemon thread is still running\n",
    "    Otherwise, the process could never terminate if garbage collection was a non-daemon thread\n",
    "By default, threads are created as non-daemon threads\n",
    "When detaching a thread, ensure that there won't be any negative side effects, such as data corruptuion\n",
    "    when it prematurely exits upon the main process terminating\n",
    "When new threads are created, they inherit their parent thread's daemon status\n",
    "The daemon property must be set to change a thread's status before starting it, otherwise Python will raise a \n",
    "    runtime error\n",
    "Daemon threads do not exist gracefully and are abandoned abruptly when the program ends and Python exits\n",
    "\"\"\""
   ]
  },
  {
   "cell_type": "code",
   "execution_count": null,
   "id": "d293f7c6",
   "metadata": {},
   "outputs": [],
   "source": [
    "def starship_repair():\n",
    "    while(True):\n",
    "        print('Han Solo is repairing the Millennium Falcon.')\n",
    "        time.sleep(1)"
   ]
  },
  {
   "cell_type": "code",
   "execution_count": null,
   "id": "a2833cce",
   "metadata": {},
   "outputs": [],
   "source": [
    "if __name__ == '__main__':\n",
    "    \n",
    "    # As is, when the main thread finishes, the process will not terminate and continue of forever as\n",
    "    # han_solo is a normal child thread and never terminates, keeping the process going\n",
    "    han_solo = threading.Thread(target = starship_repair)\n",
    "    \n",
    "    # Daemon required to set in background and terminate upon main thread finishing\n",
    "    #han_solo.daemon = True\n",
    "    #han_solo.start()\n",
    "    \n",
    "    print('Chewie is flying the ship...')\n",
    "    time.sleep(0.6)\n",
    "    print('Chewie is flying the ship...')\n",
    "    time.sleep(0.6)\n",
    "    print('Chewie is flying the ship...')\n",
    "    time.sleep(0.6)\n",
    "    print('Chewie has landed the ship and is done.')\n",
    "    time.sleep(0.6)"
   ]
  },
  {
   "cell_type": "code",
   "execution_count": null,
   "id": "806b826f",
   "metadata": {},
   "outputs": [],
   "source": [
    "\"\"\" Data Race:\n",
    "Problem that occurs when 2 or more concurrent threads access the same memory location and at least 1 thread is\n",
    "    attempting to modify it\n",
    "Occurs during the Read, Modify, Write (RMW) process\n",
    "The operating system is in charge of in which order concurrent threads must execute\n",
    "\"\"\""
   ]
  },
  {
   "cell_type": "code",
   "execution_count": null,
   "id": "d97134c8",
   "metadata": {},
   "outputs": [],
   "source": [
    "''' Mutual Exclusion:\n",
    "\n",
    "Critical Section:\n",
    "    Code segment that access a shared resource\n",
    "    Should not be executed by more than one thread or process at a time\n",
    "    \n",
    "Mutex (Lock):\n",
    "    Mechanism to implement mutual exclusion\n",
    "    Only 1 thread or process may pocess the lock at a time\n",
    "    Limits acess to the critical section\n",
    "    If a lock is already taken, threads attempting to aquire it are blocked and must wait for it to be released\n",
    "        by whichever other thread or process is currently using it\n",
    "    \n",
    "Atomic Operation:\n",
    "    Executes a single, indivisible action, relative to other threads\n",
    "    Cannot be interupted by other concurrent threads\n",
    "\n",
    "'''"
   ]
  },
  {
   "cell_type": "code",
   "execution_count": null,
   "id": "31e7a996",
   "metadata": {},
   "outputs": [],
   "source": [
    "''' Locks:\n",
    "\n",
    "Deadlock: All processes and threads are unable to continue executing\n",
    "    Occurs if a thread attempts to lock a mutex that it has already locked, it will enter into a waiting list\n",
    "        for said mutex, waiting forever\n",
    "    Each member of a group is waiting for another member to take action, and as a result neither member is\n",
    "        able to make progress\n",
    "    Common challenge in concurrent programs which make use of mutual exclusion mechanisms to protect\n",
    "        critical sections of code\n",
    "        \n",
    "Liveness: A set of properties which require concurrent programs to make progress, even if threads must take turns\n",
    "    in critical sections, so long as all eventually make some progress\n",
    "    \n",
    "Lock Ordering: Ensure locks are always taken in the same order by any thread\n",
    "    Helps to prevent deadlocks, but not always feasible as methods may not be aware of all of the locks\n",
    "        they will require\n",
    "        \n",
    "Lock Timeout: Puts a timeout on lock attempts\n",
    "    If a thread is unable to aquire all of the locks it requires within a given amount of time:\n",
    "        The thread backs up and frees up all of the locks it had aquired so far\n",
    "        The thread waits for a random amount of time\n",
    "        The thread then tries again\n",
    "        \n",
    "Abandoned Lock: If 1 thread or process aquires a lock and then terminates for whatever reason, it might not\n",
    "    automatically release the lock before it disapeares, taking said lock with it and resulting in another form\n",
    "    of deadlock\n",
    "    \n",
    "Starvation: When a process thread is unable to gain or perpetually denied access to a necessary resource\n",
    "    Progress is unable to be made\n",
    "    Might occur due to how the operating system times threads, resulting in threads being unable to gain\n",
    "        access to locks that have been released quickly enough before they are retaken\n",
    "    How threads are prioritized also determines how often they execute, potentially resulting in a greedy thread\n",
    "        always seizing the required locks before the others, shutting them out unintentionally\n",
    "    Can also occur when there are too many competing concurrent threads\n",
    "    \n",
    "Livelock: Multiple threads or processes are actively responding to each other to resolve conflict, but that\n",
    "    prevents them from making progress\n",
    "    Similar to a deadlock, but without the waiting\n",
    "    Occurs when threads are designed to respond to each others actions, and ironically are side affects of\n",
    "        attempts to avoid deadlocks\n",
    "    To avoid livelocks, give priority to certain threads by some mechanism and have only on process take action\n",
    "\n",
    "Reentrant & Recursive Lock: A mutex which can be be locked multiple times by the same process or thread\n",
    "    Internally keeps track of how many times it has been locked by the current thread and must be unlocked \\\n",
    "        an equal number of times before another thread may lock it\n",
    "    Often used with recursive functions with locks included, as well as nested functions\n",
    "    A regular lock can be released by a different thread than was used to aquire it, whilst a reentrant lock\n",
    "        must be released by the same thread which aquired it\n",
    "        \n",
    "Try Lock & Enter: Non blocking lock and aquiring method for mutexes\n",
    "    If the mutex is available, it wil be locked and TRUE is returned\n",
    "    If the mutex is unavailable and already poccessed by another process or thread, a FALSE is immediately returned\n",
    "    Used to avoid having threads waiting and allow them to carry out other tasks instead in the meantime\n",
    "\n",
    "Read & Write Lock: Shared Mutex\n",
    "    Regular locks only permit 1 thread at a time to access a shared resource, which is good practice when \n",
    "        multiple threads are writing to avoid hiccups but inneficient when reading as no changes are taking place\n",
    "    2 Versions:\n",
    "        Shared Read: Multiple threads that only need to read can access the same shared resource all at once\n",
    "        Exclusive Write: Limits access to 1 single thread at a time to allow safe writing to the shared resource\n",
    "    A calender is a good exaple of where a shared mutex might prove useful\n",
    "    Makes more sense to use this sort of lock when it is expected that many more threads will be reading than\n",
    "        writing in a given scenario, such as with a database application\n",
    "    Variations:\n",
    "        RWLockFair: Fair and equal priority for readers and writers\n",
    "        RWLockRead & RWLockWrite: Gives unequal priority to either readers or writers\n",
    "    Methods:\n",
    "        gen_rlock(): Generates a reader lock for reading which can be held by multiple threads at once\n",
    "        gen_wlock(): Generates a writer lock for writing which can only be held by 1 single thread at a time\n",
    "\n",
    "'''"
   ]
  },
  {
   "cell_type": "code",
   "execution_count": 3,
   "id": "b56be897",
   "metadata": {},
   "outputs": [],
   "source": [
    "global_count = 0\n",
    "\n",
    "# For mutual exclusion and to prevent data races\n",
    "thread_lock = threading.Lock()\n",
    "reentrant_lock = threading.RLock()\n",
    "try_lock = threading.Lock()"
   ]
  },
  {
   "cell_type": "code",
   "execution_count": 6,
   "id": "316f599b",
   "metadata": {},
   "outputs": [],
   "source": [
    "def data_race_counter():\n",
    "    global global_count\n",
    "    \n",
    "    thread_lock.acquire()\n",
    "    \n",
    "    # if try_lock.aquire(blocking = False):\n",
    "    # else:\n",
    "    \n",
    "    for i in range(10):\n",
    "        global_count += 1    \n",
    "        \n",
    "    thread_lock.release()"
   ]
  },
  {
   "cell_type": "code",
   "execution_count": 7,
   "id": "96a16bc7",
   "metadata": {
    "scrolled": true
   },
   "outputs": [
    {
     "name": "stdout",
     "output_type": "stream",
     "text": [
      "The global count is 20\n"
     ]
    }
   ],
   "source": [
    "if __name__ == '__main__':\n",
    "    counting_thread1 = threading.Thread(target = data_race_counter)\n",
    "    counting_thread2 = threading.Thread(target = data_race_counter)\n",
    "    \n",
    "    counting_thread1.start()\n",
    "    counting_thread2.start()\n",
    "    \n",
    "    counting_thread1.join()\n",
    "    counting_thread2.join()\n",
    "    \n",
    "    print('The global count is', global_count)\n",
    "    \n",
    "    # The correct output should be double the count, so 20\n",
    "    # The data race results in overwriting each others value during the RMW process, resulting in errors"
   ]
  },
  {
   "cell_type": "code",
   "execution_count": 13,
   "id": "fe17b660",
   "metadata": {},
   "outputs": [],
   "source": [
    "WEEKDAYS = ['Monday', 'Tuesday', 'Wednesday', 'Thursday', 'Friday', 'Saturday', 'Sunday']\n",
    "today = 0\n",
    "marker = rwlock.RWLockFair()"
   ]
  },
  {
   "cell_type": "code",
   "execution_count": 28,
   "id": "554cfb3a",
   "metadata": {},
   "outputs": [],
   "source": [
    "def calendar_reader(id_number):\n",
    "    global today\n",
    "    reader_marker = marker.gen_rlock()\n",
    "    name = 'Reader ' + str(id_number)\n",
    "    while(today < len(WEEKDAYS) -1):\n",
    "        reader_marker.acquire()\n",
    "        #print(name + ' observes that today is ', WEEKDAYS[today], ' Reader Thread Count: ', reader_marker.c_rw_lock_.v_read_count)\n",
    "        reader_marker.release()"
   ]
  },
  {
   "cell_type": "code",
   "execution_count": 29,
   "id": "2b476cb9",
   "metadata": {},
   "outputs": [],
   "source": [
    "def calendar_writer(id_number):\n",
    "    global today\n",
    "    writer_marker = marker.gen_wlock()\n",
    "    name = 'Writer ' + str(id_number)\n",
    "    while(today < len(WEEKDAYS) -1):\n",
    "        writer_marker.acquire()\n",
    "        today = (today + 1) % 7\n",
    "        print(name + ' updated the date to ', WEEKDAYS[today])\n",
    "        writer_marker.release()"
   ]
  },
  {
   "cell_type": "code",
   "execution_count": 30,
   "id": "6644f6cd",
   "metadata": {},
   "outputs": [],
   "source": [
    "# Both the calendar reader and writer methods continously run until they observe to have reaced the end of the week\n",
    "if __name__ == '__main__':\n",
    "    \n",
    "    # Creates 10 reader threads\n",
    "    for reader_thread in range(10):\n",
    "        threading.Thread(target = calendar_reader, args = (reader_thread, )).start()\n",
    "        \n",
    "    # Creates 2 writer threads\n",
    "    for writer_thread in range(2):\n",
    "        threading.Thread(target = calendar_writer, args = (writer_thread, )).start()"
   ]
  }
 ],
 "metadata": {
  "kernelspec": {
   "display_name": "Python 3 (ipykernel)",
   "language": "python",
   "name": "python3"
  },
  "language_info": {
   "codemirror_mode": {
    "name": "ipython",
    "version": 3
   },
   "file_extension": ".py",
   "mimetype": "text/x-python",
   "name": "python",
   "nbconvert_exporter": "python",
   "pygments_lexer": "ipython3",
   "version": "3.10.4"
  }
 },
 "nbformat": 4,
 "nbformat_minor": 5
}
